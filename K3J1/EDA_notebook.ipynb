{
 "cells": [
  {
   "cell_type": "code",
   "id": "initial_id",
   "metadata": {
    "collapsed": true,
    "jupyter": {
     "is_executing": true
    }
   },
   "source": [
    "import numpy as np\n",
    "import pandas as pd\n",
    "import matplotlib.pyplot as plt\n",
    "import seaborn as sns\n",
    "\n",
    "df = pd.read_csv('./data/data.csv')"
   ],
   "outputs": [],
   "execution_count": null
  },
  {
   "metadata": {
    "ExecuteTime": {
     "end_time": "2024-10-27T08:03:49.000968Z",
     "start_time": "2024-10-27T08:03:48.991122Z"
    }
   },
   "cell_type": "code",
   "source": "# 김정아 코드 시작",
   "id": "c0f218870497762e",
   "outputs": [],
   "execution_count": 1
  },
  {
   "metadata": {
    "ExecuteTime": {
     "end_time": "2024-10-27T08:03:51.800960Z",
     "start_time": "2024-10-27T08:03:51.794629Z"
    }
   },
   "cell_type": "code",
   "source": "# 김희애 코드 시작",
   "id": "43ff07cde43fae81",
   "outputs": [],
   "execution_count": 2
  },
  {
   "metadata": {
    "ExecuteTime": {
     "end_time": "2024-10-27T08:04:04.763485Z",
     "start_time": "2024-10-27T08:04:04.756281Z"
    }
   },
   "cell_type": "code",
   "source": "# 조은비 코드 시작",
   "id": "50475f7cfe6ccf61",
   "outputs": [],
   "execution_count": 3
  },
  {
   "metadata": {
    "ExecuteTime": {
     "end_time": "2024-10-27T08:04:14.939994Z",
     "start_time": "2024-10-27T08:04:14.931787Z"
    }
   },
   "cell_type": "code",
   "source": "# 김진수 코드 시작",
   "id": "415a87ccaf6d6a84",
   "outputs": [],
   "execution_count": 4
  },
  {
   "metadata": {},
   "cell_type": "code",
   "outputs": [],
   "execution_count": null,
   "source": "",
   "id": "8f36af5cba4459f3"
  }
 ],
 "metadata": {
  "kernelspec": {
   "display_name": "Python 3",
   "language": "python",
   "name": "python3"
  },
  "language_info": {
   "codemirror_mode": {
    "name": "ipython",
    "version": 2
   },
   "file_extension": ".py",
   "mimetype": "text/x-python",
   "name": "python",
   "nbconvert_exporter": "python",
   "pygments_lexer": "ipython2",
   "version": "2.7.6"
  }
 },
 "nbformat": 4,
 "nbformat_minor": 5
}
