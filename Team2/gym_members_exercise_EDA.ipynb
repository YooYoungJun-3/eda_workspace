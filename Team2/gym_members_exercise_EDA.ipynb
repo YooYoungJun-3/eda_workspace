{
 "cells": [
  {
   "cell_type": "code",
   "id": "initial_id",
   "metadata": {
    "collapsed": true,
    "ExecuteTime": {
     "end_time": "2024-10-27T12:27:36.256945Z",
     "start_time": "2024-10-27T12:27:36.253944Z"
    }
   },
   "source": [
    "from sklearn.linear_model import LogisticRegression\n",
    "from sklearn.model_selection import train_test_split\n",
    "import pandas as pd\n",
    "import seaborn as sns\n",
    "import matplotlib.pyplot as plt\n",
    "import numpy as np\n",
    "from sklearn.preprocessing import StandardScaler"
   ],
   "outputs": [],
   "execution_count": 73
  },
  {
   "metadata": {
    "ExecuteTime": {
     "end_time": "2024-10-27T12:27:36.277357Z",
     "start_time": "2024-10-27T12:27:36.274780Z"
    }
   },
   "cell_type": "code",
   "source": [
    "# import matplotlib.font_manager as fm\n",
    "# font_path = 'C://Windows//Fonts//JejuMyeongjo.ttf'\n",
    "# font = fm.FontProperties(fname=font_path).get_name()\n",
    "# plt.rc('font',family=font)"
   ],
   "id": "becf387c57fced19",
   "outputs": [],
   "execution_count": 74
  },
  {
   "metadata": {},
   "cell_type": "markdown",
   "source": "# 헬스장의 성별 - 연령대별 선호 운동의 수치 및 해당 운동의 칼로리 소모량 정리",
   "id": "1d6a9319f490c782"
  },
  {
   "metadata": {
    "ExecuteTime": {
     "end_time": "2024-10-27T12:27:36.350162Z",
     "start_time": "2024-10-27T12:27:36.348267Z"
    }
   },
   "cell_type": "code",
   "source": [
    "# #노트북 데이터 불러오기\n",
    "# gym_df = pd.read_csv('C:\\Workspaces\\ml_worspace\\Choisoovin\\data\\gym_members_exercise_tracking.csv')\n",
    "# gym_df"
   ],
   "id": "b8d44b8238fc45f7",
   "outputs": [],
   "execution_count": 75
  },
  {
   "metadata": {
    "ExecuteTime": {
     "end_time": "2024-10-27T12:27:36.433918Z",
     "start_time": "2024-10-27T12:27:36.420595Z"
    }
   },
   "cell_type": "code",
   "source": [
    "#데스크탑 데이터 불러오기\n",
    "gym_df = pd.read_csv('C:/Users/w1945/OneDrive/바탕 화면/code/ML/Choisoovin/data/gym_members_exercise_tracking.csv')\n",
    "gym_df"
   ],
   "id": "6bcfc2c0ffcbc23a",
   "outputs": [
    {
     "data": {
      "text/plain": [
       "     Age  Gender  Weight (kg)  Height (m)  Max_BPM  Avg_BPM  Resting_BPM  \\\n",
       "0     56    Male         88.3        1.71      180      157           60   \n",
       "1     46  Female         74.9        1.53      179      151           66   \n",
       "2     32  Female         68.1        1.66      167      122           54   \n",
       "3     25    Male         53.2        1.70      190      164           56   \n",
       "4     38    Male         46.1        1.79      188      158           68   \n",
       "..   ...     ...          ...         ...      ...      ...          ...   \n",
       "968   24    Male         87.1        1.74      187      158           67   \n",
       "969   25    Male         66.6        1.61      184      166           56   \n",
       "970   59  Female         60.4        1.76      194      120           53   \n",
       "971   32    Male        126.4        1.83      198      146           62   \n",
       "972   46    Male         88.7        1.63      166      146           66   \n",
       "\n",
       "     Session_Duration (hours)  Calories_Burned Workout_Type  Fat_Percentage  \\\n",
       "0                        1.69           1313.0         Yoga            12.6   \n",
       "1                        1.30            883.0         HIIT            33.9   \n",
       "2                        1.11            677.0       Cardio            33.4   \n",
       "3                        0.59            532.0     Strength            28.8   \n",
       "4                        0.64            556.0     Strength            29.2   \n",
       "..                        ...              ...          ...             ...   \n",
       "968                      1.57           1364.0     Strength            10.0   \n",
       "969                      1.38           1260.0     Strength            25.0   \n",
       "970                      1.72            929.0       Cardio            18.8   \n",
       "971                      1.10            883.0         HIIT            28.2   \n",
       "972                      0.75            542.0     Strength            28.8   \n",
       "\n",
       "     Water_Intake (liters)  Workout_Frequency (days/week)  Experience_Level  \\\n",
       "0                      3.5                              4                 3   \n",
       "1                      2.1                              4                 2   \n",
       "2                      2.3                              4                 2   \n",
       "3                      2.1                              3                 1   \n",
       "4                      2.8                              3                 1   \n",
       "..                     ...                            ...               ...   \n",
       "968                    3.5                              4                 3   \n",
       "969                    3.0                              2                 1   \n",
       "970                    2.7                              5                 3   \n",
       "971                    2.1                              3                 2   \n",
       "972                    3.5                              2                 1   \n",
       "\n",
       "       BMI  \n",
       "0    30.20  \n",
       "1    32.00  \n",
       "2    24.71  \n",
       "3    18.41  \n",
       "4    14.39  \n",
       "..     ...  \n",
       "968  28.77  \n",
       "969  25.69  \n",
       "970  19.50  \n",
       "971  37.74  \n",
       "972  33.38  \n",
       "\n",
       "[973 rows x 15 columns]"
      ],
      "text/html": [
       "<div>\n",
       "<style scoped>\n",
       "    .dataframe tbody tr th:only-of-type {\n",
       "        vertical-align: middle;\n",
       "    }\n",
       "\n",
       "    .dataframe tbody tr th {\n",
       "        vertical-align: top;\n",
       "    }\n",
       "\n",
       "    .dataframe thead th {\n",
       "        text-align: right;\n",
       "    }\n",
       "</style>\n",
       "<table border=\"1\" class=\"dataframe\">\n",
       "  <thead>\n",
       "    <tr style=\"text-align: right;\">\n",
       "      <th></th>\n",
       "      <th>Age</th>\n",
       "      <th>Gender</th>\n",
       "      <th>Weight (kg)</th>\n",
       "      <th>Height (m)</th>\n",
       "      <th>Max_BPM</th>\n",
       "      <th>Avg_BPM</th>\n",
       "      <th>Resting_BPM</th>\n",
       "      <th>Session_Duration (hours)</th>\n",
       "      <th>Calories_Burned</th>\n",
       "      <th>Workout_Type</th>\n",
       "      <th>Fat_Percentage</th>\n",
       "      <th>Water_Intake (liters)</th>\n",
       "      <th>Workout_Frequency (days/week)</th>\n",
       "      <th>Experience_Level</th>\n",
       "      <th>BMI</th>\n",
       "    </tr>\n",
       "  </thead>\n",
       "  <tbody>\n",
       "    <tr>\n",
       "      <th>0</th>\n",
       "      <td>56</td>\n",
       "      <td>Male</td>\n",
       "      <td>88.3</td>\n",
       "      <td>1.71</td>\n",
       "      <td>180</td>\n",
       "      <td>157</td>\n",
       "      <td>60</td>\n",
       "      <td>1.69</td>\n",
       "      <td>1313.0</td>\n",
       "      <td>Yoga</td>\n",
       "      <td>12.6</td>\n",
       "      <td>3.5</td>\n",
       "      <td>4</td>\n",
       "      <td>3</td>\n",
       "      <td>30.20</td>\n",
       "    </tr>\n",
       "    <tr>\n",
       "      <th>1</th>\n",
       "      <td>46</td>\n",
       "      <td>Female</td>\n",
       "      <td>74.9</td>\n",
       "      <td>1.53</td>\n",
       "      <td>179</td>\n",
       "      <td>151</td>\n",
       "      <td>66</td>\n",
       "      <td>1.30</td>\n",
       "      <td>883.0</td>\n",
       "      <td>HIIT</td>\n",
       "      <td>33.9</td>\n",
       "      <td>2.1</td>\n",
       "      <td>4</td>\n",
       "      <td>2</td>\n",
       "      <td>32.00</td>\n",
       "    </tr>\n",
       "    <tr>\n",
       "      <th>2</th>\n",
       "      <td>32</td>\n",
       "      <td>Female</td>\n",
       "      <td>68.1</td>\n",
       "      <td>1.66</td>\n",
       "      <td>167</td>\n",
       "      <td>122</td>\n",
       "      <td>54</td>\n",
       "      <td>1.11</td>\n",
       "      <td>677.0</td>\n",
       "      <td>Cardio</td>\n",
       "      <td>33.4</td>\n",
       "      <td>2.3</td>\n",
       "      <td>4</td>\n",
       "      <td>2</td>\n",
       "      <td>24.71</td>\n",
       "    </tr>\n",
       "    <tr>\n",
       "      <th>3</th>\n",
       "      <td>25</td>\n",
       "      <td>Male</td>\n",
       "      <td>53.2</td>\n",
       "      <td>1.70</td>\n",
       "      <td>190</td>\n",
       "      <td>164</td>\n",
       "      <td>56</td>\n",
       "      <td>0.59</td>\n",
       "      <td>532.0</td>\n",
       "      <td>Strength</td>\n",
       "      <td>28.8</td>\n",
       "      <td>2.1</td>\n",
       "      <td>3</td>\n",
       "      <td>1</td>\n",
       "      <td>18.41</td>\n",
       "    </tr>\n",
       "    <tr>\n",
       "      <th>4</th>\n",
       "      <td>38</td>\n",
       "      <td>Male</td>\n",
       "      <td>46.1</td>\n",
       "      <td>1.79</td>\n",
       "      <td>188</td>\n",
       "      <td>158</td>\n",
       "      <td>68</td>\n",
       "      <td>0.64</td>\n",
       "      <td>556.0</td>\n",
       "      <td>Strength</td>\n",
       "      <td>29.2</td>\n",
       "      <td>2.8</td>\n",
       "      <td>3</td>\n",
       "      <td>1</td>\n",
       "      <td>14.39</td>\n",
       "    </tr>\n",
       "    <tr>\n",
       "      <th>...</th>\n",
       "      <td>...</td>\n",
       "      <td>...</td>\n",
       "      <td>...</td>\n",
       "      <td>...</td>\n",
       "      <td>...</td>\n",
       "      <td>...</td>\n",
       "      <td>...</td>\n",
       "      <td>...</td>\n",
       "      <td>...</td>\n",
       "      <td>...</td>\n",
       "      <td>...</td>\n",
       "      <td>...</td>\n",
       "      <td>...</td>\n",
       "      <td>...</td>\n",
       "      <td>...</td>\n",
       "    </tr>\n",
       "    <tr>\n",
       "      <th>968</th>\n",
       "      <td>24</td>\n",
       "      <td>Male</td>\n",
       "      <td>87.1</td>\n",
       "      <td>1.74</td>\n",
       "      <td>187</td>\n",
       "      <td>158</td>\n",
       "      <td>67</td>\n",
       "      <td>1.57</td>\n",
       "      <td>1364.0</td>\n",
       "      <td>Strength</td>\n",
       "      <td>10.0</td>\n",
       "      <td>3.5</td>\n",
       "      <td>4</td>\n",
       "      <td>3</td>\n",
       "      <td>28.77</td>\n",
       "    </tr>\n",
       "    <tr>\n",
       "      <th>969</th>\n",
       "      <td>25</td>\n",
       "      <td>Male</td>\n",
       "      <td>66.6</td>\n",
       "      <td>1.61</td>\n",
       "      <td>184</td>\n",
       "      <td>166</td>\n",
       "      <td>56</td>\n",
       "      <td>1.38</td>\n",
       "      <td>1260.0</td>\n",
       "      <td>Strength</td>\n",
       "      <td>25.0</td>\n",
       "      <td>3.0</td>\n",
       "      <td>2</td>\n",
       "      <td>1</td>\n",
       "      <td>25.69</td>\n",
       "    </tr>\n",
       "    <tr>\n",
       "      <th>970</th>\n",
       "      <td>59</td>\n",
       "      <td>Female</td>\n",
       "      <td>60.4</td>\n",
       "      <td>1.76</td>\n",
       "      <td>194</td>\n",
       "      <td>120</td>\n",
       "      <td>53</td>\n",
       "      <td>1.72</td>\n",
       "      <td>929.0</td>\n",
       "      <td>Cardio</td>\n",
       "      <td>18.8</td>\n",
       "      <td>2.7</td>\n",
       "      <td>5</td>\n",
       "      <td>3</td>\n",
       "      <td>19.50</td>\n",
       "    </tr>\n",
       "    <tr>\n",
       "      <th>971</th>\n",
       "      <td>32</td>\n",
       "      <td>Male</td>\n",
       "      <td>126.4</td>\n",
       "      <td>1.83</td>\n",
       "      <td>198</td>\n",
       "      <td>146</td>\n",
       "      <td>62</td>\n",
       "      <td>1.10</td>\n",
       "      <td>883.0</td>\n",
       "      <td>HIIT</td>\n",
       "      <td>28.2</td>\n",
       "      <td>2.1</td>\n",
       "      <td>3</td>\n",
       "      <td>2</td>\n",
       "      <td>37.74</td>\n",
       "    </tr>\n",
       "    <tr>\n",
       "      <th>972</th>\n",
       "      <td>46</td>\n",
       "      <td>Male</td>\n",
       "      <td>88.7</td>\n",
       "      <td>1.63</td>\n",
       "      <td>166</td>\n",
       "      <td>146</td>\n",
       "      <td>66</td>\n",
       "      <td>0.75</td>\n",
       "      <td>542.0</td>\n",
       "      <td>Strength</td>\n",
       "      <td>28.8</td>\n",
       "      <td>3.5</td>\n",
       "      <td>2</td>\n",
       "      <td>1</td>\n",
       "      <td>33.38</td>\n",
       "    </tr>\n",
       "  </tbody>\n",
       "</table>\n",
       "<p>973 rows × 15 columns</p>\n",
       "</div>"
      ]
     },
     "execution_count": 76,
     "metadata": {},
     "output_type": "execute_result"
    }
   ],
   "execution_count": 76
  },
  {
   "metadata": {
    "ExecuteTime": {
     "end_time": "2024-10-27T12:27:36.536415Z",
     "start_time": "2024-10-27T12:27:36.527083Z"
    }
   },
   "cell_type": "code",
   "source": [
    "#데이터 보여주기\n",
    "gym_df.head()"
   ],
   "id": "7698e5db943bfbd9",
   "outputs": [
    {
     "data": {
      "text/plain": [
       "   Age  Gender  Weight (kg)  Height (m)  Max_BPM  Avg_BPM  Resting_BPM  \\\n",
       "0   56    Male         88.3        1.71      180      157           60   \n",
       "1   46  Female         74.9        1.53      179      151           66   \n",
       "2   32  Female         68.1        1.66      167      122           54   \n",
       "3   25    Male         53.2        1.70      190      164           56   \n",
       "4   38    Male         46.1        1.79      188      158           68   \n",
       "\n",
       "   Session_Duration (hours)  Calories_Burned Workout_Type  Fat_Percentage  \\\n",
       "0                      1.69           1313.0         Yoga            12.6   \n",
       "1                      1.30            883.0         HIIT            33.9   \n",
       "2                      1.11            677.0       Cardio            33.4   \n",
       "3                      0.59            532.0     Strength            28.8   \n",
       "4                      0.64            556.0     Strength            29.2   \n",
       "\n",
       "   Water_Intake (liters)  Workout_Frequency (days/week)  Experience_Level  \\\n",
       "0                    3.5                              4                 3   \n",
       "1                    2.1                              4                 2   \n",
       "2                    2.3                              4                 2   \n",
       "3                    2.1                              3                 1   \n",
       "4                    2.8                              3                 1   \n",
       "\n",
       "     BMI  \n",
       "0  30.20  \n",
       "1  32.00  \n",
       "2  24.71  \n",
       "3  18.41  \n",
       "4  14.39  "
      ],
      "text/html": [
       "<div>\n",
       "<style scoped>\n",
       "    .dataframe tbody tr th:only-of-type {\n",
       "        vertical-align: middle;\n",
       "    }\n",
       "\n",
       "    .dataframe tbody tr th {\n",
       "        vertical-align: top;\n",
       "    }\n",
       "\n",
       "    .dataframe thead th {\n",
       "        text-align: right;\n",
       "    }\n",
       "</style>\n",
       "<table border=\"1\" class=\"dataframe\">\n",
       "  <thead>\n",
       "    <tr style=\"text-align: right;\">\n",
       "      <th></th>\n",
       "      <th>Age</th>\n",
       "      <th>Gender</th>\n",
       "      <th>Weight (kg)</th>\n",
       "      <th>Height (m)</th>\n",
       "      <th>Max_BPM</th>\n",
       "      <th>Avg_BPM</th>\n",
       "      <th>Resting_BPM</th>\n",
       "      <th>Session_Duration (hours)</th>\n",
       "      <th>Calories_Burned</th>\n",
       "      <th>Workout_Type</th>\n",
       "      <th>Fat_Percentage</th>\n",
       "      <th>Water_Intake (liters)</th>\n",
       "      <th>Workout_Frequency (days/week)</th>\n",
       "      <th>Experience_Level</th>\n",
       "      <th>BMI</th>\n",
       "    </tr>\n",
       "  </thead>\n",
       "  <tbody>\n",
       "    <tr>\n",
       "      <th>0</th>\n",
       "      <td>56</td>\n",
       "      <td>Male</td>\n",
       "      <td>88.3</td>\n",
       "      <td>1.71</td>\n",
       "      <td>180</td>\n",
       "      <td>157</td>\n",
       "      <td>60</td>\n",
       "      <td>1.69</td>\n",
       "      <td>1313.0</td>\n",
       "      <td>Yoga</td>\n",
       "      <td>12.6</td>\n",
       "      <td>3.5</td>\n",
       "      <td>4</td>\n",
       "      <td>3</td>\n",
       "      <td>30.20</td>\n",
       "    </tr>\n",
       "    <tr>\n",
       "      <th>1</th>\n",
       "      <td>46</td>\n",
       "      <td>Female</td>\n",
       "      <td>74.9</td>\n",
       "      <td>1.53</td>\n",
       "      <td>179</td>\n",
       "      <td>151</td>\n",
       "      <td>66</td>\n",
       "      <td>1.30</td>\n",
       "      <td>883.0</td>\n",
       "      <td>HIIT</td>\n",
       "      <td>33.9</td>\n",
       "      <td>2.1</td>\n",
       "      <td>4</td>\n",
       "      <td>2</td>\n",
       "      <td>32.00</td>\n",
       "    </tr>\n",
       "    <tr>\n",
       "      <th>2</th>\n",
       "      <td>32</td>\n",
       "      <td>Female</td>\n",
       "      <td>68.1</td>\n",
       "      <td>1.66</td>\n",
       "      <td>167</td>\n",
       "      <td>122</td>\n",
       "      <td>54</td>\n",
       "      <td>1.11</td>\n",
       "      <td>677.0</td>\n",
       "      <td>Cardio</td>\n",
       "      <td>33.4</td>\n",
       "      <td>2.3</td>\n",
       "      <td>4</td>\n",
       "      <td>2</td>\n",
       "      <td>24.71</td>\n",
       "    </tr>\n",
       "    <tr>\n",
       "      <th>3</th>\n",
       "      <td>25</td>\n",
       "      <td>Male</td>\n",
       "      <td>53.2</td>\n",
       "      <td>1.70</td>\n",
       "      <td>190</td>\n",
       "      <td>164</td>\n",
       "      <td>56</td>\n",
       "      <td>0.59</td>\n",
       "      <td>532.0</td>\n",
       "      <td>Strength</td>\n",
       "      <td>28.8</td>\n",
       "      <td>2.1</td>\n",
       "      <td>3</td>\n",
       "      <td>1</td>\n",
       "      <td>18.41</td>\n",
       "    </tr>\n",
       "    <tr>\n",
       "      <th>4</th>\n",
       "      <td>38</td>\n",
       "      <td>Male</td>\n",
       "      <td>46.1</td>\n",
       "      <td>1.79</td>\n",
       "      <td>188</td>\n",
       "      <td>158</td>\n",
       "      <td>68</td>\n",
       "      <td>0.64</td>\n",
       "      <td>556.0</td>\n",
       "      <td>Strength</td>\n",
       "      <td>29.2</td>\n",
       "      <td>2.8</td>\n",
       "      <td>3</td>\n",
       "      <td>1</td>\n",
       "      <td>14.39</td>\n",
       "    </tr>\n",
       "  </tbody>\n",
       "</table>\n",
       "</div>"
      ]
     },
     "execution_count": 77,
     "metadata": {},
     "output_type": "execute_result"
    }
   ],
   "execution_count": 77
  },
  {
   "metadata": {
    "ExecuteTime": {
     "end_time": "2024-10-27T12:27:36.622824Z",
     "start_time": "2024-10-27T12:27:36.616839Z"
    }
   },
   "cell_type": "code",
   "source": [
    "# 데이터 정보\n",
    "gym_df.info()"
   ],
   "id": "e04f5b7a38798e7c",
   "outputs": [
    {
     "name": "stdout",
     "output_type": "stream",
     "text": [
      "<class 'pandas.core.frame.DataFrame'>\n",
      "RangeIndex: 973 entries, 0 to 972\n",
      "Data columns (total 15 columns):\n",
      " #   Column                         Non-Null Count  Dtype  \n",
      "---  ------                         --------------  -----  \n",
      " 0   Age                            973 non-null    int64  \n",
      " 1   Gender                         973 non-null    object \n",
      " 2   Weight (kg)                    973 non-null    float64\n",
      " 3   Height (m)                     973 non-null    float64\n",
      " 4   Max_BPM                        973 non-null    int64  \n",
      " 5   Avg_BPM                        973 non-null    int64  \n",
      " 6   Resting_BPM                    973 non-null    int64  \n",
      " 7   Session_Duration (hours)       973 non-null    float64\n",
      " 8   Calories_Burned                973 non-null    float64\n",
      " 9   Workout_Type                   973 non-null    object \n",
      " 10  Fat_Percentage                 973 non-null    float64\n",
      " 11  Water_Intake (liters)          973 non-null    float64\n",
      " 12  Workout_Frequency (days/week)  973 non-null    int64  \n",
      " 13  Experience_Level               973 non-null    int64  \n",
      " 14  BMI                            973 non-null    float64\n",
      "dtypes: float64(7), int64(6), object(2)\n",
      "memory usage: 114.2+ KB\n"
     ]
    }
   ],
   "execution_count": 78
  },
  {
   "metadata": {
    "ExecuteTime": {
     "end_time": "2024-10-27T12:27:36.725530Z",
     "start_time": "2024-10-27T12:27:36.705897Z"
    }
   },
   "cell_type": "code",
   "source": [
    "#데이터 일괄 개요\n",
    "gym_df.describe()"
   ],
   "id": "cb39d60ff4fb1a1e",
   "outputs": [
    {
     "data": {
      "text/plain": [
       "              Age  Weight (kg)  Height (m)     Max_BPM     Avg_BPM  \\\n",
       "count  973.000000   973.000000   973.00000  973.000000  973.000000   \n",
       "mean    38.683453    73.854676     1.72258  179.883864  143.766701   \n",
       "std     12.180928    21.207500     0.12772   11.525686   14.345101   \n",
       "min     18.000000    40.000000     1.50000  160.000000  120.000000   \n",
       "25%     28.000000    58.100000     1.62000  170.000000  131.000000   \n",
       "50%     40.000000    70.000000     1.71000  180.000000  143.000000   \n",
       "75%     49.000000    86.000000     1.80000  190.000000  156.000000   \n",
       "max     59.000000   129.900000     2.00000  199.000000  169.000000   \n",
       "\n",
       "       Resting_BPM  Session_Duration (hours)  Calories_Burned  Fat_Percentage  \\\n",
       "count   973.000000                973.000000       973.000000      973.000000   \n",
       "mean     62.223022                  1.256423       905.422405       24.976773   \n",
       "std       7.327060                  0.343033       272.641516        6.259419   \n",
       "min      50.000000                  0.500000       303.000000       10.000000   \n",
       "25%      56.000000                  1.040000       720.000000       21.300000   \n",
       "50%      62.000000                  1.260000       893.000000       26.200000   \n",
       "75%      68.000000                  1.460000      1076.000000       29.300000   \n",
       "max      74.000000                  2.000000      1783.000000       35.000000   \n",
       "\n",
       "       Water_Intake (liters)  Workout_Frequency (days/week)  Experience_Level  \\\n",
       "count             973.000000                     973.000000        973.000000   \n",
       "mean                2.626619                       3.321686          1.809866   \n",
       "std                 0.600172                       0.913047          0.739693   \n",
       "min                 1.500000                       2.000000          1.000000   \n",
       "25%                 2.200000                       3.000000          1.000000   \n",
       "50%                 2.600000                       3.000000          2.000000   \n",
       "75%                 3.100000                       4.000000          2.000000   \n",
       "max                 3.700000                       5.000000          3.000000   \n",
       "\n",
       "              BMI  \n",
       "count  973.000000  \n",
       "mean    24.912127  \n",
       "std      6.660879  \n",
       "min     12.320000  \n",
       "25%     20.110000  \n",
       "50%     24.160000  \n",
       "75%     28.560000  \n",
       "max     49.840000  "
      ],
      "text/html": [
       "<div>\n",
       "<style scoped>\n",
       "    .dataframe tbody tr th:only-of-type {\n",
       "        vertical-align: middle;\n",
       "    }\n",
       "\n",
       "    .dataframe tbody tr th {\n",
       "        vertical-align: top;\n",
       "    }\n",
       "\n",
       "    .dataframe thead th {\n",
       "        text-align: right;\n",
       "    }\n",
       "</style>\n",
       "<table border=\"1\" class=\"dataframe\">\n",
       "  <thead>\n",
       "    <tr style=\"text-align: right;\">\n",
       "      <th></th>\n",
       "      <th>Age</th>\n",
       "      <th>Weight (kg)</th>\n",
       "      <th>Height (m)</th>\n",
       "      <th>Max_BPM</th>\n",
       "      <th>Avg_BPM</th>\n",
       "      <th>Resting_BPM</th>\n",
       "      <th>Session_Duration (hours)</th>\n",
       "      <th>Calories_Burned</th>\n",
       "      <th>Fat_Percentage</th>\n",
       "      <th>Water_Intake (liters)</th>\n",
       "      <th>Workout_Frequency (days/week)</th>\n",
       "      <th>Experience_Level</th>\n",
       "      <th>BMI</th>\n",
       "    </tr>\n",
       "  </thead>\n",
       "  <tbody>\n",
       "    <tr>\n",
       "      <th>count</th>\n",
       "      <td>973.000000</td>\n",
       "      <td>973.000000</td>\n",
       "      <td>973.00000</td>\n",
       "      <td>973.000000</td>\n",
       "      <td>973.000000</td>\n",
       "      <td>973.000000</td>\n",
       "      <td>973.000000</td>\n",
       "      <td>973.000000</td>\n",
       "      <td>973.000000</td>\n",
       "      <td>973.000000</td>\n",
       "      <td>973.000000</td>\n",
       "      <td>973.000000</td>\n",
       "      <td>973.000000</td>\n",
       "    </tr>\n",
       "    <tr>\n",
       "      <th>mean</th>\n",
       "      <td>38.683453</td>\n",
       "      <td>73.854676</td>\n",
       "      <td>1.72258</td>\n",
       "      <td>179.883864</td>\n",
       "      <td>143.766701</td>\n",
       "      <td>62.223022</td>\n",
       "      <td>1.256423</td>\n",
       "      <td>905.422405</td>\n",
       "      <td>24.976773</td>\n",
       "      <td>2.626619</td>\n",
       "      <td>3.321686</td>\n",
       "      <td>1.809866</td>\n",
       "      <td>24.912127</td>\n",
       "    </tr>\n",
       "    <tr>\n",
       "      <th>std</th>\n",
       "      <td>12.180928</td>\n",
       "      <td>21.207500</td>\n",
       "      <td>0.12772</td>\n",
       "      <td>11.525686</td>\n",
       "      <td>14.345101</td>\n",
       "      <td>7.327060</td>\n",
       "      <td>0.343033</td>\n",
       "      <td>272.641516</td>\n",
       "      <td>6.259419</td>\n",
       "      <td>0.600172</td>\n",
       "      <td>0.913047</td>\n",
       "      <td>0.739693</td>\n",
       "      <td>6.660879</td>\n",
       "    </tr>\n",
       "    <tr>\n",
       "      <th>min</th>\n",
       "      <td>18.000000</td>\n",
       "      <td>40.000000</td>\n",
       "      <td>1.50000</td>\n",
       "      <td>160.000000</td>\n",
       "      <td>120.000000</td>\n",
       "      <td>50.000000</td>\n",
       "      <td>0.500000</td>\n",
       "      <td>303.000000</td>\n",
       "      <td>10.000000</td>\n",
       "      <td>1.500000</td>\n",
       "      <td>2.000000</td>\n",
       "      <td>1.000000</td>\n",
       "      <td>12.320000</td>\n",
       "    </tr>\n",
       "    <tr>\n",
       "      <th>25%</th>\n",
       "      <td>28.000000</td>\n",
       "      <td>58.100000</td>\n",
       "      <td>1.62000</td>\n",
       "      <td>170.000000</td>\n",
       "      <td>131.000000</td>\n",
       "      <td>56.000000</td>\n",
       "      <td>1.040000</td>\n",
       "      <td>720.000000</td>\n",
       "      <td>21.300000</td>\n",
       "      <td>2.200000</td>\n",
       "      <td>3.000000</td>\n",
       "      <td>1.000000</td>\n",
       "      <td>20.110000</td>\n",
       "    </tr>\n",
       "    <tr>\n",
       "      <th>50%</th>\n",
       "      <td>40.000000</td>\n",
       "      <td>70.000000</td>\n",
       "      <td>1.71000</td>\n",
       "      <td>180.000000</td>\n",
       "      <td>143.000000</td>\n",
       "      <td>62.000000</td>\n",
       "      <td>1.260000</td>\n",
       "      <td>893.000000</td>\n",
       "      <td>26.200000</td>\n",
       "      <td>2.600000</td>\n",
       "      <td>3.000000</td>\n",
       "      <td>2.000000</td>\n",
       "      <td>24.160000</td>\n",
       "    </tr>\n",
       "    <tr>\n",
       "      <th>75%</th>\n",
       "      <td>49.000000</td>\n",
       "      <td>86.000000</td>\n",
       "      <td>1.80000</td>\n",
       "      <td>190.000000</td>\n",
       "      <td>156.000000</td>\n",
       "      <td>68.000000</td>\n",
       "      <td>1.460000</td>\n",
       "      <td>1076.000000</td>\n",
       "      <td>29.300000</td>\n",
       "      <td>3.100000</td>\n",
       "      <td>4.000000</td>\n",
       "      <td>2.000000</td>\n",
       "      <td>28.560000</td>\n",
       "    </tr>\n",
       "    <tr>\n",
       "      <th>max</th>\n",
       "      <td>59.000000</td>\n",
       "      <td>129.900000</td>\n",
       "      <td>2.00000</td>\n",
       "      <td>199.000000</td>\n",
       "      <td>169.000000</td>\n",
       "      <td>74.000000</td>\n",
       "      <td>2.000000</td>\n",
       "      <td>1783.000000</td>\n",
       "      <td>35.000000</td>\n",
       "      <td>3.700000</td>\n",
       "      <td>5.000000</td>\n",
       "      <td>3.000000</td>\n",
       "      <td>49.840000</td>\n",
       "    </tr>\n",
       "  </tbody>\n",
       "</table>\n",
       "</div>"
      ]
     },
     "execution_count": 79,
     "metadata": {},
     "output_type": "execute_result"
    }
   ],
   "execution_count": 79
  },
  {
   "metadata": {
    "ExecuteTime": {
     "end_time": "2024-10-27T12:27:36.814828Z",
     "start_time": "2024-10-27T12:27:36.810661Z"
    }
   },
   "cell_type": "code",
   "source": [
    "#데이터 결측치 확인\n",
    "gym_df.isnull().sum()"
   ],
   "id": "9ca3d9986aeef1ef",
   "outputs": [
    {
     "data": {
      "text/plain": [
       "Age                              0\n",
       "Gender                           0\n",
       "Weight (kg)                      0\n",
       "Height (m)                       0\n",
       "Max_BPM                          0\n",
       "Avg_BPM                          0\n",
       "Resting_BPM                      0\n",
       "Session_Duration (hours)         0\n",
       "Calories_Burned                  0\n",
       "Workout_Type                     0\n",
       "Fat_Percentage                   0\n",
       "Water_Intake (liters)            0\n",
       "Workout_Frequency (days/week)    0\n",
       "Experience_Level                 0\n",
       "BMI                              0\n",
       "dtype: int64"
      ]
     },
     "execution_count": 80,
     "metadata": {},
     "output_type": "execute_result"
    }
   ],
   "execution_count": 80
  },
  {
   "metadata": {
    "ExecuteTime": {
     "end_time": "2024-10-27T12:27:36.904288Z",
     "start_time": "2024-10-27T12:27:36.900022Z"
    }
   },
   "cell_type": "code",
   "source": [
    "#운동 유형별 누계 확인\n",
    "gym_df['Workout_Type'].value_counts()"
   ],
   "id": "fa73190f828741d6",
   "outputs": [
    {
     "data": {
      "text/plain": [
       "Workout_Type\n",
       "Strength    258\n",
       "Cardio      255\n",
       "Yoga        239\n",
       "HIIT        221\n",
       "Name: count, dtype: int64"
      ]
     },
     "execution_count": 81,
     "metadata": {},
     "output_type": "execute_result"
    }
   ],
   "execution_count": 81
  },
  {
   "metadata": {
    "ExecuteTime": {
     "end_time": "2024-10-27T12:27:37.015826Z",
     "start_time": "2024-10-27T12:27:37.008924Z"
    }
   },
   "cell_type": "code",
   "source": [
    "#연령대 범주화\n",
    "def categorize_age(age):\n",
    "    match age//10:\n",
    "        case 0 : return '0대'\n",
    "        case 1 : return '10대'\n",
    "        case 2 : return '20대'\n",
    "        case 3 : return '30대'\n",
    "        case 4 : return '40대'\n",
    "        case 5 : return '50대'\n",
    "    \n",
    "#연령대 컬럼 추가.\n",
    "gym_df['Agegroup']=gym_df['Age'].apply(categorize_age)\n",
    "gym_df[['Age','Agegroup']]"
   ],
   "id": "4d14ab5510de0f17",
   "outputs": [
    {
     "data": {
      "text/plain": [
       "     Age Agegroup\n",
       "0     56      50대\n",
       "1     46      40대\n",
       "2     32      30대\n",
       "3     25      20대\n",
       "4     38      30대\n",
       "..   ...      ...\n",
       "968   24      20대\n",
       "969   25      20대\n",
       "970   59      50대\n",
       "971   32      30대\n",
       "972   46      40대\n",
       "\n",
       "[973 rows x 2 columns]"
      ],
      "text/html": [
       "<div>\n",
       "<style scoped>\n",
       "    .dataframe tbody tr th:only-of-type {\n",
       "        vertical-align: middle;\n",
       "    }\n",
       "\n",
       "    .dataframe tbody tr th {\n",
       "        vertical-align: top;\n",
       "    }\n",
       "\n",
       "    .dataframe thead th {\n",
       "        text-align: right;\n",
       "    }\n",
       "</style>\n",
       "<table border=\"1\" class=\"dataframe\">\n",
       "  <thead>\n",
       "    <tr style=\"text-align: right;\">\n",
       "      <th></th>\n",
       "      <th>Age</th>\n",
       "      <th>Agegroup</th>\n",
       "    </tr>\n",
       "  </thead>\n",
       "  <tbody>\n",
       "    <tr>\n",
       "      <th>0</th>\n",
       "      <td>56</td>\n",
       "      <td>50대</td>\n",
       "    </tr>\n",
       "    <tr>\n",
       "      <th>1</th>\n",
       "      <td>46</td>\n",
       "      <td>40대</td>\n",
       "    </tr>\n",
       "    <tr>\n",
       "      <th>2</th>\n",
       "      <td>32</td>\n",
       "      <td>30대</td>\n",
       "    </tr>\n",
       "    <tr>\n",
       "      <th>3</th>\n",
       "      <td>25</td>\n",
       "      <td>20대</td>\n",
       "    </tr>\n",
       "    <tr>\n",
       "      <th>4</th>\n",
       "      <td>38</td>\n",
       "      <td>30대</td>\n",
       "    </tr>\n",
       "    <tr>\n",
       "      <th>...</th>\n",
       "      <td>...</td>\n",
       "      <td>...</td>\n",
       "    </tr>\n",
       "    <tr>\n",
       "      <th>968</th>\n",
       "      <td>24</td>\n",
       "      <td>20대</td>\n",
       "    </tr>\n",
       "    <tr>\n",
       "      <th>969</th>\n",
       "      <td>25</td>\n",
       "      <td>20대</td>\n",
       "    </tr>\n",
       "    <tr>\n",
       "      <th>970</th>\n",
       "      <td>59</td>\n",
       "      <td>50대</td>\n",
       "    </tr>\n",
       "    <tr>\n",
       "      <th>971</th>\n",
       "      <td>32</td>\n",
       "      <td>30대</td>\n",
       "    </tr>\n",
       "    <tr>\n",
       "      <th>972</th>\n",
       "      <td>46</td>\n",
       "      <td>40대</td>\n",
       "    </tr>\n",
       "  </tbody>\n",
       "</table>\n",
       "<p>973 rows × 2 columns</p>\n",
       "</div>"
      ]
     },
     "execution_count": 82,
     "metadata": {},
     "output_type": "execute_result"
    }
   ],
   "execution_count": 82
  },
  {
   "metadata": {
    "ExecuteTime": {
     "end_time": "2024-10-27T12:27:37.579095Z",
     "start_time": "2024-10-27T12:27:37.116820Z"
    }
   },
   "cell_type": "code",
   "source": [
    "#운동 선호도\n",
    "plt.figure(figsize=(10, 6))  \n",
    "sns.countplot(data=gym_df, x='Gender', hue='Workout_Type')\n",
    "plt.title('Gender favor Workout_Type')\n",
    "plt.show()\n",
    "\n",
    "plt.figure(figsize=(10, 6))\n",
    "sns.countplot(data=gym_df, x='Agegroup', hue='Workout_Type')\n",
    "plt.title('Age favor Workout_Type')\n",
    "plt.show()"
   ],
   "id": "5e0b007c764fe23d",
   "outputs": [
    {
     "name": "stderr",
     "output_type": "stream",
     "text": [
      "findfont: Font family 'JejuMyeongjo' not found.\n",
      "findfont: Font family 'JejuMyeongjo' not found.\n",
      "findfont: Font family 'JejuMyeongjo' not found.\n",
      "findfont: Font family 'JejuMyeongjo' not found.\n",
      "findfont: Font family 'JejuMyeongjo' not found.\n",
      "findfont: Font family 'JejuMyeongjo' not found.\n",
      "findfont: Font family 'JejuMyeongjo' not found.\n",
      "findfont: Font family 'JejuMyeongjo' not found.\n",
      "findfont: Font family 'JejuMyeongjo' not found.\n",
      "findfont: Font family 'JejuMyeongjo' not found.\n",
      "findfont: Font family 'JejuMyeongjo' not found.\n",
      "findfont: Font family 'JejuMyeongjo' not found.\n",
      "findfont: Font family 'JejuMyeongjo' not found.\n",
      "findfont: Font family 'JejuMyeongjo' not found.\n",
      "findfont: Font family 'JejuMyeongjo' not found.\n",
      "findfont: Font family 'JejuMyeongjo' not found.\n",
      "findfont: Font family 'JejuMyeongjo' not found.\n",
      "findfont: Font family 'JejuMyeongjo' not found.\n",
      "findfont: Font family 'JejuMyeongjo' not found.\n",
      "findfont: Font family 'JejuMyeongjo' not found.\n",
      "findfont: Font family 'JejuMyeongjo' not found.\n",
      "findfont: Font family 'JejuMyeongjo' not found.\n",
      "findfont: Font family 'JejuMyeongjo' not found.\n",
      "findfont: Font family 'JejuMyeongjo' not found.\n",
      "findfont: Font family 'JejuMyeongjo' not found.\n",
      "findfont: Font family 'JejuMyeongjo' not found.\n",
      "findfont: Font family 'JejuMyeongjo' not found.\n",
      "findfont: Font family 'JejuMyeongjo' not found.\n",
      "findfont: Font family 'JejuMyeongjo' not found.\n",
      "findfont: Font family 'JejuMyeongjo' not found.\n",
      "findfont: Font family 'JejuMyeongjo' not found.\n",
      "findfont: Font family 'JejuMyeongjo' not found.\n",
      "findfont: Font family 'JejuMyeongjo' not found.\n",
      "findfont: Font family 'JejuMyeongjo' not found.\n",
      "findfont: Font family 'JejuMyeongjo' not found.\n",
      "findfont: Font family 'JejuMyeongjo' not found.\n",
      "findfont: Font family 'JejuMyeongjo' not found.\n",
      "findfont: Font family 'JejuMyeongjo' not found.\n",
      "findfont: Font family 'JejuMyeongjo' not found.\n",
      "findfont: Font family 'JejuMyeongjo' not found.\n",
      "findfont: Font family 'JejuMyeongjo' not found.\n",
      "findfont: Font family 'JejuMyeongjo' not found.\n",
      "findfont: Font family 'JejuMyeongjo' not found.\n",
      "findfont: Font family 'JejuMyeongjo' not found.\n",
      "findfont: Font family 'JejuMyeongjo' not found.\n",
      "findfont: Font family 'JejuMyeongjo' not found.\n",
      "findfont: Font family 'JejuMyeongjo' not found.\n",
      "findfont: Font family 'JejuMyeongjo' not found.\n",
      "findfont: Font family 'JejuMyeongjo' not found.\n",
      "findfont: Font family 'JejuMyeongjo' not found.\n",
      "findfont: Font family 'JejuMyeongjo' not found.\n",
      "findfont: Font family 'JejuMyeongjo' not found.\n",
      "findfont: Font family 'JejuMyeongjo' not found.\n",
      "findfont: Font family 'JejuMyeongjo' not found.\n",
      "findfont: Font family 'JejuMyeongjo' not found.\n",
      "findfont: Font family 'JejuMyeongjo' not found.\n",
      "findfont: Font family 'JejuMyeongjo' not found.\n",
      "findfont: Font family 'JejuMyeongjo' not found.\n",
      "findfont: Font family 'JejuMyeongjo' not found.\n",
      "findfont: Font family 'JejuMyeongjo' not found.\n",
      "findfont: Font family 'JejuMyeongjo' not found.\n",
      "findfont: Font family 'JejuMyeongjo' not found.\n",
      "findfont: Font family 'JejuMyeongjo' not found.\n",
      "findfont: Font family 'JejuMyeongjo' not found.\n",
      "findfont: Font family 'JejuMyeongjo' not found.\n",
      "findfont: Font family 'JejuMyeongjo' not found.\n",
      "findfont: Font family 'JejuMyeongjo' not found.\n",
      "findfont: Font family 'JejuMyeongjo' not found.\n",
      "findfont: Font family 'JejuMyeongjo' not found.\n",
      "findfont: Font family 'JejuMyeongjo' not found.\n",
      "findfont: Font family 'JejuMyeongjo' not found.\n",
      "findfont: Font family 'JejuMyeongjo' not found.\n",
      "findfont: Font family 'JejuMyeongjo' not found.\n",
      "findfont: Font family 'JejuMyeongjo' not found.\n",
      "findfont: Font family 'JejuMyeongjo' not found.\n",
      "findfont: Font family 'JejuMyeongjo' not found.\n",
      "findfont: Font family 'JejuMyeongjo' not found.\n",
      "findfont: Font family 'JejuMyeongjo' not found.\n",
      "findfont: Font family 'JejuMyeongjo' not found.\n",
      "findfont: Font family 'JejuMyeongjo' not found.\n",
      "findfont: Font family 'JejuMyeongjo' not found.\n",
      "findfont: Font family 'JejuMyeongjo' not found.\n",
      "findfont: Font family 'JejuMyeongjo' not found.\n",
      "findfont: Font family 'JejuMyeongjo' not found.\n",
      "findfont: Font family 'JejuMyeongjo' not found.\n",
      "findfont: Font family 'JejuMyeongjo' not found.\n",
      "findfont: Font family 'JejuMyeongjo' not found.\n",
      "findfont: Font family 'JejuMyeongjo' not found.\n",
      "findfont: Font family 'JejuMyeongjo' not found.\n",
      "findfont: Font family 'JejuMyeongjo' not found.\n",
      "findfont: Font family 'JejuMyeongjo' not found.\n",
      "findfont: Font family 'JejuMyeongjo' not found.\n",
      "findfont: Font family 'JejuMyeongjo' not found.\n",
      "findfont: Font family 'JejuMyeongjo' not found.\n",
      "findfont: Font family 'JejuMyeongjo' not found.\n",
      "findfont: Font family 'JejuMyeongjo' not found.\n",
      "findfont: Font family 'JejuMyeongjo' not found.\n",
      "findfont: Font family 'JejuMyeongjo' not found.\n",
      "findfont: Font family 'JejuMyeongjo' not found.\n",
      "findfont: Font family 'JejuMyeongjo' not found.\n",
      "findfont: Font family 'JejuMyeongjo' not found.\n",
      "findfont: Font family 'JejuMyeongjo' not found.\n",
      "findfont: Font family 'JejuMyeongjo' not found.\n",
      "findfont: Font family 'JejuMyeongjo' not found.\n",
      "findfont: Font family 'JejuMyeongjo' not found.\n",
      "findfont: Font family 'JejuMyeongjo' not found.\n",
      "findfont: Font family 'JejuMyeongjo' not found.\n",
      "findfont: Font family 'JejuMyeongjo' not found.\n",
      "findfont: Font family 'JejuMyeongjo' not found.\n",
      "findfont: Font family 'JejuMyeongjo' not found.\n",
      "findfont: Font family 'JejuMyeongjo' not found.\n",
      "findfont: Font family 'JejuMyeongjo' not found.\n",
      "findfont: Font family 'JejuMyeongjo' not found.\n",
      "findfont: Font family 'JejuMyeongjo' not found.\n",
      "findfont: Font family 'JejuMyeongjo' not found.\n",
      "findfont: Font family 'JejuMyeongjo' not found.\n",
      "findfont: Font family 'JejuMyeongjo' not found.\n"
     ]
    },
    {
     "data": {
      "text/plain": [
       "<Figure size 1000x600 with 1 Axes>"
      ],
      "image/png": "[encoded data removed]"
     },
     "metadata": {},
     "output_type": "display_data"
    },
    {
     "name": "stderr",
     "output_type": "stream",
     "text": [
      "findfont: Font family 'JejuMyeongjo' not found.\n",
      "findfont: Font family 'JejuMyeongjo' not found.\n",
      "C:\\Users\\w1945\\anaconda3\\Lib\\site-packages\\IPython\\core\\pylabtools.py:170: UserWarning:\n",
      "\n",
      "Glyph 45824 (\\N{HANGUL SYLLABLE DAE}) missing from current font.\n",
      "\n",
      "findfont: Font family 'JejuMyeongjo' not found.\n",
      "findfont: Font family 'JejuMyeongjo' not found.\n",
      "findfont: Font family 'JejuMyeongjo' not found.\n",
      "findfont: Font family 'JejuMyeongjo' not found.\n",
      "findfont: Font family 'JejuMyeongjo' not found.\n",
      "findfont: Font family 'JejuMyeongjo' not found.\n",
      "findfont: Font family 'JejuMyeongjo' not found.\n",
      "findfont: Font family 'JejuMyeongjo' not found.\n",
      "findfont: Font family 'JejuMyeongjo' not found.\n",
      "findfont: Font family 'JejuMyeongjo' not found.\n",
      "findfont: Font family 'JejuMyeongjo' not found.\n",
      "findfont: Font family 'JejuMyeongjo' not found.\n",
      "findfont: Font family 'JejuMyeongjo' not found.\n",
      "findfont: Font family 'JejuMyeongjo' not found.\n",
      "findfont: Font family 'JejuMyeongjo' not found.\n",
      "findfont: Font family 'JejuMyeongjo' not found.\n",
      "findfont: Font family 'JejuMyeongjo' not found.\n",
      "findfont: Font family 'JejuMyeongjo' not found.\n",
      "findfont: Font family 'JejuMyeongjo' not found.\n",
      "findfont: Font family 'JejuMyeongjo' not found.\n",
      "findfont: Font family 'JejuMyeongjo' not found.\n",
      "findfont: Font family 'JejuMyeongjo' not found.\n",
      "findfont: Font family 'JejuMyeongjo' not found.\n",
      "findfont: Font family 'JejuMyeongjo' not found.\n",
      "findfont: Font family 'JejuMyeongjo' not found.\n",
      "findfont: Font family 'JejuMyeongjo' not found.\n",
      "findfont: Font family 'JejuMyeongjo' not found.\n",
      "findfont: Font family 'JejuMyeongjo' not found.\n",
      "findfont: Font family 'JejuMyeongjo' not found.\n",
      "findfont: Font family 'JejuMyeongjo' not found.\n",
      "findfont: Font family 'JejuMyeongjo' not found.\n",
      "findfont: Font family 'JejuMyeongjo' not found.\n",
      "findfont: Font family 'JejuMyeongjo' not found.\n",
      "findfont: Font family 'JejuMyeongjo' not found.\n",
      "findfont: Font family 'JejuMyeongjo' not found.\n",
      "findfont: Font family 'JejuMyeongjo' not found.\n",
      "findfont: Font family 'JejuMyeongjo' not found.\n",
      "findfont: Font family 'JejuMyeongjo' not found.\n",
      "findfont: Font family 'JejuMyeongjo' not found.\n",
      "findfont: Font family 'JejuMyeongjo' not found.\n",
      "findfont: Font family 'JejuMyeongjo' not found.\n",
      "findfont: Font family 'JejuMyeongjo' not found.\n",
      "findfont: Font family 'JejuMyeongjo' not found.\n",
      "findfont: Font family 'JejuMyeongjo' not found.\n",
      "findfont: Font family 'JejuMyeongjo' not found.\n",
      "findfont: Font family 'JejuMyeongjo' not found.\n",
      "findfont: Font family 'JejuMyeongjo' not found.\n",
      "findfont: Font family 'JejuMyeongjo' not found.\n",
      "findfont: Font family 'JejuMyeongjo' not found.\n",
      "findfont: Font family 'JejuMyeongjo' not found.\n",
      "findfont: Font family 'JejuMyeongjo' not found.\n",
      "findfont: Font family 'JejuMyeongjo' not found.\n",
      "findfont: Font family 'JejuMyeongjo' not found.\n",
      "findfont: Font family 'JejuMyeongjo' not found.\n",
      "findfont: Font family 'JejuMyeongjo' not found.\n",
      "findfont: Font family 'JejuMyeongjo' not found.\n",
      "findfont: Font family 'JejuMyeongjo' not found.\n",
      "findfont: Font family 'JejuMyeongjo' not found.\n",
      "findfont: Font family 'JejuMyeongjo' not found.\n",
      "findfont: Font family 'JejuMyeongjo' not found.\n",
      "findfont: Font family 'JejuMyeongjo' not found.\n",
      "findfont: Font family 'JejuMyeongjo' not found.\n",
      "findfont: Font family 'JejuMyeongjo' not found.\n",
      "findfont: Font family 'JejuMyeongjo' not found.\n",
      "findfont: Font family 'JejuMyeongjo' not found.\n",
      "findfont: Font family 'JejuMyeongjo' not found.\n",
      "findfont: Font family 'JejuMyeongjo' not found.\n",
      "findfont: Font family 'JejuMyeongjo' not found.\n",
      "findfont: Font family 'JejuMyeongjo' not found.\n",
      "findfont: Font family 'JejuMyeongjo' not found.\n",
      "findfont: Font family 'JejuMyeongjo' not found.\n",
      "findfont: Font family 'JejuMyeongjo' not found.\n",
      "findfont: Font family 'JejuMyeongjo' not found.\n",
      "findfont: Font family 'JejuMyeongjo' not found.\n",
      "findfont: Font family 'JejuMyeongjo' not found.\n",
      "findfont: Font family 'JejuMyeongjo' not found.\n",
      "findfont: Font family 'JejuMyeongjo' not found.\n",
      "findfont: Font family 'JejuMyeongjo' not found.\n",
      "findfont: Font family 'JejuMyeongjo' not found.\n",
      "findfont: Font family 'JejuMyeongjo' not found.\n",
      "findfont: Font family 'JejuMyeongjo' not found.\n",
      "findfont: Font family 'JejuMyeongjo' not found.\n",
      "findfont: Font family 'JejuMyeongjo' not found.\n",
      "findfont: Font family 'JejuMyeongjo' not found.\n",
      "findfont: Font family 'JejuMyeongjo' not found.\n",
      "findfont: Font family 'JejuMyeongjo' not found.\n",
      "findfont: Font family 'JejuMyeongjo' not found.\n",
      "findfont: Font family 'JejuMyeongjo' not found.\n",
      "findfont: Font family 'JejuMyeongjo' not found.\n",
      "findfont: Font family 'JejuMyeongjo' not found.\n",
      "findfont: Font family 'JejuMyeongjo' not found.\n",
      "findfont: Font family 'JejuMyeongjo' not found.\n",
      "findfont: Font family 'JejuMyeongjo' not found.\n",
      "findfont: Font family 'JejuMyeongjo' not found.\n",
      "findfont: Font family 'JejuMyeongjo' not found.\n",
      "findfont: Font family 'JejuMyeongjo' not found.\n",
      "findfont: Font family 'JejuMyeongjo' not found.\n",
      "findfont: Font family 'JejuMyeongjo' not found.\n",
      "findfont: Font family 'JejuMyeongjo' not found.\n",
      "findfont: Font family 'JejuMyeongjo' not found.\n",
      "findfont: Font family 'JejuMyeongjo' not found.\n",
      "findfont: Font family 'JejuMyeongjo' not found.\n",
      "findfont: Font family 'JejuMyeongjo' not found.\n",
      "findfont: Font family 'JejuMyeongjo' not found.\n",
      "findfont: Font family 'JejuMyeongjo' not found.\n",
      "findfont: Font family 'JejuMyeongjo' not found.\n",
      "findfont: Font family 'JejuMyeongjo' not found.\n",
      "findfont: Font family 'JejuMyeongjo' not found.\n",
      "findfont: Font family 'JejuMyeongjo' not found.\n",
      "findfont: Font family 'JejuMyeongjo' not found.\n",
      "findfont: Font family 'JejuMyeongjo' not found.\n",
      "findfont: Font family 'JejuMyeongjo' not found.\n",
      "findfont: Font family 'JejuMyeongjo' not found.\n",
      "findfont: Font family 'JejuMyeongjo' not found.\n",
      "findfont: Font family 'JejuMyeongjo' not found.\n",
      "findfont: Font family 'JejuMyeongjo' not found.\n",
      "findfont: Font family 'JejuMyeongjo' not found.\n",
      "findfont: Font family 'JejuMyeongjo' not found.\n",
      "findfont: Font family 'JejuMyeongjo' not found.\n",
      "findfont: Font family 'JejuMyeongjo' not found.\n",
      "findfont: Font family 'JejuMyeongjo' not found.\n",
      "findfont: Font family 'JejuMyeongjo' not found.\n",
      "findfont: Font family 'JejuMyeongjo' not found.\n",
      "findfont: Font family 'JejuMyeongjo' not found.\n"
     ]
    },
    {
     "data": {
      "text/plain": [
       "<Figure size 1000x600 with 1 Axes>"
      ],
      "image/png": "[encoded data removed]"
     },
     "metadata": {},
     "output_type": "display_data"
    }
   ],
   "execution_count": 83
  },
  {
   "metadata": {
    "ExecuteTime": {
     "end_time": "2024-10-27T12:27:37.640229Z",
     "start_time": "2024-10-27T12:27:37.602265Z"
    }
   },
   "cell_type": "code",
   "source": [
    "import plotly.express as px\n",
    "\n",
    "#운동 형태 별 지속 시간동안 칼로리 소모양 산점도\n",
    "fig = px.scatter(gym_df, x='Calories_Burned', y='Session_Duration (hours)', color='Workout_Type',title='운동 형태 별 지속 시간동안 칼로리 소모양 산점도')\n",
    "\n",
    "fig.show()\n"
   ],
   "id": "d70671b2b9221114",
   "outputs": [
    {
     "data": {
      "application/vnd.plotly.v1+json": {
       "data": [
        {
         "hovertemplate": "Workout_Type=Yoga<br>Calories_Burned=%{x}<br>Session_Duration (hours)=%{y}<extra></extra>",
         "legendgroup": "Yoga",
         "marker": {
          "color": "#636efa",
          "symbol": "circle"
         },
         "mode": "markers",
         "name": "Yoga",
         "orientation": "v",
         "showlegend": true,
         "x": [
          1313.0,
          1195.0,
          848.0,
          721.0,
          1080.0,
          654.0,
          962.0,
          772.0,
          1122.0,
          1021.0,
          666.0,
          1358.0,
          786.0,
          864.0,
          1129.0,
          546.0,
          744.0,
          917.0,
          805.0,
          804.0,
          1073.0,
          805.0,
          1369.0,
          424.0,
          1357.0,
          446.0,
          1303.0,
          858.0,
          880.0,
          1479.0,
          500.0,
          1373.0,
          1503.0,
          837.0,
          811.0,
          451.0,
          1214.0,
          1150.0,
          1082.0,
          886.0,
          1151.0,
          967.0,
          574.0,
          813.0,
          925.0,
          418.0,
          772.0,
          707.0,
          926.0,
          686.0,
          1177.0,
          598.0,
          1443.0,
          799.0,
          1071.0,
          1241.0,
          842.0,
          680.0,
          959.0,
          1224.0,
          832.0,
          1075.0,
          772.0,
          632.0,
          713.0,
          1182.0,
          662.0,
          1136.0,
          616.0,
          1009.0,
          1053.0,
          567.0,
          876.0,
          874.0,
          970.0,
          1177.0,
          585.0,
          832.0,
          1321.0,
          764.0,
          714.0,
          810.0,
          1451.0,
          500.0,
          881.0,
          496.0,
          877.0,
          440.0,
          1123.0,
          715.0,
          574.0,
          1425.0,
          838.0,
          724.0,
          1301.0,
          639.0,
          422.0,
          440.0,
          995.0,
          927.0,
          1042.0,
          940.0,
          1396.0,
          1356.0,
          952.0,
          491.0,
          545.0,
          1155.0,
          1012.0,
          931.0,
          658.0,
          699.0,
          1151.0,
          1084.0,
          718.0,
          382.0,
          1133.0,
          731.0,
          868.0,
          1492.0,
          639.0,
          1314.0,
          1321.0,
          415.0,
          1332.0,
          851.0,
          825.0,
          937.0,
          768.0,
          1143.0,
          831.0,
          886.0,
          644.0,
          1186.0,
          759.0,
          529.0,
          656.0,
          830.0,
          737.0,
          330.0,
          789.0,
          1028.0,
          684.0,
          1287.0,
          1158.0,
          743.0,
          1173.0,
          881.0,
          661.0,
          753.0,
          948.0,
          856.0,
          1184.0,
          837.0,
          1086.0,
          640.0,
          688.0,
          983.0,
          1172.0,
          859.0,
          766.0,
          802.0,
          1229.0,
          796.0,
          1225.0,
          988.0,
          693.0,
          749.0,
          1216.0,
          1116.0,
          777.0,
          950.0,
          929.0,
          423.0,
          775.0,
          1276.0,
          1249.0,
          952.0,
          986.0,
          695.0,
          709.0,
          857.0,
          982.0,
          1378.0,
          1372.0,
          672.0,
          1536.0,
          965.0,
          645.0,
          504.0,
          666.0,
          1138.0,
          747.0,
          885.0,
          566.0,
          732.0,
          999.0,
          1148.0,
          875.0,
          958.0,
          859.0,
          406.0,
          1451.0,
          1159.0,
          996.0,
          481.0,
          756.0,
          1582.0,
          898.0,
          1031.0,
          876.0,
          433.0,
          1102.0,
          944.0,
          594.0,
          711.0,
          1117.0,
          1181.0,
          878.0,
          1189.0,
          637.0,
          815.0,
          1519.0,
          494.0,
          573.0,
          921.0,
          1307.0,
          634.0,
          681.0,
          914.0,
          976.0,
          656.0,
          1230.0,
          1104.0,
          883.0,
          760.0,
          699.0,
          354.0,
          1035.0
         ],
         "xaxis": "x",
         "y": [
          1.69,
          1.35,
          1.17,
          0.78,
          1.42,
          1.03,
          1.45,
          0.84,
          1.42,
          1.4,
          1.08,
          1.81,
          1.07,
          1.18,
          1.78,
          0.86,
          1.13,
          1.09,
          1.29,
          1.16,
          1.49,
          1.2,
          1.79,
          0.51,
          1.78,
          0.55,
          1.41,
          1.22,
          1.28,
          1.98,
          0.66,
          1.61,
          1.91,
          1.42,
          1.17,
          0.66,
          1.46,
          1.95,
          1.32,
          1.42,
          1.49,
          1.58,
          0.92,
          1.08,
          1.46,
          0.68,
          1.05,
          1.09,
          1.1,
          1.03,
          1.49,
          1.08,
          1.95,
          1.2,
          1.37,
          1.71,
          1.11,
          1.09,
          1.44,
          1.55,
          1.4,
          1.33,
          1.15,
          0.96,
          1.07,
          1.63,
          0.92,
          1.48,
          0.8,
          1.39,
          1.35,
          0.9,
          1.4,
          1.46,
          1.43,
          1.67,
          0.81,
          1.4,
          1.84,
          1.14,
          1.03,
          1.07,
          1.99,
          0.64,
          1.13,
          0.64,
          1.21,
          0.7,
          1.43,
          1.0,
          0.73,
          1.9,
          1.49,
          1.2,
          1.77,
          1.0,
          0.5,
          0.73,
          1.28,
          1.51,
          1.93,
          1.74,
          1.98,
          1.8,
          1.21,
          0.88,
          0.77,
          1.25,
          1.46,
          1.31,
          1.09,
          0.97,
          1.54,
          1.36,
          1.1,
          0.61,
          1.44,
          0.81,
          1.37,
          1.98,
          0.93,
          1.68,
          1.74,
          0.61,
          1.77,
          1.13,
          1.25,
          1.02,
          1.08,
          1.42,
          1.03,
          1.23,
          1.03,
          1.56,
          1.14,
          0.69,
          0.89,
          1.14,
          1.03,
          0.55,
          1.19,
          1.52,
          0.95,
          1.7,
          1.48,
          1.28,
          1.58,
          1.06,
          0.72,
          1.17,
          1.29,
          1.34,
          1.88,
          1.5,
          1.42,
          1.0,
          1.13,
          1.41,
          1.48,
          1.21,
          1.17,
          1.13,
          1.46,
          1.14,
          1.98,
          1.24,
          0.85,
          1.29,
          1.34,
          1.8,
          1.0,
          1.38,
          1.26,
          0.57,
          1.06,
          1.76,
          1.36,
          1.17,
          1.36,
          0.79,
          1.11,
          1.19,
          1.47,
          1.79,
          1.66,
          0.89,
          1.9,
          1.34,
          1.01,
          0.71,
          0.91,
          1.93,
          1.11,
          1.33,
          0.87,
          1.17,
          1.67,
          1.38,
          1.42,
          1.33,
          1.23,
          0.74,
          1.94,
          1.76,
          1.69,
          0.74,
          1.03,
          1.99,
          1.34,
          1.15,
          1.06,
          0.74,
          1.7,
          1.3,
          0.82,
          1.03,
          1.88,
          1.85,
          1.33,
          1.58,
          0.77,
          1.09,
          1.83,
          0.66,
          0.94,
          1.42,
          1.88,
          0.79,
          1.05,
          1.24,
          1.31,
          0.89,
          1.72,
          1.32,
          1.39,
          1.03,
          1.02,
          0.58,
          1.12
         ],
         "yaxis": "y",
         "type": "scatter"
        },
        {
         "hovertemplate": "Workout_Type=HIIT<br>Calories_Burned=%{x}<br>Session_Duration (hours)=%{y}<extra></extra>",
         "legendgroup": "HIIT",
         "marker": {
          "color": "#EF553B",
          "symbol": "circle"
         },
         "mode": "markers",
         "name": "HIIT",
         "orientation": "v",
         "showlegend": true,
         "x": [
          883.0,
          1116.0,
          593.0,
          865.0,
          794.0,
          1111.0,
          1030.0,
          925.0,
          502.0,
          1104.0,
          871.0,
          964.0,
          1046.0,
          1237.0,
          1304.0,
          506.0,
          440.0,
          1587.0,
          1176.0,
          963.0,
          1262.0,
          416.0,
          1688.0,
          924.0,
          979.0,
          1315.0,
          1357.0,
          1207.0,
          608.0,
          854.0,
          1265.0,
          711.0,
          837.0,
          644.0,
          1095.0,
          603.0,
          1082.0,
          802.0,
          937.0,
          370.0,
          1138.0,
          1025.0,
          1267.0,
          796.0,
          1147.0,
          703.0,
          1021.0,
          410.0,
          1111.0,
          900.0,
          832.0,
          1006.0,
          919.0,
          506.0,
          739.0,
          744.0,
          666.0,
          878.0,
          952.0,
          949.0,
          610.0,
          593.0,
          1047.0,
          936.0,
          979.0,
          333.0,
          1166.0,
          1474.0,
          911.0,
          1181.0,
          1359.0,
          840.0,
          742.0,
          694.0,
          1022.0,
          1223.0,
          944.0,
          939.0,
          1468.0,
          678.0,
          1100.0,
          1318.0,
          768.0,
          886.0,
          1036.0,
          891.0,
          943.0,
          1160.0,
          1145.0,
          973.0,
          720.0,
          626.0,
          992.0,
          1247.0,
          1060.0,
          663.0,
          1218.0,
          795.0,
          900.0,
          627.0,
          555.0,
          729.0,
          937.0,
          920.0,
          1055.0,
          1622.0,
          499.0,
          964.0,
          898.0,
          615.0,
          768.0,
          711.0,
          412.0,
          1185.0,
          881.0,
          612.0,
          753.0,
          831.0,
          1169.0,
          980.0,
          777.0,
          796.0,
          705.0,
          1401.0,
          1467.0,
          810.0,
          957.0,
          592.0,
          972.0,
          1071.0,
          876.0,
          1072.0,
          1646.0,
          1016.0,
          957.0,
          1111.0,
          525.0,
          1510.0,
          906.0,
          826.0,
          651.0,
          1344.0,
          1408.0,
          806.0,
          1009.0,
          1078.0,
          1355.0,
          441.0,
          806.0,
          935.0,
          894.0,
          748.0,
          749.0,
          789.0,
          937.0,
          826.0,
          972.0,
          983.0,
          752.0,
          674.0,
          821.0,
          1144.0,
          1188.0,
          870.0,
          1766.0,
          626.0,
          1025.0,
          966.0,
          581.0,
          849.0,
          954.0,
          1573.0,
          537.0,
          968.0,
          1024.0,
          380.0,
          660.0,
          741.0,
          1159.0,
          877.0,
          559.0,
          1082.0,
          668.0,
          807.0,
          924.0,
          1092.0,
          1046.0,
          1012.0,
          1491.0,
          792.0,
          659.0,
          779.0,
          879.0,
          1220.0,
          1107.0,
          893.0,
          1107.0,
          576.0,
          864.0,
          1378.0,
          965.0,
          691.0,
          706.0,
          475.0,
          951.0,
          713.0,
          713.0,
          549.0,
          531.0,
          1135.0,
          753.0,
          1044.0,
          557.0,
          727.0,
          736.0,
          1113.0,
          1127.0,
          838.0,
          1290.0,
          1327.0,
          883.0
         ],
         "xaxis": "x",
         "y": [
          1.3,
          1.59,
          0.82,
          1.15,
          1.18,
          1.33,
          1.37,
          1.25,
          0.73,
          1.64,
          1.29,
          1.27,
          1.48,
          1.52,
          1.5,
          0.81,
          0.56,
          1.99,
          1.32,
          1.47,
          1.87,
          0.64,
          1.93,
          1.26,
          1.44,
          1.72,
          1.69,
          1.38,
          0.89,
          1.38,
          1.53,
          1.02,
          1.04,
          1.1,
          1.58,
          0.83,
          1.54,
          1.2,
          1.37,
          0.56,
          1.71,
          1.18,
          1.84,
          1.18,
          1.47,
          1.24,
          1.19,
          0.63,
          1.57,
          1.45,
          0.99,
          1.29,
          1.16,
          0.81,
          1.09,
          1.04,
          1.11,
          1.33,
          1.4,
          1.36,
          1.12,
          0.81,
          1.41,
          1.4,
          1.48,
          0.53,
          1.62,
          1.94,
          1.36,
          1.85,
          1.83,
          1.01,
          1.25,
          1.16,
          1.3,
          1.48,
          1.42,
          1.42,
          1.82,
          1.15,
          1.49,
          1.56,
          0.92,
          1.14,
          1.3,
          1.35,
          1.6,
          1.86,
          1.37,
          1.31,
          1.24,
          1.14,
          1.49,
          1.86,
          1.54,
          1.06,
          1.8,
          1.04,
          1.22,
          0.76,
          0.85,
          1.2,
          1.31,
          1.18,
          1.41,
          1.82,
          0.86,
          1.21,
          1.34,
          0.74,
          1.41,
          1.06,
          0.66,
          1.87,
          1.28,
          0.87,
          1.08,
          1.41,
          1.66,
          1.42,
          1.37,
          1.34,
          1.01,
          1.9,
          1.83,
          1.03,
          1.27,
          0.92,
          1.37,
          1.29,
          1.32,
          1.34,
          1.87,
          1.27,
          1.36,
          1.47,
          0.68,
          1.83,
          1.25,
          1.36,
          0.84,
          1.67,
          1.73,
          1.25,
          1.29,
          1.4,
          1.97,
          0.76,
          1.17,
          1.12,
          1.3,
          1.26,
          1.17,
          1.13,
          1.12,
          1.02,
          1.37,
          1.2,
          1.13,
          1.11,
          1.14,
          1.37,
          1.42,
          1.18,
          1.9,
          1.07,
          1.36,
          1.27,
          0.89,
          1.38,
          1.41,
          1.81,
          0.75,
          1.49,
          1.32,
          0.55,
          0.91,
          0.93,
          1.51,
          1.45,
          0.84,
          1.64,
          0.9,
          1.08,
          1.22,
          1.72,
          1.48,
          1.31,
          1.76,
          0.96,
          1.08,
          1.21,
          1.15,
          1.76,
          1.8,
          1.07,
          1.77,
          1.04,
          1.35,
          1.65,
          1.5,
          0.91,
          1.07,
          0.76,
          1.29,
          1.05,
          0.96,
          0.75,
          0.72,
          1.66,
          1.02,
          1.31,
          0.76,
          1.01,
          1.04,
          1.77,
          1.38,
          1.32,
          1.57,
          1.87,
          1.1
         ],
         "yaxis": "y",
         "type": "scatter"
        },
        {
         "hovertemplate": "Workout_Type=Cardio<br>Calories_Burned=%{x}<br>Session_Duration (hours)=%{y}<extra></extra>",
         "legendgroup": "Cardio",
         "marker": {
          "color": "#00cc96",
          "symbol": "circle"
         },
         "mode": "markers",
         "name": "Cardio",
         "orientation": "v",
         "showlegend": true,
         "x": [
          677.0,
          1385.0,
          895.0,
          808.0,
          1013.0,
          884.0,
          875.0,
          816.0,
          879.0,
          969.0,
          734.0,
          730.0,
          1016.0,
          742.0,
          1133.0,
          750.0,
          1318.0,
          832.0,
          1150.0,
          421.0,
          627.0,
          743.0,
          777.0,
          875.0,
          363.0,
          990.0,
          1150.0,
          1231.0,
          936.0,
          441.0,
          1106.0,
          1625.0,
          888.0,
          790.0,
          824.0,
          408.0,
          1041.0,
          1042.0,
          1046.0,
          958.0,
          678.0,
          1038.0,
          499.0,
          913.0,
          362.0,
          832.0,
          1070.0,
          1119.0,
          1074.0,
          852.0,
          1195.0,
          767.0,
          1249.0,
          1133.0,
          1126.0,
          800.0,
          988.0,
          929.0,
          1280.0,
          734.0,
          1153.0,
          732.0,
          980.0,
          1292.0,
          790.0,
          815.0,
          820.0,
          699.0,
          579.0,
          594.0,
          660.0,
          1012.0,
          1163.0,
          763.0,
          880.0,
          803.0,
          497.0,
          962.0,
          502.0,
          1161.0,
          1232.0,
          923.0,
          1054.0,
          792.0,
          729.0,
          987.0,
          796.0,
          1100.0,
          407.0,
          840.0,
          822.0,
          1086.0,
          1187.0,
          875.0,
          1029.0,
          525.0,
          448.0,
          1380.0,
          1024.0,
          830.0,
          598.0,
          1200.0,
          1505.0,
          707.0,
          1192.0,
          1278.0,
          868.0,
          566.0,
          1203.0,
          499.0,
          444.0,
          1085.0,
          914.0,
          700.0,
          994.0,
          395.0,
          921.0,
          448.0,
          1203.0,
          1479.0,
          997.0,
          873.0,
          740.0,
          1304.0,
          463.0,
          886.0,
          725.0,
          1379.0,
          642.0,
          730.0,
          946.0,
          907.0,
          597.0,
          1199.0,
          1066.0,
          913.0,
          757.0,
          558.0,
          386.0,
          1107.0,
          453.0,
          794.0,
          907.0,
          904.0,
          637.0,
          463.0,
          672.0,
          686.0,
          472.0,
          331.0,
          949.0,
          895.0,
          850.0,
          1091.0,
          1053.0,
          1150.0,
          354.0,
          463.0,
          1171.0,
          1319.0,
          632.0,
          1240.0,
          807.0,
          746.0,
          933.0,
          1050.0,
          1515.0,
          303.0,
          938.0,
          1081.0,
          904.0,
          422.0,
          1410.0,
          1320.0,
          1248.0,
          875.0,
          926.0,
          909.0,
          720.0,
          679.0,
          1025.0,
          1060.0,
          868.0,
          1091.0,
          408.0,
          733.0,
          319.0,
          916.0,
          1006.0,
          951.0,
          1148.0,
          643.0,
          985.0,
          1082.0,
          445.0,
          1032.0,
          977.0,
          1015.0,
          436.0,
          1294.0,
          1197.0,
          590.0,
          433.0,
          1164.0,
          446.0,
          1241.0,
          719.0,
          388.0,
          1047.0,
          807.0,
          847.0,
          858.0,
          1228.0,
          888.0,
          756.0,
          986.0,
          1010.0,
          662.0,
          1069.0,
          1198.0,
          803.0,
          454.0,
          911.0,
          598.0,
          1234.0,
          1336.0,
          726.0,
          725.0,
          1104.0,
          1287.0,
          494.0,
          950.0,
          883.0,
          1336.0,
          895.0,
          863.0,
          831.0,
          816.0,
          1027.0,
          693.0,
          784.0,
          836.0,
          514.0,
          1418.0,
          723.0,
          852.0,
          1066.0,
          862.0,
          762.0,
          1005.0,
          636.0,
          907.0,
          1001.0,
          1227.0,
          929.0
         ],
         "xaxis": "x",
         "y": [
          1.11,
          1.49,
          1.27,
          1.08,
          1.24,
          1.19,
          1.12,
          1.04,
          1.26,
          1.48,
          1.08,
          1.14,
          1.41,
          1.03,
          1.67,
          1.13,
          1.47,
          1.08,
          1.67,
          0.62,
          0.89,
          1.08,
          1.13,
          1.37,
          0.63,
          1.2,
          1.34,
          1.8,
          1.26,
          0.58,
          1.33,
          1.97,
          1.09,
          1.02,
          1.28,
          0.51,
          1.31,
          1.69,
          1.26,
          1.42,
          0.97,
          1.46,
          0.54,
          1.23,
          0.67,
          1.08,
          1.36,
          1.57,
          1.55,
          1.27,
          1.52,
          1.1,
          1.81,
          1.28,
          1.44,
          1.23,
          1.33,
          1.26,
          1.79,
          1.08,
          1.83,
          1.28,
          1.35,
          1.8,
          1.0,
          1.36,
          1.2,
          1.11,
          0.77,
          0.93,
          1.01,
          1.31,
          1.69,
          1.06,
          1.34,
          1.03,
          0.81,
          1.54,
          0.63,
          1.47,
          1.79,
          1.13,
          1.42,
          1.07,
          1.03,
          1.3,
          1.14,
          1.37,
          0.69,
          1.2,
          1.17,
          1.42,
          1.48,
          1.14,
          1.41,
          0.84,
          0.57,
          1.93,
          1.33,
          1.19,
          0.93,
          1.5,
          1.9,
          1.18,
          1.38,
          1.48,
          1.28,
          0.88,
          1.35,
          0.62,
          0.69,
          1.43,
          1.43,
          1.01,
          1.39,
          0.66,
          1.2,
          0.69,
          1.7,
          1.88,
          1.25,
          1.47,
          0.83,
          1.62,
          0.7,
          1.33,
          0.91,
          1.66,
          1.07,
          0.84,
          1.22,
          1.08,
          0.97,
          1.38,
          1.29,
          1.1,
          1.02,
          0.9,
          0.52,
          1.29,
          0.72,
          1.27,
          1.34,
          1.37,
          1.17,
          0.61,
          0.97,
          1.04,
          0.67,
          0.54,
          1.36,
          1.26,
          1.01,
          1.24,
          1.76,
          1.83,
          0.54,
          0.59,
          1.71,
          1.75,
          0.89,
          1.67,
          1.18,
          1.13,
          1.41,
          1.28,
          1.8,
          0.51,
          1.38,
          1.31,
          1.1,
          0.71,
          1.72,
          1.6,
          1.51,
          1.02,
          1.38,
          1.67,
          1.2,
          1.07,
          1.35,
          1.29,
          1.36,
          1.44,
          0.58,
          0.97,
          0.51,
          1.41,
          1.49,
          1.16,
          1.45,
          1.02,
          1.52,
          1.49,
          0.55,
          1.29,
          1.48,
          1.29,
          0.66,
          1.47,
          1.77,
          0.79,
          0.74,
          1.42,
          0.6,
          1.41,
          1.19,
          0.53,
          1.39,
          1.08,
          1.13,
          1.09,
          1.78,
          1.22,
          1.19,
          1.1,
          1.35,
          1.05,
          1.37,
          1.32,
          1.0,
          0.72,
          1.38,
          0.77,
          1.87,
          1.59,
          1.03,
          1.03,
          1.32,
          1.72,
          0.68,
          1.28,
          1.46,
          1.65,
          1.19,
          1.26,
          1.13,
          1.15,
          1.56,
          0.94,
          0.95,
          1.14,
          0.85,
          1.99,
          1.05,
          1.2,
          1.91,
          1.21,
          1.14,
          1.83,
          0.81,
          1.17,
          1.39,
          1.99,
          1.72
         ],
         "yaxis": "y",
         "type": "scatter"
        },
        {
         "hovertemplate": "Workout_Type=Strength<br>Calories_Burned=%{x}<br>Session_Duration (hours)=%{y}<extra></extra>",
         "legendgroup": "Strength",
         "marker": {
          "color": "#ab63fa",
          "symbol": "circle"
         },
         "mode": "markers",
         "name": "Strength",
         "orientation": "v",
         "showlegend": true,
         "x": [
          532.0,
          556.0,
          719.0,
          740.0,
          742.0,
          1048.0,
          989.0,
          1162.0,
          1069.0,
          1072.0,
          1057.0,
          956.0,
          836.0,
          1046.0,
          580.0,
          1299.0,
          773.0,
          1418.0,
          1004.0,
          663.0,
          751.0,
          1003.0,
          1103.0,
          1052.0,
          735.0,
          420.0,
          667.0,
          1404.0,
          1020.0,
          677.0,
          819.0,
          685.0,
          1071.0,
          639.0,
          1701.0,
          870.0,
          458.0,
          756.0,
          877.0,
          885.0,
          624.0,
          530.0,
          1201.0,
          844.0,
          680.0,
          778.0,
          1424.0,
          1337.0,
          852.0,
          979.0,
          663.0,
          1043.0,
          887.0,
          732.0,
          1481.0,
          903.0,
          1169.0,
          1034.0,
          940.0,
          688.0,
          900.0,
          597.0,
          1074.0,
          993.0,
          1056.0,
          353.0,
          982.0,
          680.0,
          1010.0,
          1060.0,
          964.0,
          1212.0,
          598.0,
          1137.0,
          938.0,
          922.0,
          465.0,
          684.0,
          1105.0,
          1016.0,
          863.0,
          949.0,
          903.0,
          722.0,
          653.0,
          1066.0,
          1123.0,
          842.0,
          1096.0,
          482.0,
          885.0,
          927.0,
          442.0,
          949.0,
          792.0,
          888.0,
          555.0,
          1175.0,
          1289.0,
          817.0,
          1103.0,
          1056.0,
          806.0,
          882.0,
          638.0,
          725.0,
          845.0,
          767.0,
          1293.0,
          1020.0,
          996.0,
          608.0,
          492.0,
          1205.0,
          1171.0,
          1005.0,
          1198.0,
          634.0,
          894.0,
          883.0,
          1500.0,
          1316.0,
          1159.0,
          569.0,
          393.0,
          739.0,
          948.0,
          1170.0,
          882.0,
          586.0,
          753.0,
          926.0,
          1025.0,
          779.0,
          710.0,
          959.0,
          920.0,
          1144.0,
          932.0,
          1025.0,
          780.0,
          1011.0,
          1725.0,
          1304.0,
          684.0,
          933.0,
          962.0,
          834.0,
          883.0,
          1204.0,
          710.0,
          910.0,
          1004.0,
          969.0,
          958.0,
          1345.0,
          844.0,
          593.0,
          878.0,
          927.0,
          842.0,
          848.0,
          818.0,
          776.0,
          983.0,
          822.0,
          946.0,
          1022.0,
          1139.0,
          1322.0,
          1398.0,
          1257.0,
          921.0,
          714.0,
          759.0,
          847.0,
          1076.0,
          810.0,
          479.0,
          1675.0,
          350.0,
          1173.0,
          978.0,
          1151.0,
          847.0,
          502.0,
          606.0,
          887.0,
          987.0,
          719.0,
          762.0,
          634.0,
          915.0,
          954.0,
          798.0,
          1024.0,
          475.0,
          1013.0,
          394.0,
          1188.0,
          942.0,
          1634.0,
          821.0,
          906.0,
          1598.0,
          714.0,
          938.0,
          468.0,
          695.0,
          841.0,
          585.0,
          742.0,
          829.0,
          1143.0,
          484.0,
          1363.0,
          1116.0,
          717.0,
          711.0,
          1128.0,
          1043.0,
          915.0,
          673.0,
          911.0,
          698.0,
          552.0,
          1001.0,
          795.0,
          621.0,
          1242.0,
          927.0,
          1025.0,
          500.0,
          1213.0,
          992.0,
          811.0,
          470.0,
          942.0,
          1497.0,
          876.0,
          980.0,
          1783.0,
          640.0,
          705.0,
          479.0,
          1463.0,
          965.0,
          1017.0,
          402.0,
          812.0,
          718.0,
          992.0,
          1445.0,
          818.0,
          764.0,
          1364.0,
          1260.0,
          542.0
         ],
         "xaxis": "x",
         "y": [
          0.59,
          0.64,
          1.03,
          1.13,
          1.13,
          1.5,
          1.48,
          1.32,
          1.34,
          1.3,
          1.31,
          1.2,
          1.23,
          1.26,
          1.04,
          1.75,
          1.23,
          1.97,
          1.73,
          1.08,
          1.08,
          1.27,
          1.45,
          1.25,
          1.15,
          0.54,
          0.97,
          1.74,
          1.39,
          1.01,
          1.41,
          1.01,
          1.29,
          1.0,
          1.97,
          1.24,
          0.68,
          1.24,
          1.28,
          1.07,
          0.7,
          0.83,
          1.3,
          1.14,
          1.09,
          1.2,
          1.66,
          1.87,
          1.23,
          1.45,
          1.03,
          1.28,
          1.13,
          1.21,
          1.87,
          1.46,
          1.87,
          1.16,
          1.29,
          1.13,
          1.6,
          0.82,
          1.31,
          1.41,
          1.39,
          0.52,
          1.31,
          1.01,
          1.36,
          1.52,
          1.52,
          1.97,
          0.83,
          1.36,
          1.1,
          1.37,
          0.77,
          1.0,
          1.98,
          1.85,
          1.04,
          1.13,
          1.22,
          0.81,
          0.96,
          1.49,
          1.35,
          1.44,
          1.7,
          0.83,
          1.43,
          1.31,
          0.67,
          1.38,
          0.9,
          1.37,
          0.92,
          1.88,
          1.42,
          1.26,
          1.37,
          1.25,
          1.03,
          1.15,
          0.85,
          1.22,
          1.37,
          1.09,
          1.93,
          1.52,
          1.23,
          1.04,
          0.6,
          1.32,
          1.4,
          1.45,
          1.59,
          0.72,
          1.25,
          1.27,
          1.98,
          1.65,
          1.84,
          0.94,
          0.51,
          1.14,
          1.58,
          1.4,
          1.35,
          0.88,
          1.24,
          1.31,
          1.13,
          1.17,
          0.97,
          1.05,
          1.27,
          1.7,
          1.29,
          1.38,
          1.3,
          1.48,
          1.96,
          1.85,
          0.85,
          1.28,
          1.37,
          1.15,
          1.46,
          1.45,
          1.1,
          1.48,
          1.17,
          1.36,
          1.4,
          1.91,
          1.16,
          0.77,
          1.14,
          1.45,
          1.35,
          1.29,
          1.08,
          1.38,
          1.41,
          1.06,
          1.03,
          1.46,
          1.87,
          1.78,
          1.81,
          1.42,
          1.06,
          1.19,
          1.15,
          1.38,
          1.46,
          1.08,
          0.75,
          1.88,
          0.52,
          1.27,
          1.47,
          1.3,
          1.1,
          0.82,
          0.97,
          1.45,
          1.38,
          1.32,
          1.27,
          0.99,
          1.18,
          1.14,
          1.19,
          1.37,
          0.8,
          1.45,
          0.54,
          1.71,
          1.36,
          2.0,
          1.02,
          1.61,
          1.75,
          1.06,
          1.36,
          0.63,
          0.93,
          1.46,
          0.76,
          1.03,
          1.37,
          1.35,
          0.56,
          1.62,
          1.26,
          1.07,
          1.12,
          1.47,
          1.63,
          1.24,
          0.99,
          1.22,
          1.0,
          0.71,
          1.34,
          1.1,
          1.01,
          1.94,
          1.28,
          1.18,
          0.68,
          1.65,
          1.49,
          1.22,
          0.73,
          1.15,
          1.63,
          1.38,
          1.32,
          1.93,
          0.77,
          1.13,
          0.61,
          1.97,
          1.3,
          1.34,
          0.57,
          1.18,
          1.02,
          1.2,
          1.96,
          1.24,
          1.16,
          1.57,
          1.38,
          0.75
         ],
         "yaxis": "y",
         "type": "scatter"
        }
       ],
       "layout": {
        "template": {
         "data": {
          "histogram2dcontour": [
           {
            "type": "histogram2dcontour",
            "colorbar": {
             "outlinewidth": 0,
             "ticks": ""
            },
            "colorscale": [
             [
              0.0,
              "#0d0887"
             ],
             [
              0.1111111111111111,
              "#46039f"
             ],
             [
              0.2222222222222222,
              "#7201a8"
             ],
             [
              0.3333333333333333,
              "#9c179e"
             ],
             [
              0.4444444444444444,
              "#bd3786"
             ],
             [
              0.5555555555555556,
              "#d8576b"
             ],
             [
              0.6666666666666666,
              "#ed7953"
             ],
             [
              0.7777777777777778,
              "#fb9f3a"
             ],
             [
              0.8888888888888888,
              "#fdca26"
             ],
             [
              1.0,
              "#f0f921"
             ]
            ]
           }
          ],
          "choropleth": [
           {
            "type": "choropleth",
            "colorbar": {
             "outlinewidth": 0,
             "ticks": ""
            }
           }
          ],
          "histogram2d": [
           {
            "type": "histogram2d",
            "colorbar": {
             "outlinewidth": 0,
             "ticks": ""
            },
            "colorscale": [
             [
              0.0,
              "#0d0887"
             ],
             [
              0.1111111111111111,
              "#46039f"
             ],
             [
              0.2222222222222222,
              "#7201a8"
             ],
             [
              0.3333333333333333,
              "#9c179e"
             ],
             [
              0.4444444444444444,
              "#bd3786"
             ],
             [
              0.5555555555555556,
              "#d8576b"
             ],
             [
              0.6666666666666666,
              "#ed7953"
             ],
             [
              0.7777777777777778,
              "#fb9f3a"
             ],
             [
              0.8888888888888888,
              "#fdca26"
             ],
             [
              1.0,
              "#f0f921"
             ]
            ]
           }
          ],
          "heatmap": [
           {
            "type": "heatmap",
            "colorbar": {
             "outlinewidth": 0,
             "ticks": ""
            },
            "colorscale": [
             [
              0.0,
              "#0d0887"
             ],
             [
              0.1111111111111111,
              "#46039f"
             ],
             [
              0.2222222222222222,
              "#7201a8"
             ],
             [
              0.3333333333333333,
              "#9c179e"
             ],
             [
              0.4444444444444444,
              "#bd3786"
             ],
             [
              0.5555555555555556,
              "#d8576b"
             ],
             [
              0.6666666666666666,
              "#ed7953"
             ],
             [
              0.7777777777777778,
              "#fb9f3a"
             ],
             [
              0.8888888888888888,
              "#fdca26"
             ],
             [
              1.0,
              "#f0f921"
             ]
            ]
           }
          ],
          "heatmapgl": [
           {
            "type": "heatmapgl",
            "colorbar": {
             "outlinewidth": 0,
             "ticks": ""
            },
            "colorscale": [
             [
              0.0,
              "#0d0887"
             ],
             [
              0.1111111111111111,
              "#46039f"
             ],
             [
              0.2222222222222222,
              "#7201a8"
             ],
             [
              0.3333333333333333,
              "#9c179e"
             ],
             [
              0.4444444444444444,
              "#bd3786"
             ],
             [
              0.5555555555555556,
              "#d8576b"
             ],
             [
              0.6666666666666666,
              "#ed7953"
             ],
             [
              0.7777777777777778,
              "#fb9f3a"
             ],
             [
              0.8888888888888888,
              "#fdca26"
             ],
             [
              1.0,
              "#f0f921"
             ]
            ]
           }
          ],
          "contourcarpet": [
           {
            "type": "contourcarpet",
            "colorbar": {
             "outlinewidth": 0,
             "ticks": ""
            }
           }
          ],
          "contour": [
           {
            "type": "contour",
            "colorbar": {
             "outlinewidth": 0,
             "ticks": ""
            },
            "colorscale": [
             [
              0.0,
              "#0d0887"
             ],
             [
              0.1111111111111111,
              "#46039f"
             ],
             [
              0.2222222222222222,
              "#7201a8"
             ],
             [
              0.3333333333333333,
              "#9c179e"
             ],
             [
              0.4444444444444444,
              "#bd3786"
             ],
             [
              0.5555555555555556,
              "#d8576b"
             ],
             [
              0.6666666666666666,
              "#ed7953"
             ],
             [
              0.7777777777777778,
              "#fb9f3a"
             ],
             [
              0.8888888888888888,
              "#fdca26"
             ],
             [
              1.0,
              "#f0f921"
             ]
            ]
           }
          ],
          "surface": [
           {
            "type": "surface",
            "colorbar": {
             "outlinewidth": 0,
             "ticks": ""
            },
            "colorscale": [
             [
              0.0,
              "#0d0887"
             ],
             [
              0.1111111111111111,
              "#46039f"
             ],
             [
              0.2222222222222222,
              "#7201a8"
             ],
             [
              0.3333333333333333,
              "#9c179e"
             ],
             [
              0.4444444444444444,
              "#bd3786"
             ],
             [
              0.5555555555555556,
              "#d8576b"
             ],
             [
              0.6666666666666666,
              "#ed7953"
             ],
             [
              0.7777777777777778,
              "#fb9f3a"
             ],
             [
              0.8888888888888888,
              "#fdca26"
             ],
             [
              1.0,
              "#f0f921"
             ]
            ]
           }
          ],
          "mesh3d": [
           {
            "type": "mesh3d",
            "colorbar": {
             "outlinewidth": 0,
             "ticks": ""
            }
           }
          ],
          "scatter": [
           {
            "fillpattern": {
             "fillmode": "overlay",
             "size": 10,
             "solidity": 0.2
            },
            "type": "scatter"
           }
          ],
          "parcoords": [
           {
            "type": "parcoords",
            "line": {
             "colorbar": {
              "outlinewidth": 0,
              "ticks": ""
             }
            }
           }
          ],
          "scatterpolargl": [
           {
            "type": "scatterpolargl",
            "marker": {
             "colorbar": {
              "outlinewidth": 0,
              "ticks": ""
             }
            }
           }
          ],
          "bar": [
           {
            "error_x": {
             "color": "#2a3f5f"
            },
            "error_y": {
             "color": "#2a3f5f"
            },
            "marker": {
             "line": {
              "color": "#E5ECF6",
              "width": 0.5
             },
             "pattern": {
              "fillmode": "overlay",
              "size": 10,
              "solidity": 0.2
             }
            },
            "type": "bar"
           }
          ],
          "scattergeo": [
           {
            "type": "scattergeo",
            "marker": {
             "colorbar": {
              "outlinewidth": 0,
              "ticks": ""
             }
            }
           }
          ],
          "scatterpolar": [
           {
            "type": "scatterpolar",
            "marker": {
             "colorbar": {
              "outlinewidth": 0,
              "ticks": ""
             }
            }
           }
          ],
          "histogram": [
           {
            "marker": {
             "pattern": {
              "fillmode": "overlay",
              "size": 10,
              "solidity": 0.2
             }
            },
            "type": "histogram"
           }
          ],
          "scattergl": [
           {
            "type": "scattergl",
            "marker": {
             "colorbar": {
              "outlinewidth": 0,
              "ticks": ""
             }
            }
           }
          ],
          "scatter3d": [
           {
            "type": "scatter3d",
            "line": {
             "colorbar": {
              "outlinewidth": 0,
              "ticks": ""
             }
            },
            "marker": {
             "colorbar": {
              "outlinewidth": 0,
              "ticks": ""
             }
            }
           }
          ],
          "scattermapbox": [
           {
            "type": "scattermapbox",
            "marker": {
             "colorbar": {
              "outlinewidth": 0,
              "ticks": ""
             }
            }
           }
          ],
          "scatterternary": [
           {
            "type": "scatterternary",
            "marker": {
             "colorbar": {
              "outlinewidth": 0,
              "ticks": ""
             }
            }
           }
          ],
          "scattercarpet": [
           {
            "type": "scattercarpet",
            "marker": {
             "colorbar": {
              "outlinewidth": 0,
              "ticks": ""
             }
            }
           }
          ],
          "carpet": [
           {
            "aaxis": {
             "endlinecolor": "#2a3f5f",
             "gridcolor": "white",
             "linecolor": "white",
             "minorgridcolor": "white",
             "startlinecolor": "#2a3f5f"
            },
            "baxis": {
             "endlinecolor": "#2a3f5f",
             "gridcolor": "white",
             "linecolor": "white",
             "minorgridcolor": "white",
             "startlinecolor": "#2a3f5f"
            },
            "type": "carpet"
           }
          ],
          "table": [
           {
            "cells": {
             "fill": {
              "color": "#EBF0F8"
             },
             "line": {
              "color": "white"
             }
            },
            "header": {
             "fill": {
              "color": "#C8D4E3"
             },
             "line": {
              "color": "white"
             }
            },
            "type": "table"
           }
          ],
          "barpolar": [
           {
            "marker": {
             "line": {
              "color": "#E5ECF6",
              "width": 0.5
             },
             "pattern": {
              "fillmode": "overlay",
              "size": 10,
              "solidity": 0.2
             }
            },
            "type": "barpolar"
           }
          ],
          "pie": [
           {
            "automargin": true,
            "type": "pie"
           }
          ]
         },
         "layout": {
          "autotypenumbers": "strict",
          "colorway": [
           "#636efa",
           "#EF553B",
           "#00cc96",
           "#ab63fa",
           "#FFA15A",
           "#19d3f3",
           "#FF6692",
           "#B6E880",
           "#FF97FF",
           "#FECB52"
          ],
          "font": {
           "color": "#2a3f5f"
          },
          "hovermode": "closest",
          "hoverlabel": {
           "align": "left"
          },
          "paper_bgcolor": "white",
          "plot_bgcolor": "#E5ECF6",
          "polar": {
           "bgcolor": "#E5ECF6",
           "angularaxis": {
            "gridcolor": "white",
            "linecolor": "white",
            "ticks": ""
           },
           "radialaxis": {
            "gridcolor": "white",
            "linecolor": "white",
            "ticks": ""
           }
          },
          "ternary": {
           "bgcolor": "#E5ECF6",
           "aaxis": {
            "gridcolor": "white",
            "linecolor": "white",
            "ticks": ""
           },
           "baxis": {
            "gridcolor": "white",
            "linecolor": "white",
            "ticks": ""
           },
           "caxis": {
            "gridcolor": "white",
            "linecolor": "white",
            "ticks": ""
           }
          },
          "coloraxis": {
           "colorbar": {
            "outlinewidth": 0,
            "ticks": ""
           }
          },
          "colorscale": {
           "sequential": [
            [
             0.0,
             "#0d0887"
            ],
            [
             0.1111111111111111,
             "#46039f"
            ],
            [
             0.2222222222222222,
             "#7201a8"
            ],
            [
             0.3333333333333333,
             "#9c179e"
            ],
            [
             0.4444444444444444,
             "#bd3786"
            ],
            [
             0.5555555555555556,
             "#d8576b"
            ],
            [
             0.6666666666666666,
             "#ed7953"
            ],
            [
             0.7777777777777778,
             "#fb9f3a"
            ],
            [
             0.8888888888888888,
             "#fdca26"
            ],
            [
             1.0,
             "#f0f921"
            ]
           ],
           "sequentialminus": [
            [
             0.0,
             "#0d0887"
            ],
            [
             0.1111111111111111,
             "#46039f"
            ],
            [
             0.2222222222222222,
             "#7201a8"
            ],
            [
             0.3333333333333333,
             "#9c179e"
            ],
            [
             0.4444444444444444,
             "#bd3786"
            ],
            [
             0.5555555555555556,
             "#d8576b"
            ],
            [
             0.6666666666666666,
             "#ed7953"
            ],
            [
             0.7777777777777778,
             "#fb9f3a"
            ],
            [
             0.8888888888888888,
             "#fdca26"
            ],
            [
             1.0,
             "#f0f921"
            ]
           ],
           "diverging": [
            [
             0,
             "#8e0152"
            ],
            [
             0.1,
             "#c51b7d"
            ],
            [
             0.2,
             "#de77ae"
            ],
            [
             0.3,
             "#f1b6da"
            ],
            [
             0.4,
             "#fde0ef"
            ],
            [
             0.5,
             "#f7f7f7"
            ],
            [
             0.6,
             "#e6f5d0"
            ],
            [
             0.7,
             "#b8e186"
            ],
            [
             0.8,
             "#7fbc41"
            ],
            [
             0.9,
             "#4d9221"
            ],
            [
             1,
             "#276419"
            ]
           ]
          },
          "xaxis": {
           "gridcolor": "white",
           "linecolor": "white",
           "ticks": "",
           "title": {
            "standoff": 15
           },
           "zerolinecolor": "white",
           "automargin": true,
           "zerolinewidth": 2
          },
          "yaxis": {
           "gridcolor": "white",
           "linecolor": "white",
           "ticks": "",
           "title": {
            "standoff": 15
           },
           "zerolinecolor": "white",
           "automargin": true,
           "zerolinewidth": 2
          },
          "scene": {
           "xaxis": {
            "backgroundcolor": "#E5ECF6",
            "gridcolor": "white",
            "linecolor": "white",
            "showbackground": true,
            "ticks": "",
            "zerolinecolor": "white",
            "gridwidth": 2
           },
           "yaxis": {
            "backgroundcolor": "#E5ECF6",
            "gridcolor": "white",
            "linecolor": "white",
            "showbackground": true,
            "ticks": "",
            "zerolinecolor": "white",
            "gridwidth": 2
           },
           "zaxis": {
            "backgroundcolor": "#E5ECF6",
            "gridcolor": "white",
            "linecolor": "white",
            "showbackground": true,
            "ticks": "",
            "zerolinecolor": "white",
            "gridwidth": 2
           }
          },
          "shapedefaults": {
           "line": {
            "color": "#2a3f5f"
           }
          },
          "annotationdefaults": {
           "arrowcolor": "#2a3f5f",
           "arrowhead": 0,
           "arrowwidth": 1
          },
          "geo": {
           "bgcolor": "white",
           "landcolor": "#E5ECF6",
           "subunitcolor": "white",
           "showland": true,
           "showlakes": true,
           "lakecolor": "white"
          },
          "title": {
           "x": 0.05
          },
          "mapbox": {
           "style": "light"
          }
         }
        },
        "xaxis": {
         "anchor": "y",
         "domain": [
          0.0,
          1.0
         ],
         "title": {
          "text": "Calories_Burned"
         }
        },
        "yaxis": {
         "anchor": "x",
         "domain": [
          0.0,
          1.0
         ],
         "title": {
          "text": "Session_Duration (hours)"
         }
        },
        "legend": {
         "title": {
          "text": "Workout_Type"
         },
         "tracegroupgap": 0
        },
        "title": {
         "text": "운동 형태 별 지속 시간동안 칼로리 소모양 산점도"
        }
       },
       "config": {
        "plotlyServerURL": "https://plot.ly"
       }
      },
      "text/html": [
       "<div>                            <div id=\"70d59347-cb40-44e9-a83e-687bf97abb0d\" class=\"plotly-graph-div\" style=\"height:525px; width:100%;\"></div>            <script type=\"text/javascript\">                require([\"plotly\"], function(Plotly) {                    window.PLOTLYENV=window.PLOTLYENV || {};                                    if (document.getElementById(\"70d59347-cb40-44e9-a83e-687bf97abb0d\")) {                    Plotly.newPlot(                        \"70d59347-cb40-44e9-a83e-687bf97abb0d\",                        [{\"hovertemplate\":\"Workout_Type=Yoga\\u003cbr\\u003eCalories_Burned=%{x}\\u003cbr\\u003eSession_Duration (hours)=%{y}\\u003cextra\\u003e\\u003c\\u002fextra\\u003e\",\"legendgroup\":\"Yoga\",\"marker\":{\"color\":\"#636efa\",\"symbol\":\"circle\"},\"mode\":\"markers\",\"name\":\"Yoga\",\"orientation\":\"v\",\"showlegend\":true,\"x\":[1313.0,1195.0,848.0,721.0,1080.0,654.0,962.0,772.0,1122.0,1021.0,666.0,1358.0,786.0,864.0,1129.0,546.0,744.0,917.0,805.0,804.0,1073.0,805.0,1369.0,424.0,1357.0,446.0,1303.0,858.0,880.0,1479.0,500.0,1373.0,1503.0,837.0,811.0,451.0,1214.0,1150.0,1082.0,886.0,1151.0,967.0,574.0,813.0,925.0,418.0,772.0,707.0,926.0,686.0,1177.0,598.0,1443.0,799.0,1071.0,1241.0,842.0,680.0,959.0,1224.0,832.0,1075.0,772.0,632.0,713.0,1182.0,662.0,1136.0,616.0,1009.0,1053.0,567.0,876.0,874.0,970.0,1177.0,585.0,832.0,1321.0,764.0,714.0,810.0,1451.0,500.0,881.0,496.0,877.0,440.0,1123.0,715.0,574.0,1425.0,838.0,724.0,1301.0,639.0,422.0,440.0,995.0,927.0,1042.0,940.0,1396.0,1356.0,952.0,491.0,545.0,1155.0,1012.0,931.0,658.0,699.0,1151.0,1084.0,718.0,382.0,1133.0,731.0,868.0,1492.0,639.0,1314.0,1321.0,415.0,1332.0,851.0,825.0,937.0,768.0,1143.0,831.0,886.0,644.0,1186.0,759.0,529.0,656.0,830.0,737.0,330.0,789.0,1028.0,684.0,1287.0,1158.0,743.0,1173.0,881.0,661.0,753.0,948.0,856.0,1184.0,837.0,1086.0,640.0,688.0,983.0,1172.0,859.0,766.0,802.0,1229.0,796.0,1225.0,988.0,693.0,749.0,1216.0,1116.0,777.0,950.0,929.0,423.0,775.0,1276.0,1249.0,952.0,986.0,695.0,709.0,857.0,982.0,1378.0,1372.0,672.0,1536.0,965.0,645.0,504.0,666.0,1138.0,747.0,885.0,566.0,732.0,999.0,1148.0,875.0,958.0,859.0,406.0,1451.0,1159.0,996.0,481.0,756.0,1582.0,898.0,1031.0,876.0,433.0,1102.0,944.0,594.0,711.0,1117.0,1181.0,878.0,1189.0,637.0,815.0,1519.0,494.0,573.0,921.0,1307.0,634.0,681.0,914.0,976.0,656.0,1230.0,1104.0,883.0,760.0,699.0,354.0,1035.0],\"xaxis\":\"x\",\"y\":[1.69,1.35,1.17,0.78,1.42,1.03,1.45,0.84,1.42,1.4,1.08,1.81,1.07,1.18,1.78,0.86,1.13,1.09,1.29,1.16,1.49,1.2,1.79,0.51,1.78,0.55,1.41,1.22,1.28,1.98,0.66,1.61,1.91,1.42,1.17,0.66,1.46,1.95,1.32,1.42,1.49,1.58,0.92,1.08,1.46,0.68,1.05,1.09,1.1,1.03,1.49,1.08,1.95,1.2,1.37,1.71,1.11,1.09,1.44,1.55,1.4,1.33,1.15,0.96,1.07,1.63,0.92,1.48,0.8,1.39,1.35,0.9,1.4,1.46,1.43,1.67,0.81,1.4,1.84,1.14,1.03,1.07,1.99,0.64,1.13,0.64,1.21,0.7,1.43,1.0,0.73,1.9,1.49,1.2,1.77,1.0,0.5,0.73,1.28,1.51,1.93,1.74,1.98,1.8,1.21,0.88,0.77,1.25,1.46,1.31,1.09,0.97,1.54,1.36,1.1,0.61,1.44,0.81,1.37,1.98,0.93,1.68,1.74,0.61,1.77,1.13,1.25,1.02,1.08,1.42,1.03,1.23,1.03,1.56,1.14,0.69,0.89,1.14,1.03,0.55,1.19,1.52,0.95,1.7,1.48,1.28,1.58,1.06,0.72,1.17,1.29,1.34,1.88,1.5,1.42,1.0,1.13,1.41,1.48,1.21,1.17,1.13,1.46,1.14,1.98,1.24,0.85,1.29,1.34,1.8,1.0,1.38,1.26,0.57,1.06,1.76,1.36,1.17,1.36,0.79,1.11,1.19,1.47,1.79,1.66,0.89,1.9,1.34,1.01,0.71,0.91,1.93,1.11,1.33,0.87,1.17,1.67,1.38,1.42,1.33,1.23,0.74,1.94,1.76,1.69,0.74,1.03,1.99,1.34,1.15,1.06,0.74,1.7,1.3,0.82,1.03,1.88,1.85,1.33,1.58,0.77,1.09,1.83,0.66,0.94,1.42,1.88,0.79,1.05,1.24,1.31,0.89,1.72,1.32,1.39,1.03,1.02,0.58,1.12],\"yaxis\":\"y\",\"type\":\"scatter\"},{\"hovertemplate\":\"Workout_Type=HIIT\\u003cbr\\u003eCalories_Burned=%{x}\\u003cbr\\u003eSession_Duration (hours)=%{y}\\u003cextra\\u003e\\u003c\\u002fextra\\u003e\",\"legendgroup\":\"HIIT\",\"marker\":{\"color\":\"#EF553B\",\"symbol\":\"circle\"},\"mode\":\"markers\",\"name\":\"HIIT\",\"orientation\":\"v\",\"showlegend\":true,\"x\":[883.0,1116.0,593.0,865.0,794.0,1111.0,1030.0,925.0,502.0,1104.0,871.0,964.0,1046.0,1237.0,1304.0,506.0,440.0,1587.0,1176.0,963.0,1262.0,416.0,1688.0,924.0,979.0,1315.0,1357.0,1207.0,608.0,854.0,1265.0,711.0,837.0,644.0,1095.0,603.0,1082.0,802.0,937.0,370.0,1138.0,1025.0,1267.0,796.0,1147.0,703.0,1021.0,410.0,1111.0,900.0,832.0,1006.0,919.0,506.0,739.0,744.0,666.0,878.0,952.0,949.0,610.0,593.0,1047.0,936.0,979.0,333.0,1166.0,1474.0,911.0,1181.0,1359.0,840.0,742.0,694.0,1022.0,1223.0,944.0,939.0,1468.0,678.0,1100.0,1318.0,768.0,886.0,1036.0,891.0,943.0,1160.0,1145.0,973.0,720.0,626.0,992.0,1247.0,1060.0,663.0,1218.0,795.0,900.0,627.0,555.0,729.0,937.0,920.0,1055.0,1622.0,499.0,964.0,898.0,615.0,768.0,711.0,412.0,1185.0,881.0,612.0,753.0,831.0,1169.0,980.0,777.0,796.0,705.0,1401.0,1467.0,810.0,957.0,592.0,972.0,1071.0,876.0,1072.0,1646.0,1016.0,957.0,1111.0,525.0,1510.0,906.0,826.0,651.0,1344.0,1408.0,806.0,1009.0,1078.0,1355.0,441.0,806.0,935.0,894.0,748.0,749.0,789.0,937.0,826.0,972.0,983.0,752.0,674.0,821.0,1144.0,1188.0,870.0,1766.0,626.0,1025.0,966.0,581.0,849.0,954.0,1573.0,537.0,968.0,1024.0,380.0,660.0,741.0,1159.0,877.0,559.0,1082.0,668.0,807.0,924.0,1092.0,1046.0,1012.0,1491.0,792.0,659.0,779.0,879.0,1220.0,1107.0,893.0,1107.0,576.0,864.0,1378.0,965.0,691.0,706.0,475.0,951.0,713.0,713.0,549.0,531.0,1135.0,753.0,1044.0,557.0,727.0,736.0,1113.0,1127.0,838.0,1290.0,1327.0,883.0],\"xaxis\":\"x\",\"y\":[1.3,1.59,0.82,1.15,1.18,1.33,1.37,1.25,0.73,1.64,1.29,1.27,1.48,1.52,1.5,0.81,0.56,1.99,1.32,1.47,1.87,0.64,1.93,1.26,1.44,1.72,1.69,1.38,0.89,1.38,1.53,1.02,1.04,1.1,1.58,0.83,1.54,1.2,1.37,0.56,1.71,1.18,1.84,1.18,1.47,1.24,1.19,0.63,1.57,1.45,0.99,1.29,1.16,0.81,1.09,1.04,1.11,1.33,1.4,1.36,1.12,0.81,1.41,1.4,1.48,0.53,1.62,1.94,1.36,1.85,1.83,1.01,1.25,1.16,1.3,1.48,1.42,1.42,1.82,1.15,1.49,1.56,0.92,1.14,1.3,1.35,1.6,1.86,1.37,1.31,1.24,1.14,1.49,1.86,1.54,1.06,1.8,1.04,1.22,0.76,0.85,1.2,1.31,1.18,1.41,1.82,0.86,1.21,1.34,0.74,1.41,1.06,0.66,1.87,1.28,0.87,1.08,1.41,1.66,1.42,1.37,1.34,1.01,1.9,1.83,1.03,1.27,0.92,1.37,1.29,1.32,1.34,1.87,1.27,1.36,1.47,0.68,1.83,1.25,1.36,0.84,1.67,1.73,1.25,1.29,1.4,1.97,0.76,1.17,1.12,1.3,1.26,1.17,1.13,1.12,1.02,1.37,1.2,1.13,1.11,1.14,1.37,1.42,1.18,1.9,1.07,1.36,1.27,0.89,1.38,1.41,1.81,0.75,1.49,1.32,0.55,0.91,0.93,1.51,1.45,0.84,1.64,0.9,1.08,1.22,1.72,1.48,1.31,1.76,0.96,1.08,1.21,1.15,1.76,1.8,1.07,1.77,1.04,1.35,1.65,1.5,0.91,1.07,0.76,1.29,1.05,0.96,0.75,0.72,1.66,1.02,1.31,0.76,1.01,1.04,1.77,1.38,1.32,1.57,1.87,1.1],\"yaxis\":\"y\",\"type\":\"scatter\"},{\"hovertemplate\":\"Workout_Type=Cardio\\u003cbr\\u003eCalories_Burned=%{x}\\u003cbr\\u003eSession_Duration (hours)=%{y}\\u003cextra\\u003e\\u003c\\u002fextra\\u003e\",\"legendgroup\":\"Cardio\",\"marker\":{\"color\":\"#00cc96\",\"symbol\":\"circle\"},\"mode\":\"markers\",\"name\":\"Cardio\",\"orientation\":\"v\",\"showlegend\":true,\"x\":[677.0,1385.0,895.0,808.0,1013.0,884.0,875.0,816.0,879.0,969.0,734.0,730.0,1016.0,742.0,1133.0,750.0,1318.0,832.0,1150.0,421.0,627.0,743.0,777.0,875.0,363.0,990.0,1150.0,1231.0,936.0,441.0,1106.0,1625.0,888.0,790.0,824.0,408.0,1041.0,1042.0,1046.0,958.0,678.0,1038.0,499.0,913.0,362.0,832.0,1070.0,1119.0,1074.0,852.0,1195.0,767.0,1249.0,1133.0,1126.0,800.0,988.0,929.0,1280.0,734.0,1153.0,732.0,980.0,1292.0,790.0,815.0,820.0,699.0,579.0,594.0,660.0,1012.0,1163.0,763.0,880.0,803.0,497.0,962.0,502.0,1161.0,1232.0,923.0,1054.0,792.0,729.0,987.0,796.0,1100.0,407.0,840.0,822.0,1086.0,1187.0,875.0,1029.0,525.0,448.0,1380.0,1024.0,830.0,598.0,1200.0,1505.0,707.0,1192.0,1278.0,868.0,566.0,1203.0,499.0,444.0,1085.0,914.0,700.0,994.0,395.0,921.0,448.0,1203.0,1479.0,997.0,873.0,740.0,1304.0,463.0,886.0,725.0,1379.0,642.0,730.0,946.0,907.0,597.0,1199.0,1066.0,913.0,757.0,558.0,386.0,1107.0,453.0,794.0,907.0,904.0,637.0,463.0,672.0,686.0,472.0,331.0,949.0,895.0,850.0,1091.0,1053.0,1150.0,354.0,463.0,1171.0,1319.0,632.0,1240.0,807.0,746.0,933.0,1050.0,1515.0,303.0,938.0,1081.0,904.0,422.0,1410.0,1320.0,1248.0,875.0,926.0,909.0,720.0,679.0,1025.0,1060.0,868.0,1091.0,408.0,733.0,319.0,916.0,1006.0,951.0,1148.0,643.0,985.0,1082.0,445.0,1032.0,977.0,1015.0,436.0,1294.0,1197.0,590.0,433.0,1164.0,446.0,1241.0,719.0,388.0,1047.0,807.0,847.0,858.0,1228.0,888.0,756.0,986.0,1010.0,662.0,1069.0,1198.0,803.0,454.0,911.0,598.0,1234.0,1336.0,726.0,725.0,1104.0,1287.0,494.0,950.0,883.0,1336.0,895.0,863.0,831.0,816.0,1027.0,693.0,784.0,836.0,514.0,1418.0,723.0,852.0,1066.0,862.0,762.0,1005.0,636.0,907.0,1001.0,1227.0,929.0],\"xaxis\":\"x\",\"y\":[1.11,1.49,1.27,1.08,1.24,1.19,1.12,1.04,1.26,1.48,1.08,1.14,1.41,1.03,1.67,1.13,1.47,1.08,1.67,0.62,0.89,1.08,1.13,1.37,0.63,1.2,1.34,1.8,1.26,0.58,1.33,1.97,1.09,1.02,1.28,0.51,1.31,1.69,1.26,1.42,0.97,1.46,0.54,1.23,0.67,1.08,1.36,1.57,1.55,1.27,1.52,1.1,1.81,1.28,1.44,1.23,1.33,1.26,1.79,1.08,1.83,1.28,1.35,1.8,1.0,1.36,1.2,1.11,0.77,0.93,1.01,1.31,1.69,1.06,1.34,1.03,0.81,1.54,0.63,1.47,1.79,1.13,1.42,1.07,1.03,1.3,1.14,1.37,0.69,1.2,1.17,1.42,1.48,1.14,1.41,0.84,0.57,1.93,1.33,1.19,0.93,1.5,1.9,1.18,1.38,1.48,1.28,0.88,1.35,0.62,0.69,1.43,1.43,1.01,1.39,0.66,1.2,0.69,1.7,1.88,1.25,1.47,0.83,1.62,0.7,1.33,0.91,1.66,1.07,0.84,1.22,1.08,0.97,1.38,1.29,1.1,1.02,0.9,0.52,1.29,0.72,1.27,1.34,1.37,1.17,0.61,0.97,1.04,0.67,0.54,1.36,1.26,1.01,1.24,1.76,1.83,0.54,0.59,1.71,1.75,0.89,1.67,1.18,1.13,1.41,1.28,1.8,0.51,1.38,1.31,1.1,0.71,1.72,1.6,1.51,1.02,1.38,1.67,1.2,1.07,1.35,1.29,1.36,1.44,0.58,0.97,0.51,1.41,1.49,1.16,1.45,1.02,1.52,1.49,0.55,1.29,1.48,1.29,0.66,1.47,1.77,0.79,0.74,1.42,0.6,1.41,1.19,0.53,1.39,1.08,1.13,1.09,1.78,1.22,1.19,1.1,1.35,1.05,1.37,1.32,1.0,0.72,1.38,0.77,1.87,1.59,1.03,1.03,1.32,1.72,0.68,1.28,1.46,1.65,1.19,1.26,1.13,1.15,1.56,0.94,0.95,1.14,0.85,1.99,1.05,1.2,1.91,1.21,1.14,1.83,0.81,1.17,1.39,1.99,1.72],\"yaxis\":\"y\",\"type\":\"scatter\"},{\"hovertemplate\":\"Workout_Type=Strength\\u003cbr\\u003eCalories_Burned=%{x}\\u003cbr\\u003eSession_Duration (hours)=%{y}\\u003cextra\\u003e\\u003c\\u002fextra\\u003e\",\"legendgroup\":\"Strength\",\"marker\":{\"color\":\"#ab63fa\",\"symbol\":\"circle\"},\"mode\":\"markers\",\"name\":\"Strength\",\"orientation\":\"v\",\"showlegend\":true,\"x\":[532.0,556.0,719.0,740.0,742.0,1048.0,989.0,1162.0,1069.0,1072.0,1057.0,956.0,836.0,1046.0,580.0,1299.0,773.0,1418.0,1004.0,663.0,751.0,1003.0,1103.0,1052.0,735.0,420.0,667.0,1404.0,1020.0,677.0,819.0,685.0,1071.0,639.0,1701.0,870.0,458.0,756.0,877.0,885.0,624.0,530.0,1201.0,844.0,680.0,778.0,1424.0,1337.0,852.0,979.0,663.0,1043.0,887.0,732.0,1481.0,903.0,1169.0,1034.0,940.0,688.0,900.0,597.0,1074.0,993.0,1056.0,353.0,982.0,680.0,1010.0,1060.0,964.0,1212.0,598.0,1137.0,938.0,922.0,465.0,684.0,1105.0,1016.0,863.0,949.0,903.0,722.0,653.0,1066.0,1123.0,842.0,1096.0,482.0,885.0,927.0,442.0,949.0,792.0,888.0,555.0,1175.0,1289.0,817.0,1103.0,1056.0,806.0,882.0,638.0,725.0,845.0,767.0,1293.0,1020.0,996.0,608.0,492.0,1205.0,1171.0,1005.0,1198.0,634.0,894.0,883.0,1500.0,1316.0,1159.0,569.0,393.0,739.0,948.0,1170.0,882.0,586.0,753.0,926.0,1025.0,779.0,710.0,959.0,920.0,1144.0,932.0,1025.0,780.0,1011.0,1725.0,1304.0,684.0,933.0,962.0,834.0,883.0,1204.0,710.0,910.0,1004.0,969.0,958.0,1345.0,844.0,593.0,878.0,927.0,842.0,848.0,818.0,776.0,983.0,822.0,946.0,1022.0,1139.0,1322.0,1398.0,1257.0,921.0,714.0,759.0,847.0,1076.0,810.0,479.0,1675.0,350.0,1173.0,978.0,1151.0,847.0,502.0,606.0,887.0,987.0,719.0,762.0,634.0,915.0,954.0,798.0,1024.0,475.0,1013.0,394.0,1188.0,942.0,1634.0,821.0,906.0,1598.0,714.0,938.0,468.0,695.0,841.0,585.0,742.0,829.0,1143.0,484.0,1363.0,1116.0,717.0,711.0,1128.0,1043.0,915.0,673.0,911.0,698.0,552.0,1001.0,795.0,621.0,1242.0,927.0,1025.0,500.0,1213.0,992.0,811.0,470.0,942.0,1497.0,876.0,980.0,1783.0,640.0,705.0,479.0,1463.0,965.0,1017.0,402.0,812.0,718.0,992.0,1445.0,818.0,764.0,1364.0,1260.0,542.0],\"xaxis\":\"x\",\"y\":[0.59,0.64,1.03,1.13,1.13,1.5,1.48,1.32,1.34,1.3,1.31,1.2,1.23,1.26,1.04,1.75,1.23,1.97,1.73,1.08,1.08,1.27,1.45,1.25,1.15,0.54,0.97,1.74,1.39,1.01,1.41,1.01,1.29,1.0,1.97,1.24,0.68,1.24,1.28,1.07,0.7,0.83,1.3,1.14,1.09,1.2,1.66,1.87,1.23,1.45,1.03,1.28,1.13,1.21,1.87,1.46,1.87,1.16,1.29,1.13,1.6,0.82,1.31,1.41,1.39,0.52,1.31,1.01,1.36,1.52,1.52,1.97,0.83,1.36,1.1,1.37,0.77,1.0,1.98,1.85,1.04,1.13,1.22,0.81,0.96,1.49,1.35,1.44,1.7,0.83,1.43,1.31,0.67,1.38,0.9,1.37,0.92,1.88,1.42,1.26,1.37,1.25,1.03,1.15,0.85,1.22,1.37,1.09,1.93,1.52,1.23,1.04,0.6,1.32,1.4,1.45,1.59,0.72,1.25,1.27,1.98,1.65,1.84,0.94,0.51,1.14,1.58,1.4,1.35,0.88,1.24,1.31,1.13,1.17,0.97,1.05,1.27,1.7,1.29,1.38,1.3,1.48,1.96,1.85,0.85,1.28,1.37,1.15,1.46,1.45,1.1,1.48,1.17,1.36,1.4,1.91,1.16,0.77,1.14,1.45,1.35,1.29,1.08,1.38,1.41,1.06,1.03,1.46,1.87,1.78,1.81,1.42,1.06,1.19,1.15,1.38,1.46,1.08,0.75,1.88,0.52,1.27,1.47,1.3,1.1,0.82,0.97,1.45,1.38,1.32,1.27,0.99,1.18,1.14,1.19,1.37,0.8,1.45,0.54,1.71,1.36,2.0,1.02,1.61,1.75,1.06,1.36,0.63,0.93,1.46,0.76,1.03,1.37,1.35,0.56,1.62,1.26,1.07,1.12,1.47,1.63,1.24,0.99,1.22,1.0,0.71,1.34,1.1,1.01,1.94,1.28,1.18,0.68,1.65,1.49,1.22,0.73,1.15,1.63,1.38,1.32,1.93,0.77,1.13,0.61,1.97,1.3,1.34,0.57,1.18,1.02,1.2,1.96,1.24,1.16,1.57,1.38,0.75],\"yaxis\":\"y\",\"type\":\"scatter\"}],                        {\"template\":{\"data\":{\"histogram2dcontour\":[{\"type\":\"histogram2dcontour\",\"colorbar\":{\"outlinewidth\":0,\"ticks\":\"\"},\"colorscale\":[[0.0,\"#0d0887\"],[0.1111111111111111,\"#46039f\"],[0.2222222222222222,\"#7201a8\"],[0.3333333333333333,\"#9c179e\"],[0.4444444444444444,\"#bd3786\"],[0.5555555555555556,\"#d8576b\"],[0.6666666666666666,\"#ed7953\"],[0.7777777777777778,\"#fb9f3a\"],[0.8888888888888888,\"#fdca26\"],[1.0,\"#f0f921\"]]}],\"choropleth\":[{\"type\":\"choropleth\",\"colorbar\":{\"outlinewidth\":0,\"ticks\":\"\"}}],\"histogram2d\":[{\"type\":\"histogram2d\",\"colorbar\":{\"outlinewidth\":0,\"ticks\":\"\"},\"colorscale\":[[0.0,\"#0d0887\"],[0.1111111111111111,\"#46039f\"],[0.2222222222222222,\"#7201a8\"],[0.3333333333333333,\"#9c179e\"],[0.4444444444444444,\"#bd3786\"],[0.5555555555555556,\"#d8576b\"],[0.6666666666666666,\"#ed7953\"],[0.7777777777777778,\"#fb9f3a\"],[0.8888888888888888,\"#fdca26\"],[1.0,\"#f0f921\"]]}],\"heatmap\":[{\"type\":\"heatmap\",\"colorbar\":{\"outlinewidth\":0,\"ticks\":\"\"},\"colorscale\":[[0.0,\"#0d0887\"],[0.1111111111111111,\"#46039f\"],[0.2222222222222222,\"#7201a8\"],[0.3333333333333333,\"#9c179e\"],[0.4444444444444444,\"#bd3786\"],[0.5555555555555556,\"#d8576b\"],[0.6666666666666666,\"#ed7953\"],[0.7777777777777778,\"#fb9f3a\"],[0.8888888888888888,\"#fdca26\"],[1.0,\"#f0f921\"]]}],\"heatmapgl\":[{\"type\":\"heatmapgl\",\"colorbar\":{\"outlinewidth\":0,\"ticks\":\"\"},\"colorscale\":[[0.0,\"#0d0887\"],[0.1111111111111111,\"#46039f\"],[0.2222222222222222,\"#7201a8\"],[0.3333333333333333,\"#9c179e\"],[0.4444444444444444,\"#bd3786\"],[0.5555555555555556,\"#d8576b\"],[0.6666666666666666,\"#ed7953\"],[0.7777777777777778,\"#fb9f3a\"],[0.8888888888888888,\"#fdca26\"],[1.0,\"#f0f921\"]]}],\"contourcarpet\":[{\"type\":\"contourcarpet\",\"colorbar\":{\"outlinewidth\":0,\"ticks\":\"\"}}],\"contour\":[{\"type\":\"contour\",\"colorbar\":{\"outlinewidth\":0,\"ticks\":\"\"},\"colorscale\":[[0.0,\"#0d0887\"],[0.1111111111111111,\"#46039f\"],[0.2222222222222222,\"#7201a8\"],[0.3333333333333333,\"#9c179e\"],[0.4444444444444444,\"#bd3786\"],[0.5555555555555556,\"#d8576b\"],[0.6666666666666666,\"#ed7953\"],[0.7777777777777778,\"#fb9f3a\"],[0.8888888888888888,\"#fdca26\"],[1.0,\"#f0f921\"]]}],\"surface\":[{\"type\":\"surface\",\"colorbar\":{\"outlinewidth\":0,\"ticks\":\"\"},\"colorscale\":[[0.0,\"#0d0887\"],[0.1111111111111111,\"#46039f\"],[0.2222222222222222,\"#7201a8\"],[0.3333333333333333,\"#9c179e\"],[0.4444444444444444,\"#bd3786\"],[0.5555555555555556,\"#d8576b\"],[0.6666666666666666,\"#ed7953\"],[0.7777777777777778,\"#fb9f3a\"],[0.8888888888888888,\"#fdca26\"],[1.0,\"#f0f921\"]]}],\"mesh3d\":[{\"type\":\"mesh3d\",\"colorbar\":{\"outlinewidth\":0,\"ticks\":\"\"}}],\"scatter\":[{\"fillpattern\":{\"fillmode\":\"overlay\",\"size\":10,\"solidity\":0.2},\"type\":\"scatter\"}],\"parcoords\":[{\"type\":\"parcoords\",\"line\":{\"colorbar\":{\"outlinewidth\":0,\"ticks\":\"\"}}}],\"scatterpolargl\":[{\"type\":\"scatterpolargl\",\"marker\":{\"colorbar\":{\"outlinewidth\":0,\"ticks\":\"\"}}}],\"bar\":[{\"error_x\":{\"color\":\"#2a3f5f\"},\"error_y\":{\"color\":\"#2a3f5f\"},\"marker\":{\"line\":{\"color\":\"#E5ECF6\",\"width\":0.5},\"pattern\":{\"fillmode\":\"overlay\",\"size\":10,\"solidity\":0.2}},\"type\":\"bar\"}],\"scattergeo\":[{\"type\":\"scattergeo\",\"marker\":{\"colorbar\":{\"outlinewidth\":0,\"ticks\":\"\"}}}],\"scatterpolar\":[{\"type\":\"scatterpolar\",\"marker\":{\"colorbar\":{\"outlinewidth\":0,\"ticks\":\"\"}}}],\"histogram\":[{\"marker\":{\"pattern\":{\"fillmode\":\"overlay\",\"size\":10,\"solidity\":0.2}},\"type\":\"histogram\"}],\"scattergl\":[{\"type\":\"scattergl\",\"marker\":{\"colorbar\":{\"outlinewidth\":0,\"ticks\":\"\"}}}],\"scatter3d\":[{\"type\":\"scatter3d\",\"line\":{\"colorbar\":{\"outlinewidth\":0,\"ticks\":\"\"}},\"marker\":{\"colorbar\":{\"outlinewidth\":0,\"ticks\":\"\"}}}],\"scattermapbox\":[{\"type\":\"scattermapbox\",\"marker\":{\"colorbar\":{\"outlinewidth\":0,\"ticks\":\"\"}}}],\"scatterternary\":[{\"type\":\"scatterternary\",\"marker\":{\"colorbar\":{\"outlinewidth\":0,\"ticks\":\"\"}}}],\"scattercarpet\":[{\"type\":\"scattercarpet\",\"marker\":{\"colorbar\":{\"outlinewidth\":0,\"ticks\":\"\"}}}],\"carpet\":[{\"aaxis\":{\"endlinecolor\":\"#2a3f5f\",\"gridcolor\":\"white\",\"linecolor\":\"white\",\"minorgridcolor\":\"white\",\"startlinecolor\":\"#2a3f5f\"},\"baxis\":{\"endlinecolor\":\"#2a3f5f\",\"gridcolor\":\"white\",\"linecolor\":\"white\",\"minorgridcolor\":\"white\",\"startlinecolor\":\"#2a3f5f\"},\"type\":\"carpet\"}],\"table\":[{\"cells\":{\"fill\":{\"color\":\"#EBF0F8\"},\"line\":{\"color\":\"white\"}},\"header\":{\"fill\":{\"color\":\"#C8D4E3\"},\"line\":{\"color\":\"white\"}},\"type\":\"table\"}],\"barpolar\":[{\"marker\":{\"line\":{\"color\":\"#E5ECF6\",\"width\":0.5},\"pattern\":{\"fillmode\":\"overlay\",\"size\":10,\"solidity\":0.2}},\"type\":\"barpolar\"}],\"pie\":[{\"automargin\":true,\"type\":\"pie\"}]},\"layout\":{\"autotypenumbers\":\"strict\",\"colorway\":[\"#636efa\",\"#EF553B\",\"#00cc96\",\"#ab63fa\",\"#FFA15A\",\"#19d3f3\",\"#FF6692\",\"#B6E880\",\"#FF97FF\",\"#FECB52\"],\"font\":{\"color\":\"#2a3f5f\"},\"hovermode\":\"closest\",\"hoverlabel\":{\"align\":\"left\"},\"paper_bgcolor\":\"white\",\"plot_bgcolor\":\"#E5ECF6\",\"polar\":{\"bgcolor\":\"#E5ECF6\",\"angularaxis\":{\"gridcolor\":\"white\",\"linecolor\":\"white\",\"ticks\":\"\"},\"radialaxis\":{\"gridcolor\":\"white\",\"linecolor\":\"white\",\"ticks\":\"\"}},\"ternary\":{\"bgcolor\":\"#E5ECF6\",\"aaxis\":{\"gridcolor\":\"white\",\"linecolor\":\"white\",\"ticks\":\"\"},\"baxis\":{\"gridcolor\":\"white\",\"linecolor\":\"white\",\"ticks\":\"\"},\"caxis\":{\"gridcolor\":\"white\",\"linecolor\":\"white\",\"ticks\":\"\"}},\"coloraxis\":{\"colorbar\":{\"outlinewidth\":0,\"ticks\":\"\"}},\"colorscale\":{\"sequential\":[[0.0,\"#0d0887\"],[0.1111111111111111,\"#46039f\"],[0.2222222222222222,\"#7201a8\"],[0.3333333333333333,\"#9c179e\"],[0.4444444444444444,\"#bd3786\"],[0.5555555555555556,\"#d8576b\"],[0.6666666666666666,\"#ed7953\"],[0.7777777777777778,\"#fb9f3a\"],[0.8888888888888888,\"#fdca26\"],[1.0,\"#f0f921\"]],\"sequentialminus\":[[0.0,\"#0d0887\"],[0.1111111111111111,\"#46039f\"],[0.2222222222222222,\"#7201a8\"],[0.3333333333333333,\"#9c179e\"],[0.4444444444444444,\"#bd3786\"],[0.5555555555555556,\"#d8576b\"],[0.6666666666666666,\"#ed7953\"],[0.7777777777777778,\"#fb9f3a\"],[0.8888888888888888,\"#fdca26\"],[1.0,\"#f0f921\"]],\"diverging\":[[0,\"#8e0152\"],[0.1,\"#c51b7d\"],[0.2,\"#de77ae\"],[0.3,\"#f1b6da\"],[0.4,\"#fde0ef\"],[0.5,\"#f7f7f7\"],[0.6,\"#e6f5d0\"],[0.7,\"#b8e186\"],[0.8,\"#7fbc41\"],[0.9,\"#4d9221\"],[1,\"#276419\"]]},\"xaxis\":{\"gridcolor\":\"white\",\"linecolor\":\"white\",\"ticks\":\"\",\"title\":{\"standoff\":15},\"zerolinecolor\":\"white\",\"automargin\":true,\"zerolinewidth\":2},\"yaxis\":{\"gridcolor\":\"white\",\"linecolor\":\"white\",\"ticks\":\"\",\"title\":{\"standoff\":15},\"zerolinecolor\":\"white\",\"automargin\":true,\"zerolinewidth\":2},\"scene\":{\"xaxis\":{\"backgroundcolor\":\"#E5ECF6\",\"gridcolor\":\"white\",\"linecolor\":\"white\",\"showbackground\":true,\"ticks\":\"\",\"zerolinecolor\":\"white\",\"gridwidth\":2},\"yaxis\":{\"backgroundcolor\":\"#E5ECF6\",\"gridcolor\":\"white\",\"linecolor\":\"white\",\"showbackground\":true,\"ticks\":\"\",\"zerolinecolor\":\"white\",\"gridwidth\":2},\"zaxis\":{\"backgroundcolor\":\"#E5ECF6\",\"gridcolor\":\"white\",\"linecolor\":\"white\",\"showbackground\":true,\"ticks\":\"\",\"zerolinecolor\":\"white\",\"gridwidth\":2}},\"shapedefaults\":{\"line\":{\"color\":\"#2a3f5f\"}},\"annotationdefaults\":{\"arrowcolor\":\"#2a3f5f\",\"arrowhead\":0,\"arrowwidth\":1},\"geo\":{\"bgcolor\":\"white\",\"landcolor\":\"#E5ECF6\",\"subunitcolor\":\"white\",\"showland\":true,\"showlakes\":true,\"lakecolor\":\"white\"},\"title\":{\"x\":0.05},\"mapbox\":{\"style\":\"light\"}}},\"xaxis\":{\"anchor\":\"y\",\"domain\":[0.0,1.0],\"title\":{\"text\":\"Calories_Burned\"}},\"yaxis\":{\"anchor\":\"x\",\"domain\":[0.0,1.0],\"title\":{\"text\":\"Session_Duration (hours)\"}},\"legend\":{\"title\":{\"text\":\"Workout_Type\"},\"tracegroupgap\":0},\"title\":{\"text\":\"\\uc6b4\\ub3d9 \\ud615\\ud0dc \\ubcc4 \\uc9c0\\uc18d \\uc2dc\\uac04\\ub3d9\\uc548 \\uce7c\\ub85c\\ub9ac \\uc18c\\ubaa8\\uc591 \\uc0b0\\uc810\\ub3c4\"}},                        {\"responsive\": true}                    ).then(function(){\n",
       "                            \n",
       "var gd = document.getElementById('70d59347-cb40-44e9-a83e-687bf97abb0d');\n",
       "var x = new MutationObserver(function (mutations, observer) {{\n",
       "        var display = window.getComputedStyle(gd).display;\n",
       "        if (!display || display === 'none') {{\n",
       "            console.log([gd, 'removed!']);\n",
       "            Plotly.purge(gd);\n",
       "            observer.disconnect();\n",
       "        }}\n",
       "}});\n",
       "\n",
       "// Listen for the removal of the full notebook cells\n",
       "var notebookContainer = gd.closest('#notebook-container');\n",
       "if (notebookContainer) {{\n",
       "    x.observe(notebookContainer, {childList: true});\n",
       "}}\n",
       "\n",
       "// Listen for the clearing of the current output cell\n",
       "var outputEl = gd.closest('.output');\n",
       "if (outputEl) {{\n",
       "    x.observe(outputEl, {childList: true});\n",
       "}}\n",
       "\n",
       "                        })                };                });            </script>        </div>"
      ]
     },
     "metadata": {},
     "output_type": "display_data"
    }
   ],
   "execution_count": 84
  },
  {
   "metadata": {
    "ExecuteTime": {
     "end_time": "2024-10-27T12:27:37.868863Z",
     "start_time": "2024-10-27T12:27:37.648962Z"
    }
   },
   "cell_type": "code",
   "source": [
    "# 위 산점도를 성별과 연령대 별로 나눈 산점도\n",
    "fig = px.scatter(gym_df, x='Calories_Burned', y='Session_Duration (hours)', \n",
    "                 color='Workout_Type', facet_row='Gender', facet_col='Agegroup', \n",
    "                 title=\"운동 형태 별 지속 시간과 칼로리 소모량 (성별, 연령대 별)\")\n",
    "# y축 라벨 회전 설정 (예: 45도)\n",
    "fig.update_yaxes(tickangle=45)\n",
    "fig.show()"
   ],
   "id": "3c371ff34536f05f",
   "outputs": [
    {
     "data": {
      "application/vnd.plotly.v1+json": {
       "data": [
        {
         "hovertemplate": "Workout_Type=Yoga<br>Gender=Male<br>Agegroup=50대<br>Calories_Burned=%{x}<br>Session_Duration (hours)=%{y}<extra></extra>",
         "legendgroup": "Yoga",
         "marker": {
          "color": "#636efa",
          "symbol": "circle"
         },
         "mode": "markers",
         "name": "Yoga",
         "orientation": "v",
         "showlegend": true,
         "x": [
          1313.0,
          805.0,
          1357.0,
          446.0,
          500.0,
          811.0,
          451.0,
          1151.0,
          574.0,
          813.0,
          707.0,
          1071.0,
          680.0,
          632.0,
          1136.0,
          874.0,
          585.0,
          1321.0,
          810.0,
          639.0,
          927.0,
          1084.0,
          1332.0,
          529.0,
          830.0,
          789.0,
          1158.0,
          753.0,
          688.0,
          796.0,
          777.0,
          950.0,
          423.0,
          645.0,
          1148.0,
          1159.0,
          1181.0,
          637.0,
          815.0,
          921.0
         ],
         "xaxis": "x6",
         "y": [
          1.69,
          1.29,
          1.78,
          0.55,
          0.66,
          1.17,
          0.66,
          1.49,
          0.92,
          1.08,
          1.09,
          1.37,
          1.09,
          0.96,
          1.48,
          1.46,
          0.81,
          1.84,
          1.07,
          1.0,
          1.51,
          1.36,
          1.77,
          0.69,
          1.14,
          1.19,
          1.48,
          1.17,
          1.13,
          1.14,
          1.0,
          1.38,
          0.57,
          1.01,
          1.38,
          1.76,
          1.85,
          0.77,
          1.09,
          1.42
         ],
         "yaxis": "y6",
         "type": "scatter"
        },
        {
         "hovertemplate": "Workout_Type=Yoga<br>Gender=Male<br>Agegroup=40대<br>Calories_Burned=%{x}<br>Session_Duration (hours)=%{y}<extra></extra>",
         "legendgroup": "Yoga",
         "marker": {
          "color": "#636efa",
          "symbol": "circle"
         },
         "mode": "markers",
         "name": "Yoga",
         "orientation": "v",
         "showlegend": false,
         "x": [
          962.0,
          864.0,
          744.0,
          424.0,
          858.0,
          1503.0,
          1214.0,
          886.0,
          925.0,
          832.0,
          970.0,
          440.0,
          995.0,
          545.0,
          658.0,
          1151.0,
          1133.0,
          868.0,
          1314.0,
          851.0,
          831.0,
          1287.0,
          881.0,
          856.0,
          1225.0,
          988.0,
          929.0,
          982.0,
          1372.0,
          666.0,
          747.0,
          876.0,
          1102.0,
          1189.0,
          634.0,
          681.0
         ],
         "xaxis": "x7",
         "y": [
          1.45,
          1.18,
          1.13,
          0.51,
          1.22,
          1.91,
          1.46,
          1.42,
          1.46,
          1.4,
          1.43,
          0.7,
          1.28,
          0.77,
          1.09,
          1.54,
          1.44,
          1.37,
          1.68,
          1.13,
          1.03,
          1.7,
          1.06,
          1.34,
          1.98,
          1.24,
          1.26,
          1.47,
          1.66,
          0.91,
          1.11,
          1.06,
          1.7,
          1.58,
          0.79,
          1.05
         ],
         "yaxis": "y7",
         "type": "scatter"
        },
        {
         "hovertemplate": "Workout_Type=Yoga<br>Gender=Male<br>Agegroup=30대<br>Calories_Burned=%{x}<br>Session_Duration (hours)=%{y}<extra></extra>",
         "legendgroup": "Yoga",
         "marker": {
          "color": "#636efa",
          "symbol": "circle"
         },
         "mode": "markers",
         "name": "Yoga",
         "orientation": "v",
         "showlegend": false,
         "x": [
          880.0,
          1373.0,
          842.0,
          1075.0,
          616.0,
          1009.0,
          500.0,
          574.0,
          1155.0,
          731.0,
          1492.0,
          1321.0,
          1173.0,
          1216.0,
          1249.0,
          1536.0,
          504.0,
          859.0,
          494.0,
          656.0,
          1230.0
         ],
         "xaxis": "x8",
         "y": [
          1.28,
          1.61,
          1.11,
          1.33,
          0.8,
          1.39,
          0.64,
          0.73,
          1.25,
          0.81,
          1.98,
          1.74,
          1.58,
          1.34,
          1.36,
          1.9,
          0.71,
          1.23,
          0.66,
          0.89,
          1.72
         ],
         "yaxis": "y8",
         "type": "scatter"
        },
        {
         "hovertemplate": "Workout_Type=Yoga<br>Gender=Male<br>Agegroup=20대<br>Calories_Burned=%{x}<br>Session_Duration (hours)=%{y}<extra></extra>",
         "legendgroup": "Yoga",
         "marker": {
          "color": "#636efa",
          "symbol": "circle"
         },
         "mode": "markers",
         "name": "Yoga",
         "orientation": "v",
         "showlegend": false,
         "x": [
          1195.0,
          721.0,
          772.0,
          917.0,
          804.0,
          805.0,
          799.0,
          1241.0,
          772.0,
          496.0,
          715.0,
          1356.0,
          699.0,
          639.0,
          937.0,
          656.0,
          1028.0,
          661.0,
          1086.0,
          1172.0,
          802.0,
          775.0,
          695.0,
          1378.0,
          885.0,
          1451.0,
          1031.0,
          944.0,
          914.0,
          1104.0,
          1035.0
         ],
         "xaxis": "x9",
         "y": [
          1.35,
          0.78,
          0.84,
          1.09,
          1.16,
          1.2,
          1.2,
          1.71,
          1.15,
          0.64,
          1.0,
          1.8,
          0.97,
          0.93,
          1.02,
          0.89,
          1.52,
          0.72,
          1.42,
          1.48,
          1.13,
          1.06,
          0.79,
          1.79,
          1.33,
          1.94,
          1.15,
          1.3,
          1.24,
          1.32,
          1.12
         ],
         "yaxis": "y9",
         "type": "scatter"
        },
        {
         "hovertemplate": "Workout_Type=Yoga<br>Gender=Male<br>Agegroup=10대<br>Calories_Burned=%{x}<br>Session_Duration (hours)=%{y}<extra></extra>",
         "legendgroup": "Yoga",
         "marker": {
          "color": "#636efa",
          "symbol": "circle"
         },
         "mode": "markers",
         "name": "Yoga",
         "orientation": "v",
         "showlegend": false,
         "x": [
          1303.0,
          926.0,
          952.0,
          1229.0,
          952.0
         ],
         "xaxis": "x10",
         "y": [
          1.41,
          1.1,
          1.21,
          1.46,
          1.17
         ],
         "yaxis": "y10",
         "type": "scatter"
        },
        {
         "hovertemplate": "Workout_Type=Yoga<br>Gender=Female<br>Agegroup=50대<br>Calories_Burned=%{x}<br>Session_Duration (hours)=%{y}<extra></extra>",
         "legendgroup": "Yoga",
         "marker": {
          "color": "#636efa",
          "symbol": "circle"
         },
         "mode": "markers",
         "name": "Yoga",
         "orientation": "v",
         "showlegend": false,
         "x": [
          848.0,
          1021.0,
          666.0,
          598.0,
          567.0,
          876.0,
          714.0,
          838.0,
          724.0,
          1042.0,
          940.0,
          718.0,
          768.0,
          737.0,
          743.0,
          1184.0,
          837.0,
          983.0,
          749.0,
          965.0,
          406.0,
          996.0,
          760.0
         ],
         "xaxis": "x",
         "y": [
          1.17,
          1.4,
          1.08,
          1.08,
          0.9,
          1.4,
          1.03,
          1.49,
          1.2,
          1.93,
          1.74,
          1.1,
          1.08,
          1.03,
          1.28,
          1.88,
          1.5,
          1.41,
          1.29,
          1.34,
          0.74,
          1.69,
          1.03
         ],
         "yaxis": "y",
         "type": "scatter"
        },
        {
         "hovertemplate": "Workout_Type=Yoga<br>Gender=Female<br>Agegroup=40대<br>Calories_Burned=%{x}<br>Session_Duration (hours)=%{y}<extra></extra>",
         "legendgroup": "Yoga",
         "marker": {
          "color": "#636efa",
          "symbol": "circle"
         },
         "mode": "markers",
         "name": "Yoga",
         "orientation": "v",
         "showlegend": false,
         "x": [
          1080.0,
          1129.0,
          1369.0,
          1479.0,
          837.0,
          1150.0,
          967.0,
          686.0,
          959.0,
          1224.0,
          713.0,
          832.0,
          764.0,
          1451.0,
          440.0,
          491.0,
          1012.0,
          931.0,
          382.0,
          415.0,
          759.0,
          684.0,
          693.0,
          709.0,
          1138.0,
          566.0,
          732.0,
          999.0,
          875.0,
          756.0,
          898.0,
          433.0,
          1117.0
         ],
         "xaxis": "x2",
         "y": [
          1.42,
          1.78,
          1.79,
          1.98,
          1.42,
          1.95,
          1.58,
          1.03,
          1.44,
          1.55,
          1.07,
          1.4,
          1.14,
          1.99,
          0.73,
          0.88,
          1.46,
          1.31,
          0.61,
          0.61,
          1.14,
          0.95,
          0.85,
          1.11,
          1.93,
          0.87,
          1.17,
          1.67,
          1.42,
          1.03,
          1.34,
          0.74,
          1.88
         ],
         "yaxis": "y2",
         "type": "scatter"
        },
        {
         "hovertemplate": "Workout_Type=Yoga<br>Gender=Female<br>Agegroup=30대<br>Calories_Burned=%{x}<br>Session_Duration (hours)=%{y}<extra></extra>",
         "legendgroup": "Yoga",
         "marker": {
          "color": "#636efa",
          "symbol": "circle"
         },
         "mode": "markers",
         "name": "Yoga",
         "orientation": "v",
         "showlegend": false,
         "x": [
          1122.0,
          1358.0,
          786.0,
          1443.0,
          1182.0,
          662.0,
          881.0,
          1301.0,
          886.0,
          644.0,
          859.0,
          766.0,
          1116.0,
          1276.0,
          857.0,
          672.0,
          958.0,
          481.0,
          883.0,
          699.0
         ],
         "xaxis": "x3",
         "y": [
          1.42,
          1.81,
          1.07,
          1.95,
          1.63,
          0.92,
          1.13,
          1.77,
          1.23,
          1.03,
          1.21,
          1.17,
          1.8,
          1.76,
          1.19,
          0.89,
          1.33,
          0.74,
          1.39,
          1.02
         ],
         "yaxis": "y3",
         "type": "scatter"
        },
        {
         "hovertemplate": "Workout_Type=Yoga<br>Gender=Female<br>Agegroup=20대<br>Calories_Burned=%{x}<br>Session_Duration (hours)=%{y}<extra></extra>",
         "legendgroup": "Yoga",
         "marker": {
          "color": "#636efa",
          "symbol": "circle"
         },
         "mode": "markers",
         "name": "Yoga",
         "orientation": "v",
         "showlegend": false,
         "x": [
          654.0,
          546.0,
          1073.0,
          1082.0,
          418.0,
          1177.0,
          1053.0,
          1177.0,
          1123.0,
          422.0,
          825.0,
          1186.0,
          330.0,
          640.0,
          986.0,
          1582.0,
          594.0,
          711.0,
          878.0,
          1519.0,
          1307.0,
          976.0,
          354.0
         ],
         "xaxis": "x4",
         "y": [
          1.03,
          0.86,
          1.49,
          1.32,
          0.68,
          1.49,
          1.35,
          1.67,
          1.43,
          0.5,
          1.25,
          1.56,
          0.55,
          1.0,
          1.36,
          1.99,
          0.82,
          1.03,
          1.33,
          1.83,
          1.88,
          1.31,
          0.58
         ],
         "yaxis": "y4",
         "type": "scatter"
        },
        {
         "hovertemplate": "Workout_Type=Yoga<br>Gender=Female<br>Agegroup=10대<br>Calories_Burned=%{x}<br>Session_Duration (hours)=%{y}<extra></extra>",
         "legendgroup": "Yoga",
         "marker": {
          "color": "#636efa",
          "symbol": "circle"
         },
         "mode": "markers",
         "name": "Yoga",
         "orientation": "v",
         "showlegend": false,
         "x": [
          772.0,
          877.0,
          1425.0,
          1396.0,
          1143.0,
          948.0,
          573.0
         ],
         "xaxis": "x5",
         "y": [
          1.05,
          1.21,
          1.9,
          1.98,
          1.42,
          1.29,
          0.94
         ],
         "yaxis": "y5",
         "type": "scatter"
        },
        {
         "hovertemplate": "Workout_Type=HIIT<br>Gender=Male<br>Agegroup=50대<br>Calories_Burned=%{x}<br>Session_Duration (hours)=%{y}<extra></extra>",
         "legendgroup": "HIIT",
         "marker": {
          "color": "#EF553B",
          "symbol": "circle"
         },
         "mode": "markers",
         "name": "HIIT",
         "orientation": "v",
         "showlegend": true,
         "x": [
          865.0,
          608.0,
          1082.0,
          802.0,
          1111.0,
          739.0,
          949.0,
          333.0,
          840.0,
          1036.0,
          555.0,
          964.0,
          412.0,
          796.0,
          705.0,
          525.0,
          894.0,
          937.0,
          668.0,
          924.0,
          779.0,
          736.0,
          1290.0
         ],
         "xaxis": "x6",
         "y": [
          1.15,
          0.89,
          1.54,
          1.2,
          1.57,
          1.09,
          1.36,
          0.53,
          1.01,
          1.3,
          0.85,
          1.21,
          0.66,
          1.34,
          1.01,
          0.68,
          1.3,
          1.12,
          0.9,
          1.22,
          1.21,
          1.04,
          1.57
         ],
         "yaxis": "y6",
         "type": "scatter"
        },
        {
         "hovertemplate": "Workout_Type=HIIT<br>Gender=Male<br>Agegroup=40대<br>Calories_Burned=%{x}<br>Session_Duration (hours)=%{y}<extra></extra>",
         "legendgroup": "HIIT",
         "marker": {
          "color": "#EF553B",
          "symbol": "circle"
         },
         "mode": "markers",
         "name": "HIIT",
         "orientation": "v",
         "showlegend": false,
         "x": [
          593.0,
          794.0,
          502.0,
          1104.0,
          1176.0,
          854.0,
          1265.0,
          936.0,
          1181.0,
          1022.0,
          1223.0,
          1468.0,
          886.0,
          1160.0,
          973.0,
          900.0,
          1185.0,
          612.0,
          1401.0,
          1467.0,
          876.0,
          1009.0,
          1355.0,
          748.0,
          1188.0,
          741.0,
          1159.0,
          807.0,
          1012.0,
          531.0,
          1044.0,
          557.0,
          1113.0,
          1127.0
         ],
         "xaxis": "x7",
         "y": [
          0.82,
          1.18,
          0.73,
          1.64,
          1.32,
          1.38,
          1.53,
          1.4,
          1.85,
          1.3,
          1.48,
          1.82,
          1.14,
          1.86,
          1.31,
          1.22,
          1.87,
          0.87,
          1.9,
          1.83,
          1.32,
          1.29,
          1.97,
          1.26,
          1.42,
          0.93,
          1.51,
          1.08,
          1.31,
          0.72,
          1.31,
          0.76,
          1.77,
          1.38
         ],
         "yaxis": "y7",
         "type": "scatter"
        },
        {
         "hovertemplate": "Workout_Type=HIIT<br>Gender=Male<br>Agegroup=30대<br>Calories_Burned=%{x}<br>Session_Duration (hours)=%{y}<extra></extra>",
         "legendgroup": "HIIT",
         "marker": {
          "color": "#EF553B",
          "symbol": "circle"
         },
         "mode": "markers",
         "name": "HIIT",
         "orientation": "v",
         "showlegend": false,
         "x": [
          964.0,
          1237.0,
          1304.0,
          1587.0,
          1021.0,
          744.0,
          593.0,
          1145.0,
          992.0,
          1218.0,
          1055.0,
          810.0,
          957.0,
          972.0,
          1646.0,
          957.0,
          651.0,
          1078.0,
          789.0,
          870.0,
          1025.0,
          1573.0,
          559.0,
          713.0,
          883.0
         ],
         "xaxis": "x8",
         "y": [
          1.27,
          1.52,
          1.5,
          1.99,
          1.19,
          1.04,
          0.81,
          1.37,
          1.49,
          1.8,
          1.41,
          1.03,
          1.27,
          1.37,
          1.87,
          1.36,
          0.84,
          1.4,
          1.13,
          1.18,
          1.36,
          1.81,
          0.84,
          0.96,
          1.1
         ],
         "yaxis": "y8",
         "type": "scatter"
        },
        {
         "hovertemplate": "Workout_Type=HIIT<br>Gender=Male<br>Agegroup=20대<br>Calories_Burned=%{x}<br>Session_Duration (hours)=%{y}<extra></extra>",
         "legendgroup": "HIIT",
         "marker": {
          "color": "#EF553B",
          "symbol": "circle"
         },
         "mode": "markers",
         "name": "HIIT",
         "orientation": "v",
         "showlegend": false,
         "x": [
          1688.0,
          1357.0,
          1207.0,
          603.0,
          1138.0,
          1025.0,
          919.0,
          878.0,
          891.0,
          795.0,
          627.0,
          937.0,
          1622.0,
          615.0,
          1169.0,
          972.0,
          752.0,
          821.0,
          954.0,
          1024.0,
          1491.0,
          792.0,
          879.0,
          691.0,
          951.0,
          549.0,
          1327.0
         ],
         "xaxis": "x9",
         "y": [
          1.93,
          1.69,
          1.38,
          0.83,
          1.71,
          1.18,
          1.16,
          1.33,
          1.35,
          1.04,
          0.76,
          1.31,
          1.82,
          0.74,
          1.66,
          1.37,
          1.13,
          1.14,
          1.41,
          1.32,
          1.76,
          0.96,
          1.15,
          0.91,
          1.29,
          0.75,
          1.87
         ],
         "yaxis": "y9",
         "type": "scatter"
        },
        {
         "hovertemplate": "Workout_Type=HIIT<br>Gender=Male<br>Agegroup=10대<br>Calories_Burned=%{x}<br>Session_Duration (hours)=%{y}<extra></extra>",
         "legendgroup": "HIIT",
         "marker": {
          "color": "#EF553B",
          "symbol": "circle"
         },
         "mode": "markers",
         "name": "HIIT",
         "orientation": "v",
         "showlegend": false,
         "x": [
          1315.0,
          1510.0,
          1408.0,
          983.0,
          1766.0
         ],
         "xaxis": "x10",
         "y": [
          1.72,
          1.83,
          1.73,
          1.2,
          1.9
         ],
         "yaxis": "y10",
         "type": "scatter"
        },
        {
         "hovertemplate": "Workout_Type=HIIT<br>Gender=Female<br>Agegroup=50대<br>Calories_Burned=%{x}<br>Session_Duration (hours)=%{y}<extra></extra>",
         "legendgroup": "HIIT",
         "marker": {
          "color": "#EF553B",
          "symbol": "circle"
         },
         "mode": "markers",
         "name": "HIIT",
         "orientation": "v",
         "showlegend": false,
         "x": [
          1116.0,
          1030.0,
          1046.0,
          924.0,
          1095.0,
          703.0,
          900.0,
          610.0,
          1359.0,
          742.0,
          1100.0,
          943.0,
          720.0,
          663.0,
          729.0,
          499.0,
          898.0,
          768.0,
          711.0,
          753.0,
          831.0,
          592.0,
          826.0,
          806.0,
          674.0,
          626.0,
          581.0,
          1220.0,
          1107.0,
          475.0,
          713.0,
          1135.0,
          753.0,
          838.0
         ],
         "xaxis": "x",
         "y": [
          1.59,
          1.37,
          1.48,
          1.26,
          1.58,
          1.24,
          1.45,
          1.12,
          1.83,
          1.25,
          1.49,
          1.6,
          1.24,
          1.06,
          1.2,
          0.86,
          1.34,
          1.41,
          1.06,
          1.08,
          1.41,
          0.92,
          1.36,
          1.17,
          1.11,
          1.07,
          0.89,
          1.76,
          1.77,
          0.76,
          1.05,
          1.66,
          1.02,
          1.32
         ],
         "yaxis": "y",
         "type": "scatter"
        },
        {
         "hovertemplate": "Workout_Type=HIIT<br>Gender=Female<br>Agegroup=40대<br>Calories_Burned=%{x}<br>Session_Duration (hours)=%{y}<extra></extra>",
         "legendgroup": "HIIT",
         "marker": {
          "color": "#EF553B",
          "symbol": "circle"
         },
         "mode": "markers",
         "name": "HIIT",
         "orientation": "v",
         "showlegend": false,
         "x": [
          883.0,
          711.0,
          644.0,
          937.0,
          1267.0,
          1047.0,
          979.0,
          694.0,
          939.0,
          678.0,
          626.0,
          1247.0,
          1060.0,
          920.0,
          881.0,
          777.0,
          1111.0,
          441.0,
          966.0,
          537.0,
          1046.0,
          576.0,
          965.0
         ],
         "xaxis": "x2",
         "y": [
          1.3,
          1.02,
          1.1,
          1.37,
          1.84,
          1.41,
          1.48,
          1.16,
          1.42,
          1.15,
          1.14,
          1.86,
          1.54,
          1.18,
          1.28,
          1.37,
          1.47,
          0.76,
          1.27,
          0.75,
          1.48,
          1.04,
          1.5
         ],
         "yaxis": "y2",
         "type": "scatter"
        },
        {
         "hovertemplate": "Workout_Type=HIIT<br>Gender=Female<br>Agegroup=30대<br>Calories_Burned=%{x}<br>Session_Duration (hours)=%{y}<extra></extra>",
         "legendgroup": "HIIT",
         "marker": {
          "color": "#EF553B",
          "symbol": "circle"
         },
         "mode": "markers",
         "name": "HIIT",
         "orientation": "v",
         "showlegend": false,
         "x": [
          925.0,
          871.0,
          440.0,
          963.0,
          1262.0,
          416.0,
          979.0,
          796.0,
          1006.0,
          666.0,
          911.0,
          1318.0,
          768.0,
          906.0,
          1344.0,
          806.0,
          749.0,
          826.0,
          1082.0,
          1092.0,
          1378.0,
          727.0
         ],
         "xaxis": "x3",
         "y": [
          1.25,
          1.29,
          0.56,
          1.47,
          1.87,
          0.64,
          1.44,
          1.18,
          1.29,
          1.11,
          1.36,
          1.56,
          0.92,
          1.25,
          1.67,
          1.25,
          1.17,
          1.02,
          1.64,
          1.72,
          1.65,
          1.01
         ],
         "yaxis": "y3",
         "type": "scatter"
        },
        {
         "hovertemplate": "Workout_Type=HIIT<br>Gender=Female<br>Agegroup=20대<br>Calories_Burned=%{x}<br>Session_Duration (hours)=%{y}<extra></extra>",
         "legendgroup": "HIIT",
         "marker": {
          "color": "#EF553B",
          "symbol": "circle"
         },
         "mode": "markers",
         "name": "HIIT",
         "orientation": "v",
         "showlegend": false,
         "x": [
          837.0,
          370.0,
          1147.0,
          410.0,
          832.0,
          506.0,
          1166.0,
          1474.0,
          944.0,
          980.0,
          1071.0,
          1072.0,
          1016.0,
          935.0,
          1144.0,
          849.0,
          968.0,
          380.0,
          660.0,
          877.0,
          659.0,
          1107.0,
          893.0,
          706.0
         ],
         "xaxis": "x4",
         "y": [
          1.04,
          0.56,
          1.47,
          0.63,
          0.99,
          0.81,
          1.62,
          1.94,
          1.42,
          1.42,
          1.29,
          1.34,
          1.27,
          1.12,
          1.37,
          1.38,
          1.49,
          0.55,
          0.91,
          1.45,
          1.08,
          1.8,
          1.07,
          1.07
         ],
         "yaxis": "y4",
         "type": "scatter"
        },
        {
         "hovertemplate": "Workout_Type=HIIT<br>Gender=Female<br>Agegroup=10대<br>Calories_Burned=%{x}<br>Session_Duration (hours)=%{y}<extra></extra>",
         "legendgroup": "HIIT",
         "marker": {
          "color": "#EF553B",
          "symbol": "circle"
         },
         "mode": "markers",
         "name": "HIIT",
         "orientation": "v",
         "showlegend": false,
         "x": [
          1111.0,
          506.0,
          952.0,
          864.0
         ],
         "xaxis": "x5",
         "y": [
          1.33,
          0.81,
          1.4,
          1.35
         ],
         "yaxis": "y5",
         "type": "scatter"
        },
        {
         "hovertemplate": "Workout_Type=Cardio<br>Gender=Male<br>Agegroup=50대<br>Calories_Burned=%{x}<br>Session_Duration (hours)=%{y}<extra></extra>",
         "legendgroup": "Cardio",
         "marker": {
          "color": "#00cc96",
          "symbol": "circle"
         },
         "mode": "markers",
         "name": "Cardio",
         "orientation": "v",
         "showlegend": true,
         "x": [
          1013.0,
          1133.0,
          750.0,
          936.0,
          1106.0,
          1119.0,
          1292.0,
          579.0,
          594.0,
          1012.0,
          497.0,
          1232.0,
          923.0,
          598.0,
          868.0,
          444.0,
          1203.0,
          453.0,
          331.0,
          1060.0,
          868.0,
          1091.0,
          719.0,
          388.0,
          858.0,
          895.0,
          1027.0,
          1418.0,
          862.0
         ],
         "xaxis": "x6",
         "y": [
          1.24,
          1.67,
          1.13,
          1.26,
          1.33,
          1.57,
          1.8,
          0.77,
          0.93,
          1.31,
          0.81,
          1.79,
          1.13,
          0.93,
          1.28,
          0.69,
          1.7,
          0.72,
          0.54,
          1.29,
          1.36,
          1.44,
          1.19,
          0.53,
          1.09,
          1.19,
          1.56,
          1.99,
          1.21
         ],
         "yaxis": "y6",
         "type": "scatter"
        },
        {
         "hovertemplate": "Workout_Type=Cardio<br>Gender=Male<br>Agegroup=40대<br>Calories_Burned=%{x}<br>Session_Duration (hours)=%{y}<extra></extra>",
         "legendgroup": "Cardio",
         "marker": {
          "color": "#00cc96",
          "symbol": "circle"
         },
         "mode": "markers",
         "name": "Cardio",
         "orientation": "v",
         "showlegend": false,
         "x": [
          777.0,
          824.0,
          1126.0,
          988.0,
          815.0,
          820.0,
          660.0,
          1163.0,
          729.0,
          796.0,
          822.0,
          1187.0,
          875.0,
          1505.0,
          707.0,
          1192.0,
          1085.0,
          700.0,
          921.0,
          873.0,
          725.0,
          946.0,
          1066.0,
          949.0,
          1150.0,
          904.0,
          1248.0,
          951.0,
          1015.0,
          888.0,
          598.0,
          762.0
         ],
         "xaxis": "x7",
         "y": [
          1.13,
          1.28,
          1.44,
          1.33,
          1.36,
          1.2,
          1.01,
          1.69,
          1.03,
          1.14,
          1.17,
          1.48,
          1.14,
          1.9,
          1.18,
          1.38,
          1.43,
          1.01,
          1.2,
          1.47,
          0.91,
          1.22,
          1.29,
          1.36,
          1.83,
          1.1,
          1.51,
          1.16,
          1.29,
          1.22,
          0.77,
          1.14
         ],
         "yaxis": "y7",
         "type": "scatter"
        },
        {
         "hovertemplate": "Workout_Type=Cardio<br>Gender=Male<br>Agegroup=30대<br>Calories_Burned=%{x}<br>Session_Duration (hours)=%{y}<extra></extra>",
         "legendgroup": "Cardio",
         "marker": {
          "color": "#00cc96",
          "symbol": "circle"
         },
         "mode": "markers",
         "name": "Cardio",
         "orientation": "v",
         "showlegend": false,
         "x": [
          1385.0,
          875.0,
          743.0,
          678.0,
          499.0,
          832.0,
          1195.0,
          929.0,
          987.0,
          1100.0,
          1086.0,
          448.0,
          1379.0,
          730.0,
          1199.0,
          757.0,
          472.0,
          1091.0,
          1081.0,
          1410.0,
          408.0,
          1148.0,
          1082.0,
          445.0,
          1197.0,
          446.0,
          1241.0,
          1047.0,
          986.0,
          1010.0,
          1198.0,
          1104.0
         ],
         "xaxis": "x8",
         "y": [
          1.49,
          1.12,
          1.08,
          0.97,
          0.54,
          1.08,
          1.52,
          1.26,
          1.3,
          1.37,
          1.42,
          0.57,
          1.66,
          0.84,
          1.38,
          1.02,
          0.67,
          1.24,
          1.31,
          1.72,
          0.58,
          1.45,
          1.49,
          0.55,
          1.77,
          0.6,
          1.41,
          1.39,
          1.1,
          1.35,
          1.32,
          1.32
         ],
         "yaxis": "y8",
         "type": "scatter"
        },
        {
         "hovertemplate": "Workout_Type=Cardio<br>Gender=Male<br>Agegroup=20대<br>Calories_Burned=%{x}<br>Session_Duration (hours)=%{y}<extra></extra>",
         "legendgroup": "Cardio",
         "marker": {
          "color": "#00cc96",
          "symbol": "circle"
         },
         "mode": "markers",
         "name": "Cardio",
         "orientation": "v",
         "showlegend": false,
         "x": [
          808.0,
          1016.0,
          1318.0,
          1150.0,
          1070.0,
          1074.0,
          1280.0,
          980.0,
          502.0,
          1054.0,
          1278.0,
          1203.0,
          1479.0,
          997.0,
          386.0,
          1107.0,
          907.0,
          686.0,
          850.0,
          1319.0,
          1515.0,
          1320.0,
          875.0,
          926.0,
          1025.0,
          1294.0,
          803.0,
          1287.0,
          494.0,
          950.0
         ],
         "xaxis": "x9",
         "y": [
          1.08,
          1.41,
          1.47,
          1.34,
          1.36,
          1.55,
          1.79,
          1.35,
          0.63,
          1.42,
          1.48,
          1.35,
          1.88,
          1.25,
          0.52,
          1.29,
          1.34,
          1.04,
          1.01,
          1.75,
          1.8,
          1.6,
          1.02,
          1.38,
          1.35,
          1.47,
          1.0,
          1.72,
          0.68,
          1.28
         ],
         "yaxis": "y9",
         "type": "scatter"
        },
        {
         "hovertemplate": "Workout_Type=Cardio<br>Gender=Male<br>Agegroup=10대<br>Calories_Burned=%{x}<br>Session_Duration (hours)=%{y}<extra></extra>",
         "legendgroup": "Cardio",
         "marker": {
          "color": "#00cc96",
          "symbol": "circle"
         },
         "mode": "markers",
         "name": "Cardio",
         "orientation": "v",
         "showlegend": false,
         "x": [
          1133.0,
          740.0,
          463.0,
          436.0,
          725.0,
          693.0
         ],
         "xaxis": "x10",
         "y": [
          1.28,
          0.83,
          0.61,
          0.66,
          1.03,
          0.94
         ],
         "yaxis": "y10",
         "type": "scatter"
        },
        {
         "hovertemplate": "Workout_Type=Cardio<br>Gender=Female<br>Agegroup=50대<br>Calories_Burned=%{x}<br>Session_Duration (hours)=%{y}<extra></extra>",
         "legendgroup": "Cardio",
         "marker": {
          "color": "#00cc96",
          "symbol": "circle"
         },
         "mode": "markers",
         "name": "Cardio",
         "orientation": "v",
         "showlegend": false,
         "x": [
          879.0,
          363.0,
          1231.0,
          441.0,
          913.0,
          362.0,
          852.0,
          767.0,
          763.0,
          880.0,
          407.0,
          830.0,
          914.0,
          794.0,
          637.0,
          672.0,
          422.0,
          733.0,
          985.0,
          807.0,
          662.0,
          454.0,
          836.0,
          723.0,
          1066.0,
          1001.0,
          1227.0,
          929.0
         ],
         "xaxis": "x",
         "y": [
          1.26,
          0.63,
          1.8,
          0.58,
          1.23,
          0.67,
          1.27,
          1.1,
          1.06,
          1.34,
          0.69,
          1.19,
          1.43,
          1.27,
          1.17,
          0.97,
          0.71,
          0.97,
          1.52,
          1.08,
          1.05,
          0.72,
          1.14,
          1.05,
          1.91,
          1.39,
          1.99,
          1.72
         ],
         "yaxis": "y",
         "type": "scatter"
        },
        {
         "hovertemplate": "Workout_Type=Cardio<br>Gender=Female<br>Agegroup=40대<br>Calories_Burned=%{x}<br>Session_Duration (hours)=%{y}<extra></extra>",
         "legendgroup": "Cardio",
         "marker": {
          "color": "#00cc96",
          "symbol": "circle"
         },
         "mode": "markers",
         "name": "Cardio",
         "orientation": "v",
         "showlegend": false,
         "x": [
          895.0,
          884.0,
          1150.0,
          421.0,
          875.0,
          1041.0,
          1042.0,
          1038.0,
          1153.0,
          732.0,
          1380.0,
          566.0,
          395.0,
          463.0,
          886.0,
          1053.0,
          1240.0,
          807.0,
          933.0,
          303.0,
          938.0,
          909.0,
          590.0,
          433.0,
          1005.0
         ],
         "xaxis": "x2",
         "y": [
          1.27,
          1.19,
          1.67,
          0.62,
          1.37,
          1.31,
          1.69,
          1.46,
          1.83,
          1.28,
          1.93,
          0.88,
          0.66,
          0.7,
          1.33,
          1.76,
          1.67,
          1.18,
          1.41,
          0.51,
          1.38,
          1.67,
          0.79,
          0.74,
          1.83
         ],
         "yaxis": "y2",
         "type": "scatter"
        },
        {
         "hovertemplate": "Workout_Type=Cardio<br>Gender=Female<br>Agegroup=30대<br>Calories_Burned=%{x}<br>Session_Duration (hours)=%{y}<extra></extra>",
         "legendgroup": "Cardio",
         "marker": {
          "color": "#00cc96",
          "symbol": "circle"
         },
         "mode": "markers",
         "name": "Cardio",
         "orientation": "v",
         "showlegend": false,
         "x": [
          677.0,
          969.0,
          742.0,
          888.0,
          408.0,
          1046.0,
          1249.0,
          734.0,
          790.0,
          803.0,
          962.0,
          1161.0,
          792.0,
          1024.0,
          1200.0,
          499.0,
          448.0,
          597.0,
          913.0,
          558.0,
          904.0,
          354.0,
          463.0,
          746.0,
          1050.0,
          916.0,
          643.0,
          847.0,
          1228.0,
          726.0,
          863.0,
          514.0,
          636.0
         ],
         "xaxis": "x3",
         "y": [
          1.11,
          1.48,
          1.03,
          1.09,
          0.51,
          1.26,
          1.81,
          1.08,
          1.0,
          1.03,
          1.54,
          1.47,
          1.07,
          1.33,
          1.5,
          0.62,
          0.69,
          0.97,
          1.1,
          0.9,
          1.37,
          0.54,
          0.59,
          1.13,
          1.28,
          1.41,
          1.02,
          1.13,
          1.78,
          1.03,
          1.26,
          0.85,
          0.81
         ],
         "yaxis": "y3",
         "type": "scatter"
        },
        {
         "hovertemplate": "Workout_Type=Cardio<br>Gender=Female<br>Agegroup=20대<br>Calories_Burned=%{x}<br>Session_Duration (hours)=%{y}<extra></extra>",
         "legendgroup": "Cardio",
         "marker": {
          "color": "#00cc96",
          "symbol": "circle"
         },
         "mode": "markers",
         "name": "Cardio",
         "orientation": "v",
         "showlegend": false,
         "x": [
          816.0,
          734.0,
          832.0,
          627.0,
          1625.0,
          790.0,
          958.0,
          1029.0,
          994.0,
          1304.0,
          642.0,
          907.0,
          895.0,
          1171.0,
          632.0,
          720.0,
          319.0,
          1006.0,
          977.0,
          756.0,
          1069.0,
          911.0,
          1336.0,
          831.0,
          816.0,
          784.0,
          852.0
         ],
         "xaxis": "x4",
         "y": [
          1.04,
          1.08,
          1.08,
          0.89,
          1.97,
          1.02,
          1.42,
          1.41,
          1.39,
          1.62,
          1.07,
          1.08,
          1.26,
          1.71,
          0.89,
          1.2,
          0.51,
          1.49,
          1.48,
          1.19,
          1.37,
          1.38,
          1.59,
          1.13,
          1.15,
          0.95,
          1.2
         ],
         "yaxis": "y4",
         "type": "scatter"
        },
        {
         "hovertemplate": "Workout_Type=Cardio<br>Gender=Female<br>Agegroup=10대<br>Calories_Burned=%{x}<br>Session_Duration (hours)=%{y}<extra></extra>",
         "legendgroup": "Cardio",
         "marker": {
          "color": "#00cc96",
          "symbol": "circle"
         },
         "mode": "markers",
         "name": "Cardio",
         "orientation": "v",
         "showlegend": false,
         "x": [
          730.0,
          990.0,
          800.0,
          699.0,
          840.0,
          525.0,
          679.0,
          1032.0,
          1164.0,
          1234.0,
          883.0,
          1336.0,
          907.0
         ],
         "xaxis": "x5",
         "y": [
          1.14,
          1.2,
          1.23,
          1.11,
          1.2,
          0.84,
          1.07,
          1.29,
          1.42,
          1.87,
          1.46,
          1.65,
          1.17
         ],
         "yaxis": "y5",
         "type": "scatter"
        },
        {
         "hovertemplate": "Workout_Type=Strength<br>Gender=Male<br>Agegroup=50대<br>Calories_Burned=%{x}<br>Session_Duration (hours)=%{y}<extra></extra>",
         "legendgroup": "Strength",
         "marker": {
          "color": "#ab63fa",
          "symbol": "circle"
         },
         "mode": "markers",
         "name": "Strength",
         "orientation": "v",
         "showlegend": true,
         "x": [
          989.0,
          773.0,
          420.0,
          667.0,
          1404.0,
          685.0,
          639.0,
          458.0,
          885.0,
          663.0,
          903.0,
          688.0,
          353.0,
          465.0,
          1123.0,
          885.0,
          927.0,
          817.0,
          882.0,
          882.0,
          1144.0,
          1011.0,
          969.0,
          1139.0,
          847.0,
          954.0,
          1024.0,
          1128.0,
          915.0,
          795.0,
          640.0,
          705.0,
          965.0,
          992.0,
          764.0
         ],
         "xaxis": "x6",
         "y": [
          1.48,
          1.23,
          0.54,
          0.97,
          1.74,
          1.01,
          1.0,
          0.68,
          1.07,
          1.03,
          1.46,
          1.13,
          0.52,
          0.77,
          1.35,
          1.43,
          1.31,
          1.26,
          1.15,
          1.35,
          1.7,
          1.48,
          1.36,
          1.87,
          1.38,
          1.14,
          1.37,
          1.47,
          1.24,
          1.1,
          0.77,
          1.13,
          1.3,
          1.2,
          1.16
         ],
         "yaxis": "y6",
         "type": "scatter"
        },
        {
         "hovertemplate": "Workout_Type=Strength<br>Gender=Male<br>Agegroup=40대<br>Calories_Burned=%{x}<br>Session_Duration (hours)=%{y}<extra></extra>",
         "legendgroup": "Strength",
         "marker": {
          "color": "#ab63fa",
          "symbol": "circle"
         },
         "mode": "markers",
         "name": "Strength",
         "orientation": "v",
         "showlegend": false,
         "x": [
          1057.0,
          956.0,
          663.0,
          530.0,
          680.0,
          778.0,
          1481.0,
          597.0,
          680.0,
          922.0,
          722.0,
          792.0,
          806.0,
          1171.0,
          1500.0,
          739.0,
          932.0,
          844.0,
          842.0,
          818.0,
          1398.0,
          1257.0,
          350.0,
          942.0,
          1634.0,
          714.0,
          468.0,
          552.0,
          1497.0,
          812.0,
          1445.0,
          542.0
         ],
         "xaxis": "x7",
         "y": [
          1.31,
          1.2,
          1.08,
          0.83,
          1.09,
          1.2,
          1.87,
          0.82,
          1.01,
          1.37,
          0.81,
          0.9,
          1.03,
          1.4,
          1.98,
          1.14,
          1.29,
          1.16,
          1.35,
          1.08,
          1.81,
          1.42,
          0.52,
          1.36,
          2.0,
          1.06,
          0.63,
          0.71,
          1.63,
          1.18,
          1.96,
          0.75
         ],
         "yaxis": "y7",
         "type": "scatter"
        },
        {
         "hovertemplate": "Workout_Type=Strength<br>Gender=Male<br>Agegroup=30대<br>Calories_Burned=%{x}<br>Session_Duration (hours)=%{y}<extra></extra>",
         "legendgroup": "Strength",
         "marker": {
          "color": "#ab63fa",
          "symbol": "circle"
         },
         "mode": "markers",
         "name": "Strength",
         "orientation": "v",
         "showlegend": false,
         "x": [
          556.0,
          1069.0,
          1071.0,
          852.0,
          938.0,
          949.0,
          1289.0,
          767.0,
          1205.0,
          1198.0,
          634.0,
          1170.0,
          1725.0,
          593.0,
          946.0,
          1322.0,
          1076.0,
          1151.0,
          987.0,
          915.0,
          1013.0,
          1143.0,
          484.0,
          1116.0,
          1025.0,
          992.0,
          1783.0,
          718.0,
          818.0
         ],
         "xaxis": "x8",
         "y": [
          0.64,
          1.34,
          1.29,
          1.23,
          1.1,
          1.38,
          1.42,
          1.09,
          1.32,
          1.59,
          0.72,
          1.4,
          1.96,
          0.77,
          1.03,
          1.78,
          1.46,
          1.3,
          1.38,
          1.18,
          1.45,
          1.35,
          0.56,
          1.26,
          1.18,
          1.49,
          1.93,
          1.02,
          1.24
         ],
         "yaxis": "y8",
         "type": "scatter"
        },
        {
         "hovertemplate": "Workout_Type=Strength<br>Gender=Male<br>Agegroup=20대<br>Calories_Burned=%{x}<br>Session_Duration (hours)=%{y}<extra></extra>",
         "legendgroup": "Strength",
         "marker": {
          "color": "#ab63fa",
          "symbol": "circle"
         },
         "mode": "markers",
         "name": "Strength",
         "orientation": "v",
         "showlegend": false,
         "x": [
          532.0,
          719.0,
          1162.0,
          1072.0,
          1046.0,
          1299.0,
          1052.0,
          1701.0,
          624.0,
          1034.0,
          993.0,
          1137.0,
          442.0,
          1020.0,
          1005.0,
          1316.0,
          393.0,
          1025.0,
          710.0,
          959.0,
          1004.0,
          1345.0,
          921.0,
          759.0,
          1675.0,
          1598.0,
          1363.0,
          698.0,
          942.0,
          980.0,
          1017.0,
          1364.0,
          1260.0
         ],
         "xaxis": "x9",
         "y": [
          0.59,
          1.03,
          1.32,
          1.3,
          1.26,
          1.75,
          1.25,
          1.97,
          0.7,
          1.16,
          1.41,
          1.36,
          0.67,
          1.52,
          1.45,
          1.65,
          0.51,
          1.13,
          0.97,
          1.05,
          1.17,
          1.91,
          1.06,
          1.15,
          1.88,
          1.75,
          1.62,
          1.0,
          1.15,
          1.32,
          1.34,
          1.57,
          1.38
         ],
         "yaxis": "y9",
         "type": "scatter"
        },
        {
         "hovertemplate": "Workout_Type=Strength<br>Gender=Male<br>Agegroup=10대<br>Calories_Burned=%{x}<br>Session_Duration (hours)=%{y}<extra></extra>",
         "legendgroup": "Strength",
         "marker": {
          "color": "#ab63fa",
          "symbol": "circle"
         },
         "mode": "markers",
         "name": "Strength",
         "orientation": "v",
         "showlegend": false,
         "x": [
          1048.0,
          1201.0,
          1424.0,
          1074.0,
          586.0,
          1173.0
         ],
         "xaxis": "x10",
         "y": [
          1.5,
          1.3,
          1.66,
          1.31,
          0.88,
          1.27
         ],
         "yaxis": "y10",
         "type": "scatter"
        },
        {
         "hovertemplate": "Workout_Type=Strength<br>Gender=Female<br>Agegroup=50대<br>Calories_Burned=%{x}<br>Session_Duration (hours)=%{y}<extra></extra>",
         "legendgroup": "Strength",
         "marker": {
          "color": "#ab63fa",
          "symbol": "circle"
         },
         "mode": "markers",
         "name": "Strength",
         "orientation": "v",
         "showlegend": false,
         "x": [
          836.0,
          1004.0,
          1020.0,
          677.0,
          900.0,
          1010.0,
          964.0,
          1016.0,
          842.0,
          482.0,
          555.0,
          725.0,
          753.0,
          926.0,
          779.0,
          1025.0,
          933.0,
          962.0,
          927.0,
          848.0,
          776.0,
          983.0,
          479.0,
          719.0,
          394.0,
          841.0,
          711.0,
          911.0,
          927.0,
          470.0,
          1463.0
         ],
         "xaxis": "x",
         "y": [
          1.23,
          1.73,
          1.39,
          1.01,
          1.6,
          1.36,
          1.52,
          1.85,
          1.44,
          0.83,
          0.92,
          1.22,
          1.24,
          1.31,
          1.17,
          1.38,
          1.28,
          1.37,
          1.45,
          1.29,
          1.38,
          1.41,
          0.75,
          1.32,
          0.54,
          1.46,
          1.12,
          1.22,
          1.28,
          0.73,
          1.97
         ],
         "yaxis": "y",
         "type": "scatter"
        },
        {
         "hovertemplate": "Workout_Type=Strength<br>Gender=Female<br>Agegroup=40대<br>Calories_Burned=%{x}<br>Session_Duration (hours)=%{y}<extra></extra>",
         "legendgroup": "Strength",
         "marker": {
          "color": "#ab63fa",
          "symbol": "circle"
         },
         "mode": "markers",
         "name": "Strength",
         "orientation": "v",
         "showlegend": false,
         "x": [
          742.0,
          580.0,
          1103.0,
          735.0,
          819.0,
          870.0,
          1337.0,
          979.0,
          940.0,
          1060.0,
          684.0,
          1105.0,
          1066.0,
          888.0,
          845.0,
          608.0,
          894.0,
          920.0,
          958.0,
          502.0,
          887.0,
          762.0,
          798.0,
          475.0,
          906.0,
          695.0,
          742.0,
          717.0,
          673.0,
          1001.0
         ],
         "xaxis": "x2",
         "y": [
          1.13,
          1.04,
          1.45,
          1.15,
          1.41,
          1.24,
          1.87,
          1.45,
          1.29,
          1.52,
          1.0,
          1.98,
          1.49,
          1.37,
          1.37,
          1.04,
          1.25,
          1.27,
          1.4,
          0.82,
          1.45,
          1.27,
          1.19,
          0.8,
          1.61,
          0.93,
          1.03,
          1.07,
          0.99,
          1.34
         ],
         "yaxis": "y2",
         "type": "scatter"
        },
        {
         "hovertemplate": "Workout_Type=Strength<br>Gender=Female<br>Agegroup=30대<br>Calories_Burned=%{x}<br>Session_Duration (hours)=%{y}<extra></extra>",
         "legendgroup": "Strength",
         "marker": {
          "color": "#ab63fa",
          "symbol": "circle"
         },
         "mode": "markers",
         "name": "Strength",
         "orientation": "v",
         "showlegend": false,
         "x": [
          740.0,
          1418.0,
          756.0,
          887.0,
          732.0,
          982.0,
          949.0,
          903.0,
          1175.0,
          638.0,
          1159.0,
          948.0,
          780.0,
          1304.0,
          834.0,
          883.0,
          822.0,
          810.0,
          634.0,
          1188.0,
          821.0,
          1043.0,
          621.0,
          1213.0,
          811.0,
          876.0,
          402.0
         ],
         "xaxis": "x3",
         "y": [
          1.13,
          1.97,
          1.24,
          1.13,
          1.21,
          1.31,
          1.13,
          1.22,
          1.88,
          0.85,
          1.84,
          1.58,
          1.3,
          1.85,
          1.15,
          1.46,
          1.06,
          1.08,
          0.99,
          1.71,
          1.02,
          1.63,
          1.01,
          1.65,
          1.22,
          1.38,
          0.57
         ],
         "yaxis": "y3",
         "type": "scatter"
        },
        {
         "hovertemplate": "Workout_Type=Strength<br>Gender=Female<br>Agegroup=20대<br>Calories_Burned=%{x}<br>Session_Duration (hours)=%{y}<extra></extra>",
         "legendgroup": "Strength",
         "marker": {
          "color": "#ab63fa",
          "symbol": "circle"
         },
         "mode": "markers",
         "name": "Strength",
         "orientation": "v",
         "showlegend": false,
         "x": [
          751.0,
          844.0,
          1043.0,
          1056.0,
          1212.0,
          598.0,
          863.0,
          1096.0,
          1103.0,
          1056.0,
          1293.0,
          883.0,
          569.0,
          684.0,
          1204.0,
          710.0,
          910.0,
          878.0,
          1022.0,
          714.0,
          978.0,
          847.0,
          938.0,
          585.0,
          829.0,
          1242.0,
          500.0,
          479.0
         ],
         "xaxis": "x4",
         "y": [
          1.08,
          1.14,
          1.28,
          1.39,
          1.97,
          0.83,
          1.04,
          1.7,
          1.37,
          1.25,
          1.93,
          1.27,
          0.94,
          0.85,
          1.45,
          1.1,
          1.48,
          1.14,
          1.46,
          1.19,
          1.47,
          1.1,
          1.36,
          0.76,
          1.37,
          1.94,
          0.68,
          0.61
         ],
         "yaxis": "y4",
         "type": "scatter"
        },
        {
         "hovertemplate": "Workout_Type=Strength<br>Gender=Female<br>Agegroup=10대<br>Calories_Burned=%{x}<br>Session_Duration (hours)=%{y}<extra></extra>",
         "legendgroup": "Strength",
         "marker": {
          "color": "#ab63fa",
          "symbol": "circle"
         },
         "mode": "markers",
         "name": "Strength",
         "orientation": "v",
         "showlegend": false,
         "x": [
          1003.0,
          877.0,
          1169.0,
          653.0,
          996.0,
          492.0,
          606.0
         ],
         "xaxis": "x5",
         "y": [
          1.27,
          1.28,
          1.87,
          0.96,
          1.23,
          0.6,
          0.97
         ],
         "yaxis": "y5",
         "type": "scatter"
        }
       ],
       "layout": {
        "template": {
         "data": {
          "histogram2dcontour": [
           {
            "type": "histogram2dcontour",
            "colorbar": {
             "outlinewidth": 0,
             "ticks": ""
            },
            "colorscale": [
             [
              0.0,
              "#0d0887"
             ],
             [
              0.1111111111111111,
              "#46039f"
             ],
             [
              0.2222222222222222,
              "#7201a8"
             ],
             [
              0.3333333333333333,
              "#9c179e"
             ],
             [
              0.4444444444444444,
              "#bd3786"
             ],
             [
              0.5555555555555556,
              "#d8576b"
             ],
             [
              0.6666666666666666,
              "#ed7953"
             ],
             [
              0.7777777777777778,
              "#fb9f3a"
             ],
             [
              0.8888888888888888,
              "#fdca26"
             ],
             [
              1.0,
              "#f0f921"
             ]
            ]
           }
          ],
          "choropleth": [
           {
            "type": "choropleth",
            "colorbar": {
             "outlinewidth": 0,
             "ticks": ""
            }
           }
          ],
          "histogram2d": [
           {
            "type": "histogram2d",
            "colorbar": {
             "outlinewidth": 0,
             "ticks": ""
            },
            "colorscale": [
             [
              0.0,
              "#0d0887"
             ],
             [
              0.1111111111111111,
              "#46039f"
             ],
             [
              0.2222222222222222,
              "#7201a8"
             ],
             [
              0.3333333333333333,
              "#9c179e"
             ],
             [
              0.4444444444444444,
              "#bd3786"
             ],
             [
              0.5555555555555556,
              "#d8576b"
             ],
             [
              0.6666666666666666,
              "#ed7953"
             ],
             [
              0.7777777777777778,
              "#fb9f3a"
             ],
             [
              0.8888888888888888,
              "#fdca26"
             ],
             [
              1.0,
              "#f0f921"
             ]
            ]
           }
          ],
          "heatmap": [
           {
            "type": "heatmap",
            "colorbar": {
             "outlinewidth": 0,
             "ticks": ""
            },
            "colorscale": [
             [
              0.0,
              "#0d0887"
             ],
             [
              0.1111111111111111,
              "#46039f"
             ],
             [
              0.2222222222222222,
              "#7201a8"
             ],
             [
              0.3333333333333333,
              "#9c179e"
             ],
             [
              0.4444444444444444,
              "#bd3786"
             ],
             [
              0.5555555555555556,
              "#d8576b"
             ],
             [
              0.6666666666666666,
              "#ed7953"
             ],
             [
              0.7777777777777778,
              "#fb9f3a"
             ],
             [
              0.8888888888888888,
              "#fdca26"
             ],
             [
              1.0,
              "#f0f921"
             ]
            ]
           }
          ],
          "heatmapgl": [
           {
            "type": "heatmapgl",
            "colorbar": {
             "outlinewidth": 0,
             "ticks": ""
            },
            "colorscale": [
             [
              0.0,
              "#0d0887"
             ],
             [
              0.1111111111111111,
              "#46039f"
             ],
             [
              0.2222222222222222,
              "#7201a8"
             ],
             [
              0.3333333333333333,
              "#9c179e"
             ],
             [
              0.4444444444444444,
              "#bd3786"
             ],
             [
              0.5555555555555556,
              "#d8576b"
             ],
             [
              0.6666666666666666,
              "#ed7953"
             ],
             [
              0.7777777777777778,
              "#fb9f3a"
             ],
             [
              0.8888888888888888,
              "#fdca26"
             ],
             [
              1.0,
              "#f0f921"
             ]
            ]
           }
          ],
          "contourcarpet": [
           {
            "type": "contourcarpet",
            "colorbar": {
             "outlinewidth": 0,
             "ticks": ""
            }
           }
          ],
          "contour": [
           {
            "type": "contour",
            "colorbar": {
             "outlinewidth": 0,
             "ticks": ""
            },
            "colorscale": [
             [
              0.0,
              "#0d0887"
             ],
             [
              0.1111111111111111,
              "#46039f"
             ],
             [
              0.2222222222222222,
              "#7201a8"
             ],
             [
              0.3333333333333333,
              "#9c179e"
             ],
             [
              0.4444444444444444,
              "#bd3786"
             ],
             [
              0.5555555555555556,
              "#d8576b"
             ],
             [
              0.6666666666666666,
              "#ed7953"
             ],
             [
              0.7777777777777778,
              "#fb9f3a"
             ],
             [
              0.8888888888888888,
              "#fdca26"
             ],
             [
              1.0,
              "#f0f921"
             ]
            ]
           }
          ],
          "surface": [
           {
            "type": "surface",
            "colorbar": {
             "outlinewidth": 0,
             "ticks": ""
            },
            "colorscale": [
             [
              0.0,
              "#0d0887"
             ],
             [
              0.1111111111111111,
              "#46039f"
             ],
             [
              0.2222222222222222,
              "#7201a8"
             ],
             [
              0.3333333333333333,
              "#9c179e"
             ],
             [
              0.4444444444444444,
              "#bd3786"
             ],
             [
              0.5555555555555556,
              "#d8576b"
             ],
             [
              0.6666666666666666,
              "#ed7953"
             ],
             [
              0.7777777777777778,
              "#fb9f3a"
             ],
             [
              0.8888888888888888,
              "#fdca26"
             ],
             [
              1.0,
              "#f0f921"
             ]
            ]
           }
          ],
          "mesh3d": [
           {
            "type": "mesh3d",
            "colorbar": {
             "outlinewidth": 0,
             "ticks": ""
            }
           }
          ],
          "scatter": [
           {
            "fillpattern": {
             "fillmode": "overlay",
             "size": 10,
             "solidity": 0.2
            },
            "type": "scatter"
           }
          ],
          "parcoords": [
           {
            "type": "parcoords",
            "line": {
             "colorbar": {
              "outlinewidth": 0,
              "ticks": ""
             }
            }
           }
          ],
          "scatterpolargl": [
           {
            "type": "scatterpolargl",
            "marker": {
             "colorbar": {
              "outlinewidth": 0,
              "ticks": ""
             }
            }
           }
          ],
          "bar": [
           {
            "error_x": {
             "color": "#2a3f5f"
            },
            "error_y": {
             "color": "#2a3f5f"
            },
            "marker": {
             "line": {
              "color": "#E5ECF6",
              "width": 0.5
             },
             "pattern": {
              "fillmode": "overlay",
              "size": 10,
              "solidity": 0.2
             }
            },
            "type": "bar"
           }
          ],
          "scattergeo": [
           {
            "type": "scattergeo",
            "marker": {
             "colorbar": {
              "outlinewidth": 0,
              "ticks": ""
             }
            }
           }
          ],
          "scatterpolar": [
           {
            "type": "scatterpolar",
            "marker": {
             "colorbar": {
              "outlinewidth": 0,
              "ticks": ""
             }
            }
           }
          ],
          "histogram": [
           {
            "marker": {
             "pattern": {
              "fillmode": "overlay",
              "size": 10,
              "solidity": 0.2
             }
            },
            "type": "histogram"
           }
          ],
          "scattergl": [
           {
            "type": "scattergl",
            "marker": {
             "colorbar": {
              "outlinewidth": 0,
              "ticks": ""
             }
            }
           }
          ],
          "scatter3d": [
           {
            "type": "scatter3d",
            "line": {
             "colorbar": {
              "outlinewidth": 0,
              "ticks": ""
             }
            },
            "marker": {
             "colorbar": {
              "outlinewidth": 0,
              "ticks": ""
             }
            }
           }
          ],
          "scattermapbox": [
           {
            "type": "scattermapbox",
            "marker": {
             "colorbar": {
              "outlinewidth": 0,
              "ticks": ""
             }
            }
           }
          ],
          "scatterternary": [
           {
            "type": "scatterternary",
            "marker": {
             "colorbar": {
              "outlinewidth": 0,
              "ticks": ""
             }
            }
           }
          ],
          "scattercarpet": [
           {
            "type": "scattercarpet",
            "marker": {
             "colorbar": {
              "outlinewidth": 0,
              "ticks": ""
             }
            }
           }
          ],
          "carpet": [
           {
            "aaxis": {
             "endlinecolor": "#2a3f5f",
             "gridcolor": "white",
             "linecolor": "white",
             "minorgridcolor": "white",
             "startlinecolor": "#2a3f5f"
            },
            "baxis": {
             "endlinecolor": "#2a3f5f",
             "gridcolor": "white",
             "linecolor": "white",
             "minorgridcolor": "white",
             "startlinecolor": "#2a3f5f"
            },
            "type": "carpet"
           }
          ],
          "table": [
           {
            "cells": {
             "fill": {
              "color": "#EBF0F8"
             },
             "line": {
              "color": "white"
             }
            },
            "header": {
             "fill": {
              "color": "#C8D4E3"
             },
             "line": {
              "color": "white"
             }
            },
            "type": "table"
           }
          ],
          "barpolar": [
           {
            "marker": {
             "line": {
              "color": "#E5ECF6",
              "width": 0.5
             },
             "pattern": {
              "fillmode": "overlay",
              "size": 10,
              "solidity": 0.2
             }
            },
            "type": "barpolar"
           }
          ],
          "pie": [
           {
            "automargin": true,
            "type": "pie"
           }
          ]
         },
         "layout": {
          "autotypenumbers": "strict",
          "colorway": [
           "#636efa",
           "#EF553B",
           "#00cc96",
           "#ab63fa",
           "#FFA15A",
           "#19d3f3",
           "#FF6692",
           "#B6E880",
           "#FF97FF",
           "#FECB52"
          ],
          "font": {
           "color": "#2a3f5f"
          },
          "hovermode": "closest",
          "hoverlabel": {
           "align": "left"
          },
          "paper_bgcolor": "white",
          "plot_bgcolor": "#E5ECF6",
          "polar": {
           "bgcolor": "#E5ECF6",
           "angularaxis": {
            "gridcolor": "white",
            "linecolor": "white",
            "ticks": ""
           },
           "radialaxis": {
            "gridcolor": "white",
            "linecolor": "white",
            "ticks": ""
           }
          },
          "ternary": {
           "bgcolor": "#E5ECF6",
           "aaxis": {
            "gridcolor": "white",
            "linecolor": "white",
            "ticks": ""
           },
           "baxis": {
            "gridcolor": "white",
            "linecolor": "white",
            "ticks": ""
           },
           "caxis": {
            "gridcolor": "white",
            "linecolor": "white",
            "ticks": ""
           }
          },
          "coloraxis": {
           "colorbar": {
            "outlinewidth": 0,
            "ticks": ""
           }
          },
          "colorscale": {
           "sequential": [
            [
             0.0,
             "#0d0887"
            ],
            [
             0.1111111111111111,
             "#46039f"
            ],
            [
             0.2222222222222222,
             "#7201a8"
            ],
            [
             0.3333333333333333,
             "#9c179e"
            ],
            [
             0.4444444444444444,
             "#bd3786"
            ],
            [
             0.5555555555555556,
             "#d8576b"
            ],
            [
             0.6666666666666666,
             "#ed7953"
            ],
            [
             0.7777777777777778,
             "#fb9f3a"
            ],
            [
             0.8888888888888888,
             "#fdca26"
            ],
            [
             1.0,
             "#f0f921"
            ]
           ],
           "sequentialminus": [
            [
             0.0,
             "#0d0887"
            ],
            [
             0.1111111111111111,
             "#46039f"
            ],
            [
             0.2222222222222222,
             "#7201a8"
            ],
            [
             0.3333333333333333,
             "#9c179e"
            ],
            [
             0.4444444444444444,
             "#bd3786"
            ],
            [
             0.5555555555555556,
             "#d8576b"
            ],
            [
             0.6666666666666666,
             "#ed7953"
            ],
            [
             0.7777777777777778,
             "#fb9f3a"
            ],
            [
             0.8888888888888888,
             "#fdca26"
            ],
            [
             1.0,
             "#f0f921"
            ]
           ],
           "diverging": [
            [
             0,
             "#8e0152"
            ],
            [
             0.1,
             "#c51b7d"
            ],
            [
             0.2,
             "#de77ae"
            ],
            [
             0.3,
             "#f1b6da"
            ],
            [
             0.4,
             "#fde0ef"
            ],
            [
             0.5,
             "#f7f7f7"
            ],
            [
             0.6,
             "#e6f5d0"
            ],
            [
             0.7,
             "#b8e186"
            ],
            [
             0.8,
             "#7fbc41"
            ],
            [
             0.9,
             "#4d9221"
            ],
            [
             1,
             "#276419"
            ]
           ]
          },
          "xaxis": {
           "gridcolor": "white",
           "linecolor": "white",
           "ticks": "",
           "title": {
            "standoff": 15
           },
           "zerolinecolor": "white",
           "automargin": true,
           "zerolinewidth": 2
          },
          "yaxis": {
           "gridcolor": "white",
           "linecolor": "white",
           "ticks": "",
           "title": {
            "standoff": 15
           },
           "zerolinecolor": "white",
           "automargin": true,
           "zerolinewidth": 2
          },
          "scene": {
           "xaxis": {
            "backgroundcolor": "#E5ECF6",
            "gridcolor": "white",
            "linecolor": "white",
            "showbackground": true,
            "ticks": "",
            "zerolinecolor": "white",
            "gridwidth": 2
           },
           "yaxis": {
            "backgroundcolor": "#E5ECF6",
            "gridcolor": "white",
            "linecolor": "white",
            "showbackground": true,
            "ticks": "",
            "zerolinecolor": "white",
            "gridwidth": 2
           },
           "zaxis": {
            "backgroundcolor": "#E5ECF6",
            "gridcolor": "white",
            "linecolor": "white",
            "showbackground": true,
            "ticks": "",
            "zerolinecolor": "white",
            "gridwidth": 2
           }
          },
          "shapedefaults": {
           "line": {
            "color": "#2a3f5f"
           }
          },
          "annotationdefaults": {
           "arrowcolor": "#2a3f5f",
           "arrowhead": 0,
           "arrowwidth": 1
          },
          "geo": {
           "bgcolor": "white",
           "landcolor": "#E5ECF6",
           "subunitcolor": "white",
           "showland": true,
           "showlakes": true,
           "lakecolor": "white"
          },
          "title": {
           "x": 0.05
          },
          "mapbox": {
           "style": "light"
          }
         }
        },
        "xaxis": {
         "anchor": "y",
         "domain": [
          0.0,
          0.18000000000000002
         ],
         "title": {
          "text": "Calories_Burned"
         }
        },
        "yaxis": {
         "anchor": "x",
         "domain": [
          0.0,
          0.485
         ],
         "title": {
          "text": "Session_Duration (hours)"
         },
         "tickangle": 45
        },
        "xaxis2": {
         "anchor": "y2",
         "domain": [
          0.2,
          0.38
         ],
         "matches": "x",
         "title": {
          "text": "Calories_Burned"
         }
        },
        "yaxis2": {
         "anchor": "x2",
         "domain": [
          0.0,
          0.485
         ],
         "matches": "y",
         "showticklabels": false,
         "tickangle": 45
        },
        "xaxis3": {
         "anchor": "y3",
         "domain": [
          0.4,
          0.5800000000000001
         ],
         "matches": "x",
         "title": {
          "text": "Calories_Burned"
         }
        },
        "yaxis3": {
         "anchor": "x3",
         "domain": [
          0.0,
          0.485
         ],
         "matches": "y",
         "showticklabels": false,
         "tickangle": 45
        },
        "xaxis4": {
         "anchor": "y4",
         "domain": [
          0.6000000000000001,
          0.7800000000000001
         ],
         "matches": "x",
         "title": {
          "text": "Calories_Burned"
         }
        },
        "yaxis4": {
         "anchor": "x4",
         "domain": [
          0.0,
          0.485
         ],
         "matches": "y",
         "showticklabels": false,
         "tickangle": 45
        },
        "xaxis5": {
         "anchor": "y5",
         "domain": [
          0.8,
          0.9800000000000001
         ],
         "matches": "x",
         "title": {
          "text": "Calories_Burned"
         }
        },
        "yaxis5": {
         "anchor": "x5",
         "domain": [
          0.0,
          0.485
         ],
         "matches": "y",
         "showticklabels": false,
         "tickangle": 45
        },
        "xaxis6": {
         "anchor": "y6",
         "domain": [
          0.0,
          0.18000000000000002
         ],
         "matches": "x",
         "showticklabels": false
        },
        "yaxis6": {
         "anchor": "x6",
         "domain": [
          0.515,
          1.0
         ],
         "matches": "y",
         "title": {
          "text": "Session_Duration (hours)"
         },
         "tickangle": 45
        },
        "xaxis7": {
         "anchor": "y7",
         "domain": [
          0.2,
          0.38
         ],
         "matches": "x",
         "showticklabels": false
        },
        "yaxis7": {
         "anchor": "x7",
         "domain": [
          0.515,
          1.0
         ],
         "matches": "y",
         "showticklabels": false,
         "tickangle": 45
        },
        "xaxis8": {
         "anchor": "y8",
         "domain": [
          0.4,
          0.5800000000000001
         ],
         "matches": "x",
         "showticklabels": false
        },
        "yaxis8": {
         "anchor": "x8",
         "domain": [
          0.515,
          1.0
         ],
         "matches": "y",
         "showticklabels": false,
         "tickangle": 45
        },
        "xaxis9": {
         "anchor": "y9",
         "domain": [
          0.6000000000000001,
          0.7800000000000001
         ],
         "matches": "x",
         "showticklabels": false
        },
        "yaxis9": {
         "anchor": "x9",
         "domain": [
          0.515,
          1.0
         ],
         "matches": "y",
         "showticklabels": false,
         "tickangle": 45
        },
        "xaxis10": {
         "anchor": "y10",
         "domain": [
          0.8,
          0.9800000000000001
         ],
         "matches": "x",
         "showticklabels": false
        },
        "yaxis10": {
         "anchor": "x10",
         "domain": [
          0.515,
          1.0
         ],
         "matches": "y",
         "showticklabels": false,
         "tickangle": 45
        },
        "annotations": [
         {
          "font": {},
          "showarrow": false,
          "text": "Agegroup=50대",
          "x": 0.09000000000000001,
          "xanchor": "center",
          "xref": "paper",
          "y": 1.0,
          "yanchor": "bottom",
          "yref": "paper"
         },
         {
          "font": {},
          "showarrow": false,
          "text": "Agegroup=40대",
          "x": 0.29000000000000004,
          "xanchor": "center",
          "xref": "paper",
          "y": 1.0,
          "yanchor": "bottom",
          "yref": "paper"
         },
         {
          "font": {},
          "showarrow": false,
          "text": "Agegroup=30대",
          "x": 0.49000000000000005,
          "xanchor": "center",
          "xref": "paper",
          "y": 1.0,
          "yanchor": "bottom",
          "yref": "paper"
         },
         {
          "font": {},
          "showarrow": false,
          "text": "Agegroup=20대",
          "x": 0.6900000000000002,
          "xanchor": "center",
          "xref": "paper",
          "y": 1.0,
          "yanchor": "bottom",
          "yref": "paper"
         },
         {
          "font": {},
          "showarrow": false,
          "text": "Agegroup=10대",
          "x": 0.8900000000000001,
          "xanchor": "center",
          "xref": "paper",
          "y": 1.0,
          "yanchor": "bottom",
          "yref": "paper"
         },
         {
          "font": {},
          "showarrow": false,
          "text": "Gender=Female",
          "textangle": 90,
          "x": 0.9800000000000001,
          "xanchor": "left",
          "xref": "paper",
          "y": 0.2425,
          "yanchor": "middle",
          "yref": "paper"
         },
         {
          "font": {},
          "showarrow": false,
          "text": "Gender=Male",
          "textangle": 90,
          "x": 0.9800000000000001,
          "xanchor": "left",
          "xref": "paper",
          "y": 0.7575000000000001,
          "yanchor": "middle",
          "yref": "paper"
         }
        ],
        "legend": {
         "title": {
          "text": "Workout_Type"
         },
         "tracegroupgap": 0
        },
        "title": {
         "text": "운동 형태 별 지속 시간과 칼로리 소모량 (성별, 연령대 별)"
        }
       },
       "config": {
        "plotlyServerURL": "https://plot.ly"
       }
      },
      "text/html": [
       "<div>                            <div id=\"6719393a-8f56-41ac-bbee-003a3072ab84\" class=\"plotly-graph-div\" style=\"height:525px; width:100%;\"></div>            <script type=\"text/javascript\">                require([\"plotly\"], function(Plotly) {                    window.PLOTLYENV=window.PLOTLYENV || {};                                    if (document.getElementById(\"6719393a-8f56-41ac-bbee-003a3072ab84\")) {                    Plotly.newPlot(                        \"6719393a-8f56-41ac-bbee-003a3072ab84\",                        [{\"hovertemplate\":\"Workout_Type=Yoga\\u003cbr\\u003eGender=Male\\u003cbr\\u003eAgegroup=50\\ub300\\u003cbr\\u003eCalories_Burned=%{x}\\u003cbr\\u003eSession_Duration (hours)=%{y}\\u003cextra\\u003e\\u003c\\u002fextra\\u003e\",\"legendgroup\":\"Yoga\",\"marker\":{\"color\":\"#636efa\",\"symbol\":\"circle\"},\"mode\":\"markers\",\"name\":\"Yoga\",\"orientation\":\"v\",\"showlegend\":true,\"x\":[1313.0,805.0,1357.0,446.0,500.0,811.0,451.0,1151.0,574.0,813.0,707.0,1071.0,680.0,632.0,1136.0,874.0,585.0,1321.0,810.0,639.0,927.0,1084.0,1332.0,529.0,830.0,789.0,1158.0,753.0,688.0,796.0,777.0,950.0,423.0,645.0,1148.0,1159.0,1181.0,637.0,815.0,921.0],\"xaxis\":\"x6\",\"y\":[1.69,1.29,1.78,0.55,0.66,1.17,0.66,1.49,0.92,1.08,1.09,1.37,1.09,0.96,1.48,1.46,0.81,1.84,1.07,1.0,1.51,1.36,1.77,0.69,1.14,1.19,1.48,1.17,1.13,1.14,1.0,1.38,0.57,1.01,1.38,1.76,1.85,0.77,1.09,1.42],\"yaxis\":\"y6\",\"type\":\"scatter\"},{\"hovertemplate\":\"Workout_Type=Yoga\\u003cbr\\u003eGender=Male\\u003cbr\\u003eAgegroup=40\\ub300\\u003cbr\\u003eCalories_Burned=%{x}\\u003cbr\\u003eSession_Duration (hours)=%{y}\\u003cextra\\u003e\\u003c\\u002fextra\\u003e\",\"legendgroup\":\"Yoga\",\"marker\":{\"color\":\"#636efa\",\"symbol\":\"circle\"},\"mode\":\"markers\",\"name\":\"Yoga\",\"orientation\":\"v\",\"showlegend\":false,\"x\":[962.0,864.0,744.0,424.0,858.0,1503.0,1214.0,886.0,925.0,832.0,970.0,440.0,995.0,545.0,658.0,1151.0,1133.0,868.0,1314.0,851.0,831.0,1287.0,881.0,856.0,1225.0,988.0,929.0,982.0,1372.0,666.0,747.0,876.0,1102.0,1189.0,634.0,681.0],\"xaxis\":\"x7\",\"y\":[1.45,1.18,1.13,0.51,1.22,1.91,1.46,1.42,1.46,1.4,1.43,0.7,1.28,0.77,1.09,1.54,1.44,1.37,1.68,1.13,1.03,1.7,1.06,1.34,1.98,1.24,1.26,1.47,1.66,0.91,1.11,1.06,1.7,1.58,0.79,1.05],\"yaxis\":\"y7\",\"type\":\"scatter\"},{\"hovertemplate\":\"Workout_Type=Yoga\\u003cbr\\u003eGender=Male\\u003cbr\\u003eAgegroup=30\\ub300\\u003cbr\\u003eCalories_Burned=%{x}\\u003cbr\\u003eSession_Duration (hours)=%{y}\\u003cextra\\u003e\\u003c\\u002fextra\\u003e\",\"legendgroup\":\"Yoga\",\"marker\":{\"color\":\"#636efa\",\"symbol\":\"circle\"},\"mode\":\"markers\",\"name\":\"Yoga\",\"orientation\":\"v\",\"showlegend\":false,\"x\":[880.0,1373.0,842.0,1075.0,616.0,1009.0,500.0,574.0,1155.0,731.0,1492.0,1321.0,1173.0,1216.0,1249.0,1536.0,504.0,859.0,494.0,656.0,1230.0],\"xaxis\":\"x8\",\"y\":[1.28,1.61,1.11,1.33,0.8,1.39,0.64,0.73,1.25,0.81,1.98,1.74,1.58,1.34,1.36,1.9,0.71,1.23,0.66,0.89,1.72],\"yaxis\":\"y8\",\"type\":\"scatter\"},{\"hovertemplate\":\"Workout_Type=Yoga\\u003cbr\\u003eGender=Male\\u003cbr\\u003eAgegroup=20\\ub300\\u003cbr\\u003eCalories_Burned=%{x}\\u003cbr\\u003eSession_Duration (hours)=%{y}\\u003cextra\\u003e\\u003c\\u002fextra\\u003e\",\"legendgroup\":\"Yoga\",\"marker\":{\"color\":\"#636efa\",\"symbol\":\"circle\"},\"mode\":\"markers\",\"name\":\"Yoga\",\"orientation\":\"v\",\"showlegend\":false,\"x\":[1195.0,721.0,772.0,917.0,804.0,805.0,799.0,1241.0,772.0,496.0,715.0,1356.0,699.0,639.0,937.0,656.0,1028.0,661.0,1086.0,1172.0,802.0,775.0,695.0,1378.0,885.0,1451.0,1031.0,944.0,914.0,1104.0,1035.0],\"xaxis\":\"x9\",\"y\":[1.35,0.78,0.84,1.09,1.16,1.2,1.2,1.71,1.15,0.64,1.0,1.8,0.97,0.93,1.02,0.89,1.52,0.72,1.42,1.48,1.13,1.06,0.79,1.79,1.33,1.94,1.15,1.3,1.24,1.32,1.12],\"yaxis\":\"y9\",\"type\":\"scatter\"},{\"hovertemplate\":\"Workout_Type=Yoga\\u003cbr\\u003eGender=Male\\u003cbr\\u003eAgegroup=10\\ub300\\u003cbr\\u003eCalories_Burned=%{x}\\u003cbr\\u003eSession_Duration (hours)=%{y}\\u003cextra\\u003e\\u003c\\u002fextra\\u003e\",\"legendgroup\":\"Yoga\",\"marker\":{\"color\":\"#636efa\",\"symbol\":\"circle\"},\"mode\":\"markers\",\"name\":\"Yoga\",\"orientation\":\"v\",\"showlegend\":false,\"x\":[1303.0,926.0,952.0,1229.0,952.0],\"xaxis\":\"x10\",\"y\":[1.41,1.1,1.21,1.46,1.17],\"yaxis\":\"y10\",\"type\":\"scatter\"},{\"hovertemplate\":\"Workout_Type=Yoga\\u003cbr\\u003eGender=Female\\u003cbr\\u003eAgegroup=50\\ub300\\u003cbr\\u003eCalories_Burned=%{x}\\u003cbr\\u003eSession_Duration (hours)=%{y}\\u003cextra\\u003e\\u003c\\u002fextra\\u003e\",\"legendgroup\":\"Yoga\",\"marker\":{\"color\":\"#636efa\",\"symbol\":\"circle\"},\"mode\":\"markers\",\"name\":\"Yoga\",\"orientation\":\"v\",\"showlegend\":false,\"x\":[848.0,1021.0,666.0,598.0,567.0,876.0,714.0,838.0,724.0,1042.0,940.0,718.0,768.0,737.0,743.0,1184.0,837.0,983.0,749.0,965.0,406.0,996.0,760.0],\"xaxis\":\"x\",\"y\":[1.17,1.4,1.08,1.08,0.9,1.4,1.03,1.49,1.2,1.93,1.74,1.1,1.08,1.03,1.28,1.88,1.5,1.41,1.29,1.34,0.74,1.69,1.03],\"yaxis\":\"y\",\"type\":\"scatter\"},{\"hovertemplate\":\"Workout_Type=Yoga\\u003cbr\\u003eGender=Female\\u003cbr\\u003eAgegroup=40\\ub300\\u003cbr\\u003eCalories_Burned=%{x}\\u003cbr\\u003eSession_Duration (hours)=%{y}\\u003cextra\\u003e\\u003c\\u002fextra\\u003e\",\"legendgroup\":\"Yoga\",\"marker\":{\"color\":\"#636efa\",\"symbol\":\"circle\"},\"mode\":\"markers\",\"name\":\"Yoga\",\"orientation\":\"v\",\"showlegend\":false,\"x\":[1080.0,1129.0,1369.0,1479.0,837.0,1150.0,967.0,686.0,959.0,1224.0,713.0,832.0,764.0,1451.0,440.0,491.0,1012.0,931.0,382.0,415.0,759.0,684.0,693.0,709.0,1138.0,566.0,732.0,999.0,875.0,756.0,898.0,433.0,1117.0],\"xaxis\":\"x2\",\"y\":[1.42,1.78,1.79,1.98,1.42,1.95,1.58,1.03,1.44,1.55,1.07,1.4,1.14,1.99,0.73,0.88,1.46,1.31,0.61,0.61,1.14,0.95,0.85,1.11,1.93,0.87,1.17,1.67,1.42,1.03,1.34,0.74,1.88],\"yaxis\":\"y2\",\"type\":\"scatter\"},{\"hovertemplate\":\"Workout_Type=Yoga\\u003cbr\\u003eGender=Female\\u003cbr\\u003eAgegroup=30\\ub300\\u003cbr\\u003eCalories_Burned=%{x}\\u003cbr\\u003eSession_Duration (hours)=%{y}\\u003cextra\\u003e\\u003c\\u002fextra\\u003e\",\"legendgroup\":\"Yoga\",\"marker\":{\"color\":\"#636efa\",\"symbol\":\"circle\"},\"mode\":\"markers\",\"name\":\"Yoga\",\"orientation\":\"v\",\"showlegend\":false,\"x\":[1122.0,1358.0,786.0,1443.0,1182.0,662.0,881.0,1301.0,886.0,644.0,859.0,766.0,1116.0,1276.0,857.0,672.0,958.0,481.0,883.0,699.0],\"xaxis\":\"x3\",\"y\":[1.42,1.81,1.07,1.95,1.63,0.92,1.13,1.77,1.23,1.03,1.21,1.17,1.8,1.76,1.19,0.89,1.33,0.74,1.39,1.02],\"yaxis\":\"y3\",\"type\":\"scatter\"},{\"hovertemplate\":\"Workout_Type=Yoga\\u003cbr\\u003eGender=Female\\u003cbr\\u003eAgegroup=20\\ub300\\u003cbr\\u003eCalories_Burned=%{x}\\u003cbr\\u003eSession_Duration (hours)=%{y}\\u003cextra\\u003e\\u003c\\u002fextra\\u003e\",\"legendgroup\":\"Yoga\",\"marker\":{\"color\":\"#636efa\",\"symbol\":\"circle\"},\"mode\":\"markers\",\"name\":\"Yoga\",\"orientation\":\"v\",\"showlegend\":false,\"x\":[654.0,546.0,1073.0,1082.0,418.0,1177.0,1053.0,1177.0,1123.0,422.0,825.0,1186.0,330.0,640.0,986.0,1582.0,594.0,711.0,878.0,1519.0,1307.0,976.0,354.0],\"xaxis\":\"x4\",\"y\":[1.03,0.86,1.49,1.32,0.68,1.49,1.35,1.67,1.43,0.5,1.25,1.56,0.55,1.0,1.36,1.99,0.82,1.03,1.33,1.83,1.88,1.31,0.58],\"yaxis\":\"y4\",\"type\":\"scatter\"},{\"hovertemplate\":\"Workout_Type=Yoga\\u003cbr\\u003eGender=Female\\u003cbr\\u003eAgegroup=10\\ub300\\u003cbr\\u003eCalories_Burned=%{x}\\u003cbr\\u003eSession_Duration (hours)=%{y}\\u003cextra\\u003e\\u003c\\u002fextra\\u003e\",\"legendgroup\":\"Yoga\",\"marker\":{\"color\":\"#636efa\",\"symbol\":\"circle\"},\"mode\":\"markers\",\"name\":\"Yoga\",\"orientation\":\"v\",\"showlegend\":false,\"x\":[772.0,877.0,1425.0,1396.0,1143.0,948.0,573.0],\"xaxis\":\"x5\",\"y\":[1.05,1.21,1.9,1.98,1.42,1.29,0.94],\"yaxis\":\"y5\",\"type\":\"scatter\"},{\"hovertemplate\":\"Workout_Type=HIIT\\u003cbr\\u003eGender=Male\\u003cbr\\u003eAgegroup=50\\ub300\\u003cbr\\u003eCalories_Burned=%{x}\\u003cbr\\u003eSession_Duration (hours)=%{y}\\u003cextra\\u003e\\u003c\\u002fextra\\u003e\",\"legendgroup\":\"HIIT\",\"marker\":{\"color\":\"#EF553B\",\"symbol\":\"circle\"},\"mode\":\"markers\",\"name\":\"HIIT\",\"orientation\":\"v\",\"showlegend\":true,\"x\":[865.0,608.0,1082.0,802.0,1111.0,739.0,949.0,333.0,840.0,1036.0,555.0,964.0,412.0,796.0,705.0,525.0,894.0,937.0,668.0,924.0,779.0,736.0,1290.0],\"xaxis\":\"x6\",\"y\":[1.15,0.89,1.54,1.2,1.57,1.09,1.36,0.53,1.01,1.3,0.85,1.21,0.66,1.34,1.01,0.68,1.3,1.12,0.9,1.22,1.21,1.04,1.57],\"yaxis\":\"y6\",\"type\":\"scatter\"},{\"hovertemplate\":\"Workout_Type=HIIT\\u003cbr\\u003eGender=Male\\u003cbr\\u003eAgegroup=40\\ub300\\u003cbr\\u003eCalories_Burned=%{x}\\u003cbr\\u003eSession_Duration (hours)=%{y}\\u003cextra\\u003e\\u003c\\u002fextra\\u003e\",\"legendgroup\":\"HIIT\",\"marker\":{\"color\":\"#EF553B\",\"symbol\":\"circle\"},\"mode\":\"markers\",\"name\":\"HIIT\",\"orientation\":\"v\",\"showlegend\":false,\"x\":[593.0,794.0,502.0,1104.0,1176.0,854.0,1265.0,936.0,1181.0,1022.0,1223.0,1468.0,886.0,1160.0,973.0,900.0,1185.0,612.0,1401.0,1467.0,876.0,1009.0,1355.0,748.0,1188.0,741.0,1159.0,807.0,1012.0,531.0,1044.0,557.0,1113.0,1127.0],\"xaxis\":\"x7\",\"y\":[0.82,1.18,0.73,1.64,1.32,1.38,1.53,1.4,1.85,1.3,1.48,1.82,1.14,1.86,1.31,1.22,1.87,0.87,1.9,1.83,1.32,1.29,1.97,1.26,1.42,0.93,1.51,1.08,1.31,0.72,1.31,0.76,1.77,1.38],\"yaxis\":\"y7\",\"type\":\"scatter\"},{\"hovertemplate\":\"Workout_Type=HIIT\\u003cbr\\u003eGender=Male\\u003cbr\\u003eAgegroup=30\\ub300\\u003cbr\\u003eCalories_Burned=%{x}\\u003cbr\\u003eSession_Duration (hours)=%{y}\\u003cextra\\u003e\\u003c\\u002fextra\\u003e\",\"legendgroup\":\"HIIT\",\"marker\":{\"color\":\"#EF553B\",\"symbol\":\"circle\"},\"mode\":\"markers\",\"name\":\"HIIT\",\"orientation\":\"v\",\"showlegend\":false,\"x\":[964.0,1237.0,1304.0,1587.0,1021.0,744.0,593.0,1145.0,992.0,1218.0,1055.0,810.0,957.0,972.0,1646.0,957.0,651.0,1078.0,789.0,870.0,1025.0,1573.0,559.0,713.0,883.0],\"xaxis\":\"x8\",\"y\":[1.27,1.52,1.5,1.99,1.19,1.04,0.81,1.37,1.49,1.8,1.41,1.03,1.27,1.37,1.87,1.36,0.84,1.4,1.13,1.18,1.36,1.81,0.84,0.96,1.1],\"yaxis\":\"y8\",\"type\":\"scatter\"},{\"hovertemplate\":\"Workout_Type=HIIT\\u003cbr\\u003eGender=Male\\u003cbr\\u003eAgegroup=20\\ub300\\u003cbr\\u003eCalories_Burned=%{x}\\u003cbr\\u003eSession_Duration (hours)=%{y}\\u003cextra\\u003e\\u003c\\u002fextra\\u003e\",\"legendgroup\":\"HIIT\",\"marker\":{\"color\":\"#EF553B\",\"symbol\":\"circle\"},\"mode\":\"markers\",\"name\":\"HIIT\",\"orientation\":\"v\",\"showlegend\":false,\"x\":[1688.0,1357.0,1207.0,603.0,1138.0,1025.0,919.0,878.0,891.0,795.0,627.0,937.0,1622.0,615.0,1169.0,972.0,752.0,821.0,954.0,1024.0,1491.0,792.0,879.0,691.0,951.0,549.0,1327.0],\"xaxis\":\"x9\",\"y\":[1.93,1.69,1.38,0.83,1.71,1.18,1.16,1.33,1.35,1.04,0.76,1.31,1.82,0.74,1.66,1.37,1.13,1.14,1.41,1.32,1.76,0.96,1.15,0.91,1.29,0.75,1.87],\"yaxis\":\"y9\",\"type\":\"scatter\"},{\"hovertemplate\":\"Workout_Type=HIIT\\u003cbr\\u003eGender=Male\\u003cbr\\u003eAgegroup=10\\ub300\\u003cbr\\u003eCalories_Burned=%{x}\\u003cbr\\u003eSession_Duration (hours)=%{y}\\u003cextra\\u003e\\u003c\\u002fextra\\u003e\",\"legendgroup\":\"HIIT\",\"marker\":{\"color\":\"#EF553B\",\"symbol\":\"circle\"},\"mode\":\"markers\",\"name\":\"HIIT\",\"orientation\":\"v\",\"showlegend\":false,\"x\":[1315.0,1510.0,1408.0,983.0,1766.0],\"xaxis\":\"x10\",\"y\":[1.72,1.83,1.73,1.2,1.9],\"yaxis\":\"y10\",\"type\":\"scatter\"},{\"hovertemplate\":\"Workout_Type=HIIT\\u003cbr\\u003eGender=Female\\u003cbr\\u003eAgegroup=50\\ub300\\u003cbr\\u003eCalories_Burned=%{x}\\u003cbr\\u003eSession_Duration (hours)=%{y}\\u003cextra\\u003e\\u003c\\u002fextra\\u003e\",\"legendgroup\":\"HIIT\",\"marker\":{\"color\":\"#EF553B\",\"symbol\":\"circle\"},\"mode\":\"markers\",\"name\":\"HIIT\",\"orientation\":\"v\",\"showlegend\":false,\"x\":[1116.0,1030.0,1046.0,924.0,1095.0,703.0,900.0,610.0,1359.0,742.0,1100.0,943.0,720.0,663.0,729.0,499.0,898.0,768.0,711.0,753.0,831.0,592.0,826.0,806.0,674.0,626.0,581.0,1220.0,1107.0,475.0,713.0,1135.0,753.0,838.0],\"xaxis\":\"x\",\"y\":[1.59,1.37,1.48,1.26,1.58,1.24,1.45,1.12,1.83,1.25,1.49,1.6,1.24,1.06,1.2,0.86,1.34,1.41,1.06,1.08,1.41,0.92,1.36,1.17,1.11,1.07,0.89,1.76,1.77,0.76,1.05,1.66,1.02,1.32],\"yaxis\":\"y\",\"type\":\"scatter\"},{\"hovertemplate\":\"Workout_Type=HIIT\\u003cbr\\u003eGender=Female\\u003cbr\\u003eAgegroup=40\\ub300\\u003cbr\\u003eCalories_Burned=%{x}\\u003cbr\\u003eSession_Duration (hours)=%{y}\\u003cextra\\u003e\\u003c\\u002fextra\\u003e\",\"legendgroup\":\"HIIT\",\"marker\":{\"color\":\"#EF553B\",\"symbol\":\"circle\"},\"mode\":\"markers\",\"name\":\"HIIT\",\"orientation\":\"v\",\"showlegend\":false,\"x\":[883.0,711.0,644.0,937.0,1267.0,1047.0,979.0,694.0,939.0,678.0,626.0,1247.0,1060.0,920.0,881.0,777.0,1111.0,441.0,966.0,537.0,1046.0,576.0,965.0],\"xaxis\":\"x2\",\"y\":[1.3,1.02,1.1,1.37,1.84,1.41,1.48,1.16,1.42,1.15,1.14,1.86,1.54,1.18,1.28,1.37,1.47,0.76,1.27,0.75,1.48,1.04,1.5],\"yaxis\":\"y2\",\"type\":\"scatter\"},{\"hovertemplate\":\"Workout_Type=HIIT\\u003cbr\\u003eGender=Female\\u003cbr\\u003eAgegroup=30\\ub300\\u003cbr\\u003eCalories_Burned=%{x}\\u003cbr\\u003eSession_Duration (hours)=%{y}\\u003cextra\\u003e\\u003c\\u002fextra\\u003e\",\"legendgroup\":\"HIIT\",\"marker\":{\"color\":\"#EF553B\",\"symbol\":\"circle\"},\"mode\":\"markers\",\"name\":\"HIIT\",\"orientation\":\"v\",\"showlegend\":false,\"x\":[925.0,871.0,440.0,963.0,1262.0,416.0,979.0,796.0,1006.0,666.0,911.0,1318.0,768.0,906.0,1344.0,806.0,749.0,826.0,1082.0,1092.0,1378.0,727.0],\"xaxis\":\"x3\",\"y\":[1.25,1.29,0.56,1.47,1.87,0.64,1.44,1.18,1.29,1.11,1.36,1.56,0.92,1.25,1.67,1.25,1.17,1.02,1.64,1.72,1.65,1.01],\"yaxis\":\"y3\",\"type\":\"scatter\"},{\"hovertemplate\":\"Workout_Type=HIIT\\u003cbr\\u003eGender=Female\\u003cbr\\u003eAgegroup=20\\ub300\\u003cbr\\u003eCalories_Burned=%{x}\\u003cbr\\u003eSession_Duration (hours)=%{y}\\u003cextra\\u003e\\u003c\\u002fextra\\u003e\",\"legendgroup\":\"HIIT\",\"marker\":{\"color\":\"#EF553B\",\"symbol\":\"circle\"},\"mode\":\"markers\",\"name\":\"HIIT\",\"orientation\":\"v\",\"showlegend\":false,\"x\":[837.0,370.0,1147.0,410.0,832.0,506.0,1166.0,1474.0,944.0,980.0,1071.0,1072.0,1016.0,935.0,1144.0,849.0,968.0,380.0,660.0,877.0,659.0,1107.0,893.0,706.0],\"xaxis\":\"x4\",\"y\":[1.04,0.56,1.47,0.63,0.99,0.81,1.62,1.94,1.42,1.42,1.29,1.34,1.27,1.12,1.37,1.38,1.49,0.55,0.91,1.45,1.08,1.8,1.07,1.07],\"yaxis\":\"y4\",\"type\":\"scatter\"},{\"hovertemplate\":\"Workout_Type=HIIT\\u003cbr\\u003eGender=Female\\u003cbr\\u003eAgegroup=10\\ub300\\u003cbr\\u003eCalories_Burned=%{x}\\u003cbr\\u003eSession_Duration (hours)=%{y}\\u003cextra\\u003e\\u003c\\u002fextra\\u003e\",\"legendgroup\":\"HIIT\",\"marker\":{\"color\":\"#EF553B\",\"symbol\":\"circle\"},\"mode\":\"markers\",\"name\":\"HIIT\",\"orientation\":\"v\",\"showlegend\":false,\"x\":[1111.0,506.0,952.0,864.0],\"xaxis\":\"x5\",\"y\":[1.33,0.81,1.4,1.35],\"yaxis\":\"y5\",\"type\":\"scatter\"},{\"hovertemplate\":\"Workout_Type=Cardio\\u003cbr\\u003eGender=Male\\u003cbr\\u003eAgegroup=50\\ub300\\u003cbr\\u003eCalories_Burned=%{x}\\u003cbr\\u003eSession_Duration (hours)=%{y}\\u003cextra\\u003e\\u003c\\u002fextra\\u003e\",\"legendgroup\":\"Cardio\",\"marker\":{\"color\":\"#00cc96\",\"symbol\":\"circle\"},\"mode\":\"markers\",\"name\":\"Cardio\",\"orientation\":\"v\",\"showlegend\":true,\"x\":[1013.0,1133.0,750.0,936.0,1106.0,1119.0,1292.0,579.0,594.0,1012.0,497.0,1232.0,923.0,598.0,868.0,444.0,1203.0,453.0,331.0,1060.0,868.0,1091.0,719.0,388.0,858.0,895.0,1027.0,1418.0,862.0],\"xaxis\":\"x6\",\"y\":[1.24,1.67,1.13,1.26,1.33,1.57,1.8,0.77,0.93,1.31,0.81,1.79,1.13,0.93,1.28,0.69,1.7,0.72,0.54,1.29,1.36,1.44,1.19,0.53,1.09,1.19,1.56,1.99,1.21],\"yaxis\":\"y6\",\"type\":\"scatter\"},{\"hovertemplate\":\"Workout_Type=Cardio\\u003cbr\\u003eGender=Male\\u003cbr\\u003eAgegroup=40\\ub300\\u003cbr\\u003eCalories_Burned=%{x}\\u003cbr\\u003eSession_Duration (hours)=%{y}\\u003cextra\\u003e\\u003c\\u002fextra\\u003e\",\"legendgroup\":\"Cardio\",\"marker\":{\"color\":\"#00cc96\",\"symbol\":\"circle\"},\"mode\":\"markers\",\"name\":\"Cardio\",\"orientation\":\"v\",\"showlegend\":false,\"x\":[777.0,824.0,1126.0,988.0,815.0,820.0,660.0,1163.0,729.0,796.0,822.0,1187.0,875.0,1505.0,707.0,1192.0,1085.0,700.0,921.0,873.0,725.0,946.0,1066.0,949.0,1150.0,904.0,1248.0,951.0,1015.0,888.0,598.0,762.0],\"xaxis\":\"x7\",\"y\":[1.13,1.28,1.44,1.33,1.36,1.2,1.01,1.69,1.03,1.14,1.17,1.48,1.14,1.9,1.18,1.38,1.43,1.01,1.2,1.47,0.91,1.22,1.29,1.36,1.83,1.1,1.51,1.16,1.29,1.22,0.77,1.14],\"yaxis\":\"y7\",\"type\":\"scatter\"},{\"hovertemplate\":\"Workout_Type=Cardio\\u003cbr\\u003eGender=Male\\u003cbr\\u003eAgegroup=30\\ub300\\u003cbr\\u003eCalories_Burned=%{x}\\u003cbr\\u003eSession_Duration (hours)=%{y}\\u003cextra\\u003e\\u003c\\u002fextra\\u003e\",\"legendgroup\":\"Cardio\",\"marker\":{\"color\":\"#00cc96\",\"symbol\":\"circle\"},\"mode\":\"markers\",\"name\":\"Cardio\",\"orientation\":\"v\",\"showlegend\":false,\"x\":[1385.0,875.0,743.0,678.0,499.0,832.0,1195.0,929.0,987.0,1100.0,1086.0,448.0,1379.0,730.0,1199.0,757.0,472.0,1091.0,1081.0,1410.0,408.0,1148.0,1082.0,445.0,1197.0,446.0,1241.0,1047.0,986.0,1010.0,1198.0,1104.0],\"xaxis\":\"x8\",\"y\":[1.49,1.12,1.08,0.97,0.54,1.08,1.52,1.26,1.3,1.37,1.42,0.57,1.66,0.84,1.38,1.02,0.67,1.24,1.31,1.72,0.58,1.45,1.49,0.55,1.77,0.6,1.41,1.39,1.1,1.35,1.32,1.32],\"yaxis\":\"y8\",\"type\":\"scatter\"},{\"hovertemplate\":\"Workout_Type=Cardio\\u003cbr\\u003eGender=Male\\u003cbr\\u003eAgegroup=20\\ub300\\u003cbr\\u003eCalories_Burned=%{x}\\u003cbr\\u003eSession_Duration (hours)=%{y}\\u003cextra\\u003e\\u003c\\u002fextra\\u003e\",\"legendgroup\":\"Cardio\",\"marker\":{\"color\":\"#00cc96\",\"symbol\":\"circle\"},\"mode\":\"markers\",\"name\":\"Cardio\",\"orientation\":\"v\",\"showlegend\":false,\"x\":[808.0,1016.0,1318.0,1150.0,1070.0,1074.0,1280.0,980.0,502.0,1054.0,1278.0,1203.0,1479.0,997.0,386.0,1107.0,907.0,686.0,850.0,1319.0,1515.0,1320.0,875.0,926.0,1025.0,1294.0,803.0,1287.0,494.0,950.0],\"xaxis\":\"x9\",\"y\":[1.08,1.41,1.47,1.34,1.36,1.55,1.79,1.35,0.63,1.42,1.48,1.35,1.88,1.25,0.52,1.29,1.34,1.04,1.01,1.75,1.8,1.6,1.02,1.38,1.35,1.47,1.0,1.72,0.68,1.28],\"yaxis\":\"y9\",\"type\":\"scatter\"},{\"hovertemplate\":\"Workout_Type=Cardio\\u003cbr\\u003eGender=Male\\u003cbr\\u003eAgegroup=10\\ub300\\u003cbr\\u003eCalories_Burned=%{x}\\u003cbr\\u003eSession_Duration (hours)=%{y}\\u003cextra\\u003e\\u003c\\u002fextra\\u003e\",\"legendgroup\":\"Cardio\",\"marker\":{\"color\":\"#00cc96\",\"symbol\":\"circle\"},\"mode\":\"markers\",\"name\":\"Cardio\",\"orientation\":\"v\",\"showlegend\":false,\"x\":[1133.0,740.0,463.0,436.0,725.0,693.0],\"xaxis\":\"x10\",\"y\":[1.28,0.83,0.61,0.66,1.03,0.94],\"yaxis\":\"y10\",\"type\":\"scatter\"},{\"hovertemplate\":\"Workout_Type=Cardio\\u003cbr\\u003eGender=Female\\u003cbr\\u003eAgegroup=50\\ub300\\u003cbr\\u003eCalories_Burned=%{x}\\u003cbr\\u003eSession_Duration (hours)=%{y}\\u003cextra\\u003e\\u003c\\u002fextra\\u003e\",\"legendgroup\":\"Cardio\",\"marker\":{\"color\":\"#00cc96\",\"symbol\":\"circle\"},\"mode\":\"markers\",\"name\":\"Cardio\",\"orientation\":\"v\",\"showlegend\":false,\"x\":[879.0,363.0,1231.0,441.0,913.0,362.0,852.0,767.0,763.0,880.0,407.0,830.0,914.0,794.0,637.0,672.0,422.0,733.0,985.0,807.0,662.0,454.0,836.0,723.0,1066.0,1001.0,1227.0,929.0],\"xaxis\":\"x\",\"y\":[1.26,0.63,1.8,0.58,1.23,0.67,1.27,1.1,1.06,1.34,0.69,1.19,1.43,1.27,1.17,0.97,0.71,0.97,1.52,1.08,1.05,0.72,1.14,1.05,1.91,1.39,1.99,1.72],\"yaxis\":\"y\",\"type\":\"scatter\"},{\"hovertemplate\":\"Workout_Type=Cardio\\u003cbr\\u003eGender=Female\\u003cbr\\u003eAgegroup=40\\ub300\\u003cbr\\u003eCalories_Burned=%{x}\\u003cbr\\u003eSession_Duration (hours)=%{y}\\u003cextra\\u003e\\u003c\\u002fextra\\u003e\",\"legendgroup\":\"Cardio\",\"marker\":{\"color\":\"#00cc96\",\"symbol\":\"circle\"},\"mode\":\"markers\",\"name\":\"Cardio\",\"orientation\":\"v\",\"showlegend\":false,\"x\":[895.0,884.0,1150.0,421.0,875.0,1041.0,1042.0,1038.0,1153.0,732.0,1380.0,566.0,395.0,463.0,886.0,1053.0,1240.0,807.0,933.0,303.0,938.0,909.0,590.0,433.0,1005.0],\"xaxis\":\"x2\",\"y\":[1.27,1.19,1.67,0.62,1.37,1.31,1.69,1.46,1.83,1.28,1.93,0.88,0.66,0.7,1.33,1.76,1.67,1.18,1.41,0.51,1.38,1.67,0.79,0.74,1.83],\"yaxis\":\"y2\",\"type\":\"scatter\"},{\"hovertemplate\":\"Workout_Type=Cardio\\u003cbr\\u003eGender=Female\\u003cbr\\u003eAgegroup=30\\ub300\\u003cbr\\u003eCalories_Burned=%{x}\\u003cbr\\u003eSession_Duration (hours)=%{y}\\u003cextra\\u003e\\u003c\\u002fextra\\u003e\",\"legendgroup\":\"Cardio\",\"marker\":{\"color\":\"#00cc96\",\"symbol\":\"circle\"},\"mode\":\"markers\",\"name\":\"Cardio\",\"orientation\":\"v\",\"showlegend\":false,\"x\":[677.0,969.0,742.0,888.0,408.0,1046.0,1249.0,734.0,790.0,803.0,962.0,1161.0,792.0,1024.0,1200.0,499.0,448.0,597.0,913.0,558.0,904.0,354.0,463.0,746.0,1050.0,916.0,643.0,847.0,1228.0,726.0,863.0,514.0,636.0],\"xaxis\":\"x3\",\"y\":[1.11,1.48,1.03,1.09,0.51,1.26,1.81,1.08,1.0,1.03,1.54,1.47,1.07,1.33,1.5,0.62,0.69,0.97,1.1,0.9,1.37,0.54,0.59,1.13,1.28,1.41,1.02,1.13,1.78,1.03,1.26,0.85,0.81],\"yaxis\":\"y3\",\"type\":\"scatter\"},{\"hovertemplate\":\"Workout_Type=Cardio\\u003cbr\\u003eGender=Female\\u003cbr\\u003eAgegroup=20\\ub300\\u003cbr\\u003eCalories_Burned=%{x}\\u003cbr\\u003eSession_Duration (hours)=%{y}\\u003cextra\\u003e\\u003c\\u002fextra\\u003e\",\"legendgroup\":\"Cardio\",\"marker\":{\"color\":\"#00cc96\",\"symbol\":\"circle\"},\"mode\":\"markers\",\"name\":\"Cardio\",\"orientation\":\"v\",\"showlegend\":false,\"x\":[816.0,734.0,832.0,627.0,1625.0,790.0,958.0,1029.0,994.0,1304.0,642.0,907.0,895.0,1171.0,632.0,720.0,319.0,1006.0,977.0,756.0,1069.0,911.0,1336.0,831.0,816.0,784.0,852.0],\"xaxis\":\"x4\",\"y\":[1.04,1.08,1.08,0.89,1.97,1.02,1.42,1.41,1.39,1.62,1.07,1.08,1.26,1.71,0.89,1.2,0.51,1.49,1.48,1.19,1.37,1.38,1.59,1.13,1.15,0.95,1.2],\"yaxis\":\"y4\",\"type\":\"scatter\"},{\"hovertemplate\":\"Workout_Type=Cardio\\u003cbr\\u003eGender=Female\\u003cbr\\u003eAgegroup=10\\ub300\\u003cbr\\u003eCalories_Burned=%{x}\\u003cbr\\u003eSession_Duration (hours)=%{y}\\u003cextra\\u003e\\u003c\\u002fextra\\u003e\",\"legendgroup\":\"Cardio\",\"marker\":{\"color\":\"#00cc96\",\"symbol\":\"circle\"},\"mode\":\"markers\",\"name\":\"Cardio\",\"orientation\":\"v\",\"showlegend\":false,\"x\":[730.0,990.0,800.0,699.0,840.0,525.0,679.0,1032.0,1164.0,1234.0,883.0,1336.0,907.0],\"xaxis\":\"x5\",\"y\":[1.14,1.2,1.23,1.11,1.2,0.84,1.07,1.29,1.42,1.87,1.46,1.65,1.17],\"yaxis\":\"y5\",\"type\":\"scatter\"},{\"hovertemplate\":\"Workout_Type=Strength\\u003cbr\\u003eGender=Male\\u003cbr\\u003eAgegroup=50\\ub300\\u003cbr\\u003eCalories_Burned=%{x}\\u003cbr\\u003eSession_Duration (hours)=%{y}\\u003cextra\\u003e\\u003c\\u002fextra\\u003e\",\"legendgroup\":\"Strength\",\"marker\":{\"color\":\"#ab63fa\",\"symbol\":\"circle\"},\"mode\":\"markers\",\"name\":\"Strength\",\"orientation\":\"v\",\"showlegend\":true,\"x\":[989.0,773.0,420.0,667.0,1404.0,685.0,639.0,458.0,885.0,663.0,903.0,688.0,353.0,465.0,1123.0,885.0,927.0,817.0,882.0,882.0,1144.0,1011.0,969.0,1139.0,847.0,954.0,1024.0,1128.0,915.0,795.0,640.0,705.0,965.0,992.0,764.0],\"xaxis\":\"x6\",\"y\":[1.48,1.23,0.54,0.97,1.74,1.01,1.0,0.68,1.07,1.03,1.46,1.13,0.52,0.77,1.35,1.43,1.31,1.26,1.15,1.35,1.7,1.48,1.36,1.87,1.38,1.14,1.37,1.47,1.24,1.1,0.77,1.13,1.3,1.2,1.16],\"yaxis\":\"y6\",\"type\":\"scatter\"},{\"hovertemplate\":\"Workout_Type=Strength\\u003cbr\\u003eGender=Male\\u003cbr\\u003eAgegroup=40\\ub300\\u003cbr\\u003eCalories_Burned=%{x}\\u003cbr\\u003eSession_Duration (hours)=%{y}\\u003cextra\\u003e\\u003c\\u002fextra\\u003e\",\"legendgroup\":\"Strength\",\"marker\":{\"color\":\"#ab63fa\",\"symbol\":\"circle\"},\"mode\":\"markers\",\"name\":\"Strength\",\"orientation\":\"v\",\"showlegend\":false,\"x\":[1057.0,956.0,663.0,530.0,680.0,778.0,1481.0,597.0,680.0,922.0,722.0,792.0,806.0,1171.0,1500.0,739.0,932.0,844.0,842.0,818.0,1398.0,1257.0,350.0,942.0,1634.0,714.0,468.0,552.0,1497.0,812.0,1445.0,542.0],\"xaxis\":\"x7\",\"y\":[1.31,1.2,1.08,0.83,1.09,1.2,1.87,0.82,1.01,1.37,0.81,0.9,1.03,1.4,1.98,1.14,1.29,1.16,1.35,1.08,1.81,1.42,0.52,1.36,2.0,1.06,0.63,0.71,1.63,1.18,1.96,0.75],\"yaxis\":\"y7\",\"type\":\"scatter\"},{\"hovertemplate\":\"Workout_Type=Strength\\u003cbr\\u003eGender=Male\\u003cbr\\u003eAgegroup=30\\ub300\\u003cbr\\u003eCalories_Burned=%{x}\\u003cbr\\u003eSession_Duration (hours)=%{y}\\u003cextra\\u003e\\u003c\\u002fextra\\u003e\",\"legendgroup\":\"Strength\",\"marker\":{\"color\":\"#ab63fa\",\"symbol\":\"circle\"},\"mode\":\"markers\",\"name\":\"Strength\",\"orientation\":\"v\",\"showlegend\":false,\"x\":[556.0,1069.0,1071.0,852.0,938.0,949.0,1289.0,767.0,1205.0,1198.0,634.0,1170.0,1725.0,593.0,946.0,1322.0,1076.0,1151.0,987.0,915.0,1013.0,1143.0,484.0,1116.0,1025.0,992.0,1783.0,718.0,818.0],\"xaxis\":\"x8\",\"y\":[0.64,1.34,1.29,1.23,1.1,1.38,1.42,1.09,1.32,1.59,0.72,1.4,1.96,0.77,1.03,1.78,1.46,1.3,1.38,1.18,1.45,1.35,0.56,1.26,1.18,1.49,1.93,1.02,1.24],\"yaxis\":\"y8\",\"type\":\"scatter\"},{\"hovertemplate\":\"Workout_Type=Strength\\u003cbr\\u003eGender=Male\\u003cbr\\u003eAgegroup=20\\ub300\\u003cbr\\u003eCalories_Burned=%{x}\\u003cbr\\u003eSession_Duration (hours)=%{y}\\u003cextra\\u003e\\u003c\\u002fextra\\u003e\",\"legendgroup\":\"Strength\",\"marker\":{\"color\":\"#ab63fa\",\"symbol\":\"circle\"},\"mode\":\"markers\",\"name\":\"Strength\",\"orientation\":\"v\",\"showlegend\":false,\"x\":[532.0,719.0,1162.0,1072.0,1046.0,1299.0,1052.0,1701.0,624.0,1034.0,993.0,1137.0,442.0,1020.0,1005.0,1316.0,393.0,1025.0,710.0,959.0,1004.0,1345.0,921.0,759.0,1675.0,1598.0,1363.0,698.0,942.0,980.0,1017.0,1364.0,1260.0],\"xaxis\":\"x9\",\"y\":[0.59,1.03,1.32,1.3,1.26,1.75,1.25,1.97,0.7,1.16,1.41,1.36,0.67,1.52,1.45,1.65,0.51,1.13,0.97,1.05,1.17,1.91,1.06,1.15,1.88,1.75,1.62,1.0,1.15,1.32,1.34,1.57,1.38],\"yaxis\":\"y9\",\"type\":\"scatter\"},{\"hovertemplate\":\"Workout_Type=Strength\\u003cbr\\u003eGender=Male\\u003cbr\\u003eAgegroup=10\\ub300\\u003cbr\\u003eCalories_Burned=%{x}\\u003cbr\\u003eSession_Duration (hours)=%{y}\\u003cextra\\u003e\\u003c\\u002fextra\\u003e\",\"legendgroup\":\"Strength\",\"marker\":{\"color\":\"#ab63fa\",\"symbol\":\"circle\"},\"mode\":\"markers\",\"name\":\"Strength\",\"orientation\":\"v\",\"showlegend\":false,\"x\":[1048.0,1201.0,1424.0,1074.0,586.0,1173.0],\"xaxis\":\"x10\",\"y\":[1.5,1.3,1.66,1.31,0.88,1.27],\"yaxis\":\"y10\",\"type\":\"scatter\"},{\"hovertemplate\":\"Workout_Type=Strength\\u003cbr\\u003eGender=Female\\u003cbr\\u003eAgegroup=50\\ub300\\u003cbr\\u003eCalories_Burned=%{x}\\u003cbr\\u003eSession_Duration (hours)=%{y}\\u003cextra\\u003e\\u003c\\u002fextra\\u003e\",\"legendgroup\":\"Strength\",\"marker\":{\"color\":\"#ab63fa\",\"symbol\":\"circle\"},\"mode\":\"markers\",\"name\":\"Strength\",\"orientation\":\"v\",\"showlegend\":false,\"x\":[836.0,1004.0,1020.0,677.0,900.0,1010.0,964.0,1016.0,842.0,482.0,555.0,725.0,753.0,926.0,779.0,1025.0,933.0,962.0,927.0,848.0,776.0,983.0,479.0,719.0,394.0,841.0,711.0,911.0,927.0,470.0,1463.0],\"xaxis\":\"x\",\"y\":[1.23,1.73,1.39,1.01,1.6,1.36,1.52,1.85,1.44,0.83,0.92,1.22,1.24,1.31,1.17,1.38,1.28,1.37,1.45,1.29,1.38,1.41,0.75,1.32,0.54,1.46,1.12,1.22,1.28,0.73,1.97],\"yaxis\":\"y\",\"type\":\"scatter\"},{\"hovertemplate\":\"Workout_Type=Strength\\u003cbr\\u003eGender=Female\\u003cbr\\u003eAgegroup=40\\ub300\\u003cbr\\u003eCalories_Burned=%{x}\\u003cbr\\u003eSession_Duration (hours)=%{y}\\u003cextra\\u003e\\u003c\\u002fextra\\u003e\",\"legendgroup\":\"Strength\",\"marker\":{\"color\":\"#ab63fa\",\"symbol\":\"circle\"},\"mode\":\"markers\",\"name\":\"Strength\",\"orientation\":\"v\",\"showlegend\":false,\"x\":[742.0,580.0,1103.0,735.0,819.0,870.0,1337.0,979.0,940.0,1060.0,684.0,1105.0,1066.0,888.0,845.0,608.0,894.0,920.0,958.0,502.0,887.0,762.0,798.0,475.0,906.0,695.0,742.0,717.0,673.0,1001.0],\"xaxis\":\"x2\",\"y\":[1.13,1.04,1.45,1.15,1.41,1.24,1.87,1.45,1.29,1.52,1.0,1.98,1.49,1.37,1.37,1.04,1.25,1.27,1.4,0.82,1.45,1.27,1.19,0.8,1.61,0.93,1.03,1.07,0.99,1.34],\"yaxis\":\"y2\",\"type\":\"scatter\"},{\"hovertemplate\":\"Workout_Type=Strength\\u003cbr\\u003eGender=Female\\u003cbr\\u003eAgegroup=30\\ub300\\u003cbr\\u003eCalories_Burned=%{x}\\u003cbr\\u003eSession_Duration (hours)=%{y}\\u003cextra\\u003e\\u003c\\u002fextra\\u003e\",\"legendgroup\":\"Strength\",\"marker\":{\"color\":\"#ab63fa\",\"symbol\":\"circle\"},\"mode\":\"markers\",\"name\":\"Strength\",\"orientation\":\"v\",\"showlegend\":false,\"x\":[740.0,1418.0,756.0,887.0,732.0,982.0,949.0,903.0,1175.0,638.0,1159.0,948.0,780.0,1304.0,834.0,883.0,822.0,810.0,634.0,1188.0,821.0,1043.0,621.0,1213.0,811.0,876.0,402.0],\"xaxis\":\"x3\",\"y\":[1.13,1.97,1.24,1.13,1.21,1.31,1.13,1.22,1.88,0.85,1.84,1.58,1.3,1.85,1.15,1.46,1.06,1.08,0.99,1.71,1.02,1.63,1.01,1.65,1.22,1.38,0.57],\"yaxis\":\"y3\",\"type\":\"scatter\"},{\"hovertemplate\":\"Workout_Type=Strength\\u003cbr\\u003eGender=Female\\u003cbr\\u003eAgegroup=20\\ub300\\u003cbr\\u003eCalories_Burned=%{x}\\u003cbr\\u003eSession_Duration (hours)=%{y}\\u003cextra\\u003e\\u003c\\u002fextra\\u003e\",\"legendgroup\":\"Strength\",\"marker\":{\"color\":\"#ab63fa\",\"symbol\":\"circle\"},\"mode\":\"markers\",\"name\":\"Strength\",\"orientation\":\"v\",\"showlegend\":false,\"x\":[751.0,844.0,1043.0,1056.0,1212.0,598.0,863.0,1096.0,1103.0,1056.0,1293.0,883.0,569.0,684.0,1204.0,710.0,910.0,878.0,1022.0,714.0,978.0,847.0,938.0,585.0,829.0,1242.0,500.0,479.0],\"xaxis\":\"x4\",\"y\":[1.08,1.14,1.28,1.39,1.97,0.83,1.04,1.7,1.37,1.25,1.93,1.27,0.94,0.85,1.45,1.1,1.48,1.14,1.46,1.19,1.47,1.1,1.36,0.76,1.37,1.94,0.68,0.61],\"yaxis\":\"y4\",\"type\":\"scatter\"},{\"hovertemplate\":\"Workout_Type=Strength\\u003cbr\\u003eGender=Female\\u003cbr\\u003eAgegroup=10\\ub300\\u003cbr\\u003eCalories_Burned=%{x}\\u003cbr\\u003eSession_Duration (hours)=%{y}\\u003cextra\\u003e\\u003c\\u002fextra\\u003e\",\"legendgroup\":\"Strength\",\"marker\":{\"color\":\"#ab63fa\",\"symbol\":\"circle\"},\"mode\":\"markers\",\"name\":\"Strength\",\"orientation\":\"v\",\"showlegend\":false,\"x\":[1003.0,877.0,1169.0,653.0,996.0,492.0,606.0],\"xaxis\":\"x5\",\"y\":[1.27,1.28,1.87,0.96,1.23,0.6,0.97],\"yaxis\":\"y5\",\"type\":\"scatter\"}],                        {\"template\":{\"data\":{\"histogram2dcontour\":[{\"type\":\"histogram2dcontour\",\"colorbar\":{\"outlinewidth\":0,\"ticks\":\"\"},\"colorscale\":[[0.0,\"#0d0887\"],[0.1111111111111111,\"#46039f\"],[0.2222222222222222,\"#7201a8\"],[0.3333333333333333,\"#9c179e\"],[0.4444444444444444,\"#bd3786\"],[0.5555555555555556,\"#d8576b\"],[0.6666666666666666,\"#ed7953\"],[0.7777777777777778,\"#fb9f3a\"],[0.8888888888888888,\"#fdca26\"],[1.0,\"#f0f921\"]]}],\"choropleth\":[{\"type\":\"choropleth\",\"colorbar\":{\"outlinewidth\":0,\"ticks\":\"\"}}],\"histogram2d\":[{\"type\":\"histogram2d\",\"colorbar\":{\"outlinewidth\":0,\"ticks\":\"\"},\"colorscale\":[[0.0,\"#0d0887\"],[0.1111111111111111,\"#46039f\"],[0.2222222222222222,\"#7201a8\"],[0.3333333333333333,\"#9c179e\"],[0.4444444444444444,\"#bd3786\"],[0.5555555555555556,\"#d8576b\"],[0.6666666666666666,\"#ed7953\"],[0.7777777777777778,\"#fb9f3a\"],[0.8888888888888888,\"#fdca26\"],[1.0,\"#f0f921\"]]}],\"heatmap\":[{\"type\":\"heatmap\",\"colorbar\":{\"outlinewidth\":0,\"ticks\":\"\"},\"colorscale\":[[0.0,\"#0d0887\"],[0.1111111111111111,\"#46039f\"],[0.2222222222222222,\"#7201a8\"],[0.3333333333333333,\"#9c179e\"],[0.4444444444444444,\"#bd3786\"],[0.5555555555555556,\"#d8576b\"],[0.6666666666666666,\"#ed7953\"],[0.7777777777777778,\"#fb9f3a\"],[0.8888888888888888,\"#fdca26\"],[1.0,\"#f0f921\"]]}],\"heatmapgl\":[{\"type\":\"heatmapgl\",\"colorbar\":{\"outlinewidth\":0,\"ticks\":\"\"},\"colorscale\":[[0.0,\"#0d0887\"],[0.1111111111111111,\"#46039f\"],[0.2222222222222222,\"#7201a8\"],[0.3333333333333333,\"#9c179e\"],[0.4444444444444444,\"#bd3786\"],[0.5555555555555556,\"#d8576b\"],[0.6666666666666666,\"#ed7953\"],[0.7777777777777778,\"#fb9f3a\"],[0.8888888888888888,\"#fdca26\"],[1.0,\"#f0f921\"]]}],\"contourcarpet\":[{\"type\":\"contourcarpet\",\"colorbar\":{\"outlinewidth\":0,\"ticks\":\"\"}}],\"contour\":[{\"type\":\"contour\",\"colorbar\":{\"outlinewidth\":0,\"ticks\":\"\"},\"colorscale\":[[0.0,\"#0d0887\"],[0.1111111111111111,\"#46039f\"],[0.2222222222222222,\"#7201a8\"],[0.3333333333333333,\"#9c179e\"],[0.4444444444444444,\"#bd3786\"],[0.5555555555555556,\"#d8576b\"],[0.6666666666666666,\"#ed7953\"],[0.7777777777777778,\"#fb9f3a\"],[0.8888888888888888,\"#fdca26\"],[1.0,\"#f0f921\"]]}],\"surface\":[{\"type\":\"surface\",\"colorbar\":{\"outlinewidth\":0,\"ticks\":\"\"},\"colorscale\":[[0.0,\"#0d0887\"],[0.1111111111111111,\"#46039f\"],[0.2222222222222222,\"#7201a8\"],[0.3333333333333333,\"#9c179e\"],[0.4444444444444444,\"#bd3786\"],[0.5555555555555556,\"#d8576b\"],[0.6666666666666666,\"#ed7953\"],[0.7777777777777778,\"#fb9f3a\"],[0.8888888888888888,\"#fdca26\"],[1.0,\"#f0f921\"]]}],\"mesh3d\":[{\"type\":\"mesh3d\",\"colorbar\":{\"outlinewidth\":0,\"ticks\":\"\"}}],\"scatter\":[{\"fillpattern\":{\"fillmode\":\"overlay\",\"size\":10,\"solidity\":0.2},\"type\":\"scatter\"}],\"parcoords\":[{\"type\":\"parcoords\",\"line\":{\"colorbar\":{\"outlinewidth\":0,\"ticks\":\"\"}}}],\"scatterpolargl\":[{\"type\":\"scatterpolargl\",\"marker\":{\"colorbar\":{\"outlinewidth\":0,\"ticks\":\"\"}}}],\"bar\":[{\"error_x\":{\"color\":\"#2a3f5f\"},\"error_y\":{\"color\":\"#2a3f5f\"},\"marker\":{\"line\":{\"color\":\"#E5ECF6\",\"width\":0.5},\"pattern\":{\"fillmode\":\"overlay\",\"size\":10,\"solidity\":0.2}},\"type\":\"bar\"}],\"scattergeo\":[{\"type\":\"scattergeo\",\"marker\":{\"colorbar\":{\"outlinewidth\":0,\"ticks\":\"\"}}}],\"scatterpolar\":[{\"type\":\"scatterpolar\",\"marker\":{\"colorbar\":{\"outlinewidth\":0,\"ticks\":\"\"}}}],\"histogram\":[{\"marker\":{\"pattern\":{\"fillmode\":\"overlay\",\"size\":10,\"solidity\":0.2}},\"type\":\"histogram\"}],\"scattergl\":[{\"type\":\"scattergl\",\"marker\":{\"colorbar\":{\"outlinewidth\":0,\"ticks\":\"\"}}}],\"scatter3d\":[{\"type\":\"scatter3d\",\"line\":{\"colorbar\":{\"outlinewidth\":0,\"ticks\":\"\"}},\"marker\":{\"colorbar\":{\"outlinewidth\":0,\"ticks\":\"\"}}}],\"scattermapbox\":[{\"type\":\"scattermapbox\",\"marker\":{\"colorbar\":{\"outlinewidth\":0,\"ticks\":\"\"}}}],\"scatterternary\":[{\"type\":\"scatterternary\",\"marker\":{\"colorbar\":{\"outlinewidth\":0,\"ticks\":\"\"}}}],\"scattercarpet\":[{\"type\":\"scattercarpet\",\"marker\":{\"colorbar\":{\"outlinewidth\":0,\"ticks\":\"\"}}}],\"carpet\":[{\"aaxis\":{\"endlinecolor\":\"#2a3f5f\",\"gridcolor\":\"white\",\"linecolor\":\"white\",\"minorgridcolor\":\"white\",\"startlinecolor\":\"#2a3f5f\"},\"baxis\":{\"endlinecolor\":\"#2a3f5f\",\"gridcolor\":\"white\",\"linecolor\":\"white\",\"minorgridcolor\":\"white\",\"startlinecolor\":\"#2a3f5f\"},\"type\":\"carpet\"}],\"table\":[{\"cells\":{\"fill\":{\"color\":\"#EBF0F8\"},\"line\":{\"color\":\"white\"}},\"header\":{\"fill\":{\"color\":\"#C8D4E3\"},\"line\":{\"color\":\"white\"}},\"type\":\"table\"}],\"barpolar\":[{\"marker\":{\"line\":{\"color\":\"#E5ECF6\",\"width\":0.5},\"pattern\":{\"fillmode\":\"overlay\",\"size\":10,\"solidity\":0.2}},\"type\":\"barpolar\"}],\"pie\":[{\"automargin\":true,\"type\":\"pie\"}]},\"layout\":{\"autotypenumbers\":\"strict\",\"colorway\":[\"#636efa\",\"#EF553B\",\"#00cc96\",\"#ab63fa\",\"#FFA15A\",\"#19d3f3\",\"#FF6692\",\"#B6E880\",\"#FF97FF\",\"#FECB52\"],\"font\":{\"color\":\"#2a3f5f\"},\"hovermode\":\"closest\",\"hoverlabel\":{\"align\":\"left\"},\"paper_bgcolor\":\"white\",\"plot_bgcolor\":\"#E5ECF6\",\"polar\":{\"bgcolor\":\"#E5ECF6\",\"angularaxis\":{\"gridcolor\":\"white\",\"linecolor\":\"white\",\"ticks\":\"\"},\"radialaxis\":{\"gridcolor\":\"white\",\"linecolor\":\"white\",\"ticks\":\"\"}},\"ternary\":{\"bgcolor\":\"#E5ECF6\",\"aaxis\":{\"gridcolor\":\"white\",\"linecolor\":\"white\",\"ticks\":\"\"},\"baxis\":{\"gridcolor\":\"white\",\"linecolor\":\"white\",\"ticks\":\"\"},\"caxis\":{\"gridcolor\":\"white\",\"linecolor\":\"white\",\"ticks\":\"\"}},\"coloraxis\":{\"colorbar\":{\"outlinewidth\":0,\"ticks\":\"\"}},\"colorscale\":{\"sequential\":[[0.0,\"#0d0887\"],[0.1111111111111111,\"#46039f\"],[0.2222222222222222,\"#7201a8\"],[0.3333333333333333,\"#9c179e\"],[0.4444444444444444,\"#bd3786\"],[0.5555555555555556,\"#d8576b\"],[0.6666666666666666,\"#ed7953\"],[0.7777777777777778,\"#fb9f3a\"],[0.8888888888888888,\"#fdca26\"],[1.0,\"#f0f921\"]],\"sequentialminus\":[[0.0,\"#0d0887\"],[0.1111111111111111,\"#46039f\"],[0.2222222222222222,\"#7201a8\"],[0.3333333333333333,\"#9c179e\"],[0.4444444444444444,\"#bd3786\"],[0.5555555555555556,\"#d8576b\"],[0.6666666666666666,\"#ed7953\"],[0.7777777777777778,\"#fb9f3a\"],[0.8888888888888888,\"#fdca26\"],[1.0,\"#f0f921\"]],\"diverging\":[[0,\"#8e0152\"],[0.1,\"#c51b7d\"],[0.2,\"#de77ae\"],[0.3,\"#f1b6da\"],[0.4,\"#fde0ef\"],[0.5,\"#f7f7f7\"],[0.6,\"#e6f5d0\"],[0.7,\"#b8e186\"],[0.8,\"#7fbc41\"],[0.9,\"#4d9221\"],[1,\"#276419\"]]},\"xaxis\":{\"gridcolor\":\"white\",\"linecolor\":\"white\",\"ticks\":\"\",\"title\":{\"standoff\":15},\"zerolinecolor\":\"white\",\"automargin\":true,\"zerolinewidth\":2},\"yaxis\":{\"gridcolor\":\"white\",\"linecolor\":\"white\",\"ticks\":\"\",\"title\":{\"standoff\":15},\"zerolinecolor\":\"white\",\"automargin\":true,\"zerolinewidth\":2},\"scene\":{\"xaxis\":{\"backgroundcolor\":\"#E5ECF6\",\"gridcolor\":\"white\",\"linecolor\":\"white\",\"showbackground\":true,\"ticks\":\"\",\"zerolinecolor\":\"white\",\"gridwidth\":2},\"yaxis\":{\"backgroundcolor\":\"#E5ECF6\",\"gridcolor\":\"white\",\"linecolor\":\"white\",\"showbackground\":true,\"ticks\":\"\",\"zerolinecolor\":\"white\",\"gridwidth\":2},\"zaxis\":{\"backgroundcolor\":\"#E5ECF6\",\"gridcolor\":\"white\",\"linecolor\":\"white\",\"showbackground\":true,\"ticks\":\"\",\"zerolinecolor\":\"white\",\"gridwidth\":2}},\"shapedefaults\":{\"line\":{\"color\":\"#2a3f5f\"}},\"annotationdefaults\":{\"arrowcolor\":\"#2a3f5f\",\"arrowhead\":0,\"arrowwidth\":1},\"geo\":{\"bgcolor\":\"white\",\"landcolor\":\"#E5ECF6\",\"subunitcolor\":\"white\",\"showland\":true,\"showlakes\":true,\"lakecolor\":\"white\"},\"title\":{\"x\":0.05},\"mapbox\":{\"style\":\"light\"}}},\"xaxis\":{\"anchor\":\"y\",\"domain\":[0.0,0.18000000000000002],\"title\":{\"text\":\"Calories_Burned\"}},\"yaxis\":{\"anchor\":\"x\",\"domain\":[0.0,0.485],\"title\":{\"text\":\"Session_Duration (hours)\"},\"tickangle\":45},\"xaxis2\":{\"anchor\":\"y2\",\"domain\":[0.2,0.38],\"matches\":\"x\",\"title\":{\"text\":\"Calories_Burned\"}},\"yaxis2\":{\"anchor\":\"x2\",\"domain\":[0.0,0.485],\"matches\":\"y\",\"showticklabels\":false,\"tickangle\":45},\"xaxis3\":{\"anchor\":\"y3\",\"domain\":[0.4,0.5800000000000001],\"matches\":\"x\",\"title\":{\"text\":\"Calories_Burned\"}},\"yaxis3\":{\"anchor\":\"x3\",\"domain\":[0.0,0.485],\"matches\":\"y\",\"showticklabels\":false,\"tickangle\":45},\"xaxis4\":{\"anchor\":\"y4\",\"domain\":[0.6000000000000001,0.7800000000000001],\"matches\":\"x\",\"title\":{\"text\":\"Calories_Burned\"}},\"yaxis4\":{\"anchor\":\"x4\",\"domain\":[0.0,0.485],\"matches\":\"y\",\"showticklabels\":false,\"tickangle\":45},\"xaxis5\":{\"anchor\":\"y5\",\"domain\":[0.8,0.9800000000000001],\"matches\":\"x\",\"title\":{\"text\":\"Calories_Burned\"}},\"yaxis5\":{\"anchor\":\"x5\",\"domain\":[0.0,0.485],\"matches\":\"y\",\"showticklabels\":false,\"tickangle\":45},\"xaxis6\":{\"anchor\":\"y6\",\"domain\":[0.0,0.18000000000000002],\"matches\":\"x\",\"showticklabels\":false},\"yaxis6\":{\"anchor\":\"x6\",\"domain\":[0.515,1.0],\"matches\":\"y\",\"title\":{\"text\":\"Session_Duration (hours)\"},\"tickangle\":45},\"xaxis7\":{\"anchor\":\"y7\",\"domain\":[0.2,0.38],\"matches\":\"x\",\"showticklabels\":false},\"yaxis7\":{\"anchor\":\"x7\",\"domain\":[0.515,1.0],\"matches\":\"y\",\"showticklabels\":false,\"tickangle\":45},\"xaxis8\":{\"anchor\":\"y8\",\"domain\":[0.4,0.5800000000000001],\"matches\":\"x\",\"showticklabels\":false},\"yaxis8\":{\"anchor\":\"x8\",\"domain\":[0.515,1.0],\"matches\":\"y\",\"showticklabels\":false,\"tickangle\":45},\"xaxis9\":{\"anchor\":\"y9\",\"domain\":[0.6000000000000001,0.7800000000000001],\"matches\":\"x\",\"showticklabels\":false},\"yaxis9\":{\"anchor\":\"x9\",\"domain\":[0.515,1.0],\"matches\":\"y\",\"showticklabels\":false,\"tickangle\":45},\"xaxis10\":{\"anchor\":\"y10\",\"domain\":[0.8,0.9800000000000001],\"matches\":\"x\",\"showticklabels\":false},\"yaxis10\":{\"anchor\":\"x10\",\"domain\":[0.515,1.0],\"matches\":\"y\",\"showticklabels\":false,\"tickangle\":45},\"annotations\":[{\"font\":{},\"showarrow\":false,\"text\":\"Agegroup=50\\ub300\",\"x\":0.09000000000000001,\"xanchor\":\"center\",\"xref\":\"paper\",\"y\":1.0,\"yanchor\":\"bottom\",\"yref\":\"paper\"},{\"font\":{},\"showarrow\":false,\"text\":\"Agegroup=40\\ub300\",\"x\":0.29000000000000004,\"xanchor\":\"center\",\"xref\":\"paper\",\"y\":1.0,\"yanchor\":\"bottom\",\"yref\":\"paper\"},{\"font\":{},\"showarrow\":false,\"text\":\"Agegroup=30\\ub300\",\"x\":0.49000000000000005,\"xanchor\":\"center\",\"xref\":\"paper\",\"y\":1.0,\"yanchor\":\"bottom\",\"yref\":\"paper\"},{\"font\":{},\"showarrow\":false,\"text\":\"Agegroup=20\\ub300\",\"x\":0.6900000000000002,\"xanchor\":\"center\",\"xref\":\"paper\",\"y\":1.0,\"yanchor\":\"bottom\",\"yref\":\"paper\"},{\"font\":{},\"showarrow\":false,\"text\":\"Agegroup=10\\ub300\",\"x\":0.8900000000000001,\"xanchor\":\"center\",\"xref\":\"paper\",\"y\":1.0,\"yanchor\":\"bottom\",\"yref\":\"paper\"},{\"font\":{},\"showarrow\":false,\"text\":\"Gender=Female\",\"textangle\":90,\"x\":0.9800000000000001,\"xanchor\":\"left\",\"xref\":\"paper\",\"y\":0.2425,\"yanchor\":\"middle\",\"yref\":\"paper\"},{\"font\":{},\"showarrow\":false,\"text\":\"Gender=Male\",\"textangle\":90,\"x\":0.9800000000000001,\"xanchor\":\"left\",\"xref\":\"paper\",\"y\":0.7575000000000001,\"yanchor\":\"middle\",\"yref\":\"paper\"}],\"legend\":{\"title\":{\"text\":\"Workout_Type\"},\"tracegroupgap\":0},\"title\":{\"text\":\"\\uc6b4\\ub3d9 \\ud615\\ud0dc \\ubcc4 \\uc9c0\\uc18d \\uc2dc\\uac04\\uacfc \\uce7c\\ub85c\\ub9ac \\uc18c\\ubaa8\\ub7c9 (\\uc131\\ubcc4, \\uc5f0\\ub839\\ub300 \\ubcc4)\"}},                        {\"responsive\": true}                    ).then(function(){\n",
       "                            \n",
       "var gd = document.getElementById('6719393a-8f56-41ac-bbee-003a3072ab84');\n",
       "var x = new MutationObserver(function (mutations, observer) {{\n",
       "        var display = window.getComputedStyle(gd).display;\n",
       "        if (!display || display === 'none') {{\n",
       "            console.log([gd, 'removed!']);\n",
       "            Plotly.purge(gd);\n",
       "            observer.disconnect();\n",
       "        }}\n",
       "}});\n",
       "\n",
       "// Listen for the removal of the full notebook cells\n",
       "var notebookContainer = gd.closest('#notebook-container');\n",
       "if (notebookContainer) {{\n",
       "    x.observe(notebookContainer, {childList: true});\n",
       "}}\n",
       "\n",
       "// Listen for the clearing of the current output cell\n",
       "var outputEl = gd.closest('.output');\n",
       "if (outputEl) {{\n",
       "    x.observe(outputEl, {childList: true});\n",
       "}}\n",
       "\n",
       "                        })                };                });            </script>        </div>"
      ]
     },
     "metadata": {},
     "output_type": "display_data"
    }
   ],
   "execution_count": 85
  },
  {
   "metadata": {
    "ExecuteTime": {
     "end_time": "2024-10-27T12:27:38.137795Z",
     "start_time": "2024-10-27T12:27:38.133970Z"
    }
   },
   "cell_type": "code",
   "source": [
    "#전처리를 위한 데이터 가공\n",
    "def convert_age_group_to_numeric(age_group):\n",
    "    if age_group == '10대':\n",
    "        return 10\n",
    "    elif age_group == '20대':\n",
    "        return 20\n",
    "    elif age_group == '30대':\n",
    "        return 30\n",
    "    elif age_group == '40대':\n",
    "        return 40\n",
    "    elif age_group == '50대':\n",
    "        return 50\n",
    "\n",
    "# 변환 적용\n",
    "gym_df['Age_numeric'] = gym_df['Agegroup'].apply(convert_age_group_to_numeric)\n",
    "\n",
    "# 올바르게 인식하기 위한 자료형 변환\n",
    "gym_df['Age_numeric'] = gym_df['Age_numeric'].astype(float) "
   ],
   "id": "ce79ad0473d92991",
   "outputs": [],
   "execution_count": 86
  },
  {
   "metadata": {
    "ExecuteTime": {
     "end_time": "2024-10-27T12:34:56.675800Z",
     "start_time": "2024-10-27T12:34:56.671802Z"
    }
   },
   "cell_type": "code",
   "source": [
    "#성별 float 자료형으로 변환\n",
    "def gendrer_to_numeric(gender):\n",
    "    if gender == 'Male':\n",
    "        return 1\n",
    "    elif gender == 'Female':\n",
    "        return 2\n",
    "\n",
    "gym_df['Gender_numeric'] = gym_df['Gender'].apply(gendrer_to_numeric)\n",
    "\n",
    "gym_df['Gender_numeric'] = gym_df['Gender_numeric'].astype(float)"
   ],
   "id": "318506edbb5e4d3a",
   "outputs": [],
   "execution_count": 107
  },
  {
   "metadata": {
    "ExecuteTime": {
     "end_time": "2024-10-27T12:34:58.418184Z",
     "start_time": "2024-10-27T12:34:58.415680Z"
    }
   },
   "cell_type": "code",
   "source": [
    "def Workout_type_numeric(workout_type):\n",
    "    if workout_type == 'Yoga':\n",
    "        return 1\n",
    "    elif workout_type == 'Cardio':\n",
    "        return 2\n",
    "    elif workout_type == 'HIIT':\n",
    "        return 3\n",
    "    elif _ :\n",
    "        return 4\n",
    "    \n",
    "gym_df['Workout_Type'] = gym_df['Workout_Type'].apply(gendrer_to_numeric)\n",
    "\n",
    "gym_df['Workout_Type'] = gym_df['Workout_Type'].astype(float)"
   ],
   "id": "949d81589aee1d16",
   "outputs": [],
   "execution_count": null
  },
  {
   "metadata": {
    "ExecuteTime": {
     "end_time": "2024-10-27T12:35:52.167670Z",
     "start_time": "2024-10-27T12:35:52.159668Z"
    }
   },
   "cell_type": "code",
   "source": [
    "corr_matrix = gym_df[['Age','Session_Duration (hours)','Calories_Burned','Gender_numeric']].corr(numeric_only=True)\n",
    "corr_matrix"
   ],
   "id": "ee7f79dccb606533",
   "outputs": [
    {
     "data": {
      "text/plain": [
       "                               Age  Session_Duration (hours)  Calories_Burned  \\\n",
       "Age                       1.000000                 -0.019912        -0.154679   \n",
       "Session_Duration (hours) -0.019912                  1.000000         0.908140   \n",
       "Calories_Burned          -0.154679                  0.908140         1.000000   \n",
       "Gender_numeric           -0.027175                  0.012200        -0.150646   \n",
       "\n",
       "                          Gender_numeric  \n",
       "Age                            -0.027175  \n",
       "Session_Duration (hours)        0.012200  \n",
       "Calories_Burned                -0.150646  \n",
       "Gender_numeric                  1.000000  "
      ],
      "text/html": [
       "<div>\n",
       "<style scoped>\n",
       "    .dataframe tbody tr th:only-of-type {\n",
       "        vertical-align: middle;\n",
       "    }\n",
       "\n",
       "    .dataframe tbody tr th {\n",
       "        vertical-align: top;\n",
       "    }\n",
       "\n",
       "    .dataframe thead th {\n",
       "        text-align: right;\n",
       "    }\n",
       "</style>\n",
       "<table border=\"1\" class=\"dataframe\">\n",
       "  <thead>\n",
       "    <tr style=\"text-align: right;\">\n",
       "      <th></th>\n",
       "      <th>Age</th>\n",
       "      <th>Session_Duration (hours)</th>\n",
       "      <th>Calories_Burned</th>\n",
       "      <th>Gender_numeric</th>\n",
       "    </tr>\n",
       "  </thead>\n",
       "  <tbody>\n",
       "    <tr>\n",
       "      <th>Age</th>\n",
       "      <td>1.000000</td>\n",
       "      <td>-0.019912</td>\n",
       "      <td>-0.154679</td>\n",
       "      <td>-0.027175</td>\n",
       "    </tr>\n",
       "    <tr>\n",
       "      <th>Session_Duration (hours)</th>\n",
       "      <td>-0.019912</td>\n",
       "      <td>1.000000</td>\n",
       "      <td>0.908140</td>\n",
       "      <td>0.012200</td>\n",
       "    </tr>\n",
       "    <tr>\n",
       "      <th>Calories_Burned</th>\n",
       "      <td>-0.154679</td>\n",
       "      <td>0.908140</td>\n",
       "      <td>1.000000</td>\n",
       "      <td>-0.150646</td>\n",
       "    </tr>\n",
       "    <tr>\n",
       "      <th>Gender_numeric</th>\n",
       "      <td>-0.027175</td>\n",
       "      <td>0.012200</td>\n",
       "      <td>-0.150646</td>\n",
       "      <td>1.000000</td>\n",
       "    </tr>\n",
       "  </tbody>\n",
       "</table>\n",
       "</div>"
      ]
     },
     "execution_count": 110,
     "metadata": {},
     "output_type": "execute_result"
    }
   ],
   "execution_count": 110
  },
  {
   "metadata": {
    "ExecuteTime": {
     "end_time": "2024-10-27T12:35:55.332586Z",
     "start_time": "2024-10-27T12:35:55.134100Z"
    }
   },
   "cell_type": "code",
   "source": [
    "sns.heatmap(corr_matrix, annot=True, fmt='.2f')\n",
    "plt.title(\"corr_matrix\")\n",
    "plt.show()"
   ],
   "id": "ad448e647f10c92b",
   "outputs": [
    {
     "name": "stderr",
     "output_type": "stream",
     "text": [
      "findfont: Font family 'JejuMyeongjo' not found.\n",
      "findfont: Font family 'JejuMyeongjo' not found.\n",
      "findfont: Font family 'JejuMyeongjo' not found.\n",
      "findfont: Font family 'JejuMyeongjo' not found.\n",
      "findfont: Font family 'JejuMyeongjo' not found.\n",
      "findfont: Font family 'JejuMyeongjo' not found.\n",
      "findfont: Font family 'JejuMyeongjo' not found.\n",
      "findfont: Font family 'JejuMyeongjo' not found.\n",
      "findfont: Font family 'JejuMyeongjo' not found.\n",
      "findfont: Font family 'JejuMyeongjo' not found.\n",
      "findfont: Font family 'JejuMyeongjo' not found.\n",
      "findfont: Font family 'JejuMyeongjo' not found.\n",
      "findfont: Font family 'JejuMyeongjo' not found.\n",
      "findfont: Font family 'JejuMyeongjo' not found.\n",
      "findfont: Font family 'JejuMyeongjo' not found.\n",
      "findfont: Font family 'JejuMyeongjo' not found.\n",
      "findfont: Font family 'JejuMyeongjo' not found.\n",
      "findfont: Font family 'JejuMyeongjo' not found.\n",
      "findfont: Font family 'JejuMyeongjo' not found.\n",
      "findfont: Font family 'JejuMyeongjo' not found.\n",
      "findfont: Font family 'JejuMyeongjo' not found.\n",
      "findfont: Font family 'JejuMyeongjo' not found.\n",
      "findfont: Font family 'JejuMyeongjo' not found.\n",
      "findfont: Font family 'JejuMyeongjo' not found.\n",
      "findfont: Font family 'JejuMyeongjo' not found.\n",
      "findfont: Font family 'JejuMyeongjo' not found.\n",
      "findfont: Font family 'JejuMyeongjo' not found.\n",
      "findfont: Font family 'JejuMyeongjo' not found.\n",
      "findfont: Font family 'JejuMyeongjo' not found.\n",
      "findfont: Font family 'JejuMyeongjo' not found.\n",
      "findfont: Font family 'JejuMyeongjo' not found.\n",
      "findfont: Font family 'JejuMyeongjo' not found.\n",
      "findfont: Font family 'JejuMyeongjo' not found.\n",
      "findfont: Font family 'JejuMyeongjo' not found.\n",
      "findfont: Font family 'JejuMyeongjo' not found.\n",
      "findfont: Font family 'JejuMyeongjo' not found.\n",
      "findfont: Font family 'JejuMyeongjo' not found.\n",
      "findfont: Font family 'JejuMyeongjo' not found.\n",
      "findfont: Font family 'JejuMyeongjo' not found.\n",
      "findfont: Font family 'JejuMyeongjo' not found.\n",
      "findfont: Font family 'JejuMyeongjo' not found.\n",
      "findfont: Font family 'JejuMyeongjo' not found.\n",
      "findfont: Font family 'JejuMyeongjo' not found.\n",
      "findfont: Font family 'JejuMyeongjo' not found.\n",
      "findfont: Font family 'JejuMyeongjo' not found.\n",
      "findfont: Font family 'JejuMyeongjo' not found.\n",
      "findfont: Font family 'JejuMyeongjo' not found.\n",
      "findfont: Font family 'JejuMyeongjo' not found.\n",
      "findfont: Font family 'JejuMyeongjo' not found.\n",
      "findfont: Font family 'JejuMyeongjo' not found.\n",
      "findfont: Font family 'JejuMyeongjo' not found.\n",
      "findfont: Font family 'JejuMyeongjo' not found.\n",
      "findfont: Font family 'JejuMyeongjo' not found.\n",
      "findfont: Font family 'JejuMyeongjo' not found.\n",
      "findfont: Font family 'JejuMyeongjo' not found.\n",
      "findfont: Font family 'JejuMyeongjo' not found.\n",
      "findfont: Font family 'JejuMyeongjo' not found.\n",
      "findfont: Font family 'JejuMyeongjo' not found.\n",
      "findfont: Font family 'JejuMyeongjo' not found.\n",
      "findfont: Font family 'JejuMyeongjo' not found.\n",
      "findfont: Font family 'JejuMyeongjo' not found.\n",
      "findfont: Font family 'JejuMyeongjo' not found.\n",
      "findfont: Font family 'JejuMyeongjo' not found.\n",
      "findfont: Font family 'JejuMyeongjo' not found.\n",
      "findfont: Font family 'JejuMyeongjo' not found.\n",
      "findfont: Font family 'JejuMyeongjo' not found.\n",
      "findfont: Font family 'JejuMyeongjo' not found.\n",
      "findfont: Font family 'JejuMyeongjo' not found.\n",
      "findfont: Font family 'JejuMyeongjo' not found.\n",
      "findfont: Font family 'JejuMyeongjo' not found.\n",
      "findfont: Font family 'JejuMyeongjo' not found.\n",
      "findfont: Font family 'JejuMyeongjo' not found.\n",
      "findfont: Font family 'JejuMyeongjo' not found.\n",
      "findfont: Font family 'JejuMyeongjo' not found.\n",
      "findfont: Font family 'JejuMyeongjo' not found.\n",
      "findfont: Font family 'JejuMyeongjo' not found.\n",
      "findfont: Font family 'JejuMyeongjo' not found.\n",
      "findfont: Font family 'JejuMyeongjo' not found.\n",
      "findfont: Font family 'JejuMyeongjo' not found.\n",
      "findfont: Font family 'JejuMyeongjo' not found.\n",
      "findfont: Font family 'JejuMyeongjo' not found.\n",
      "findfont: Font family 'JejuMyeongjo' not found.\n",
      "findfont: Font family 'JejuMyeongjo' not found.\n"
     ]
    },
    {
     "data": {
      "text/plain": [
       "<Figure size 640x480 with 2 Axes>"
      ],
      "image/png": "[encoded data removed]"
     },
     "metadata": {},
     "output_type": "display_data"
    }
   ],
   "execution_count": 111
  },
  {
   "metadata": {
    "ExecuteTime": {
     "end_time": "2024-10-27T12:27:38.746421Z",
     "start_time": "2024-10-27T12:27:38.741358Z"
    }
   },
   "cell_type": "code",
   "source": [
    "X = gym_df[['Age_numeric','Session_Duration (hours)','Calories_Burned','Gender_numeric']]\n",
    "y = gym_df['Workout_Type']\n",
    "X.shape, y.shape"
   ],
   "id": "16ea3af874e8de7d",
   "outputs": [
    {
     "data": {
      "text/plain": [
       "((973, 4), (973,))"
      ]
     },
     "execution_count": 91,
     "metadata": {},
     "output_type": "execute_result"
    }
   ],
   "execution_count": 91
  },
  {
   "metadata": {
    "ExecuteTime": {
     "end_time": "2024-10-27T12:27:38.821567Z",
     "start_time": "2024-10-27T12:27:38.818877Z"
    }
   },
   "cell_type": "code",
   "source": [
    "from sklearn.pipeline import Pipeline\n",
    "from sklearn.preprocessing import StandardScaler,MinMaxScaler\n",
    "from sklearn.model_selection import train_test_split\n",
    "from sklearn.linear_model import LogisticRegression\n"
   ],
   "id": "652a357b8e95c2b",
   "outputs": [],
   "execution_count": 92
  },
  {
   "metadata": {
    "ExecuteTime": {
     "end_time": "2024-10-27T12:27:38.899516Z",
     "start_time": "2024-10-27T12:27:38.894773Z"
    }
   },
   "cell_type": "code",
   "source": [
    "# 훈련 / 테스트 데이터 분리\n",
    "\n",
    "X_train, X_test, y_train, y_test = train_test_split(X,y,random_state=42)\n",
    "X_train.shape, X_test.shape, y_train.shape, y_test.shape"
   ],
   "id": "772b8bc198a1c112",
   "outputs": [
    {
     "data": {
      "text/plain": [
       "((729, 4), (244, 4), (729,), (244,))"
      ]
     },
     "execution_count": 93,
     "metadata": {},
     "output_type": "execute_result"
    }
   ],
   "execution_count": 93
  },
  {
   "metadata": {
    "ExecuteTime": {
     "end_time": "2024-10-27T12:27:38.977113Z",
     "start_time": "2024-10-27T12:27:38.971106Z"
    }
   },
   "cell_type": "code",
   "source": [
    "\n",
    "scaler = StandardScaler()\n",
    "\n",
    "X_train_scaled = scaler.fit_transform(X_train)\n",
    "X_test_scaled = scaler.transform(X_test)"
   ],
   "id": "53993a031f4e7a05",
   "outputs": [],
   "execution_count": 94
  },
  {
   "metadata": {
    "ExecuteTime": {
     "end_time": "2024-10-27T12:27:39.513208Z",
     "start_time": "2024-10-27T12:27:39.049285Z"
    }
   },
   "cell_type": "code",
   "source": [
    "#점수\n",
    "lr = LogisticRegression(max_iter=100000)\n",
    "lr.fit(X_train, y_train)\n",
    "print(lr.score(X_train_scaled, y_train),lr.score(X_test_scaled, y_test))\n"
   ],
   "id": "b706c631f970c26a",
   "outputs": [
    {
     "name": "stdout",
     "output_type": "stream",
     "text": [
      "0.26474622770919065 0.2786885245901639\n"
     ]
    },
    {
     "name": "stderr",
     "output_type": "stream",
     "text": [
      "C:\\Users\\w1945\\anaconda3\\Lib\\site-packages\\sklearn\\base.py:493: UserWarning:\n",
      "\n",
      "X does not have valid feature names, but LogisticRegression was fitted with feature names\n",
      "\n",
      "C:\\Users\\w1945\\anaconda3\\Lib\\site-packages\\sklearn\\base.py:493: UserWarning:\n",
      "\n",
      "X does not have valid feature names, but LogisticRegression was fitted with feature names\n",
      "\n",
      "C:\\Users\\w1945\\anaconda3\\Lib\\site-packages\\sklearn\\base.py:493: UserWarning:\n",
      "\n",
      "X does not have valid feature names, but LogisticRegression was fitted with feature names\n",
      "\n"
     ]
    },
    {
     "data": {
      "text/plain": [
       "array(['Cardio', 'Yoga', 'Cardio', 'Cardio', 'Yoga', 'Strength', 'Cardio',\n",
       "       'Cardio', 'Cardio', 'Cardio', 'Strength', 'Cardio', 'Cardio',\n",
       "       'Cardio', 'Cardio', 'Cardio', 'Cardio', 'Strength', 'Cardio',\n",
       "       'Cardio', 'Cardio', 'Cardio', 'Cardio', 'Cardio', 'Cardio',\n",
       "       'Cardio', 'Cardio', 'Cardio', 'Cardio', 'Cardio', 'Cardio',\n",
       "       'Cardio', 'Cardio', 'Strength', 'Strength', 'Yoga', 'Cardio',\n",
       "       'Cardio', 'Cardio', 'Cardio', 'Cardio', 'Cardio', 'Cardio',\n",
       "       'Cardio', 'Cardio', 'Cardio', 'Cardio', 'Cardio', 'Cardio',\n",
       "       'Cardio', 'Cardio', 'Strength', 'Cardio', 'Cardio', 'Cardio',\n",
       "       'Strength', 'Cardio', 'Cardio', 'Cardio', 'Cardio', 'Cardio',\n",
       "       'Cardio', 'Yoga', 'Yoga', 'Cardio', 'Cardio', 'Cardio', 'Strength',\n",
       "       'Cardio', 'Yoga', 'Yoga', 'Cardio', 'Cardio', 'Yoga', 'Yoga',\n",
       "       'Cardio', 'Cardio', 'Cardio', 'Cardio', 'Strength', 'Cardio',\n",
       "       'Cardio', 'Cardio', 'Strength', 'Cardio', 'Cardio', 'Cardio',\n",
       "       'Cardio', 'Cardio', 'Cardio', 'Cardio', 'Cardio', 'Yoga', 'Yoga',\n",
       "       'Cardio', 'Cardio', 'Cardio', 'Cardio', 'Cardio', 'Yoga', 'Cardio',\n",
       "       'Yoga', 'Cardio', 'Cardio', 'Yoga', 'Yoga', 'Cardio', 'Yoga',\n",
       "       'Cardio', 'Yoga', 'Cardio', 'Cardio', 'Cardio', 'Cardio', 'Yoga',\n",
       "       'Cardio', 'Cardio', 'Cardio', 'Cardio', 'Cardio', 'Cardio',\n",
       "       'Cardio', 'Cardio', 'Cardio', 'Yoga', 'Cardio', 'Strength',\n",
       "       'Cardio', 'Cardio', 'Cardio', 'Cardio', 'Cardio', 'Cardio',\n",
       "       'Cardio', 'Yoga', 'Cardio', 'Yoga', 'Strength', 'Cardio', 'Cardio',\n",
       "       'Cardio', 'Cardio', 'Cardio', 'Cardio', 'Cardio', 'Cardio',\n",
       "       'Cardio', 'Yoga', 'Strength', 'Cardio', 'Cardio', 'Cardio', 'Yoga',\n",
       "       'Cardio', 'Cardio', 'Cardio', 'Cardio', 'Cardio', 'Strength',\n",
       "       'Yoga', 'Yoga', 'Cardio', 'Cardio', 'Cardio', 'Cardio', 'Cardio',\n",
       "       'Cardio', 'Cardio', 'Cardio', 'Cardio', 'Cardio', 'Cardio',\n",
       "       'Cardio', 'Cardio', 'Cardio', 'Strength', 'Cardio', 'Cardio',\n",
       "       'Cardio', 'Cardio', 'Cardio', 'Cardio', 'Cardio', 'Cardio',\n",
       "       'Cardio', 'Cardio', 'Cardio', 'Cardio', 'Cardio', 'Cardio',\n",
       "       'Cardio', 'Cardio', 'Cardio', 'Cardio', 'Yoga', 'Cardio', 'Cardio',\n",
       "       'Cardio', 'Cardio', 'Cardio', 'Strength', 'Cardio', 'Cardio',\n",
       "       'Cardio', 'Cardio', 'Yoga', 'Cardio', 'Cardio', 'Cardio', 'Cardio',\n",
       "       'Cardio', 'Cardio', 'Cardio', 'Cardio', 'Cardio', 'Cardio',\n",
       "       'Cardio', 'Cardio', 'Strength', 'Cardio', 'Cardio', 'Cardio',\n",
       "       'Cardio', 'Cardio', 'Cardio', 'Cardio', 'Strength', 'Cardio',\n",
       "       'Cardio', 'Cardio', 'Cardio', 'Cardio', 'Cardio', 'Cardio', 'Yoga',\n",
       "       'Cardio', 'Yoga', 'Cardio', 'Yoga', 'Cardio', 'Cardio', 'Cardio',\n",
       "       'Cardio', 'Cardio'], dtype=object)"
      ]
     },
     "execution_count": 95,
     "metadata": {},
     "output_type": "execute_result"
    }
   ],
   "execution_count": 95
  }
 ],
 "metadata": {
  "kernelspec": {
   "display_name": "Python 3",
   "language": "python",
   "name": "python3"
  },
  "language_info": {
   "codemirror_mode": {
    "name": "ipython",
    "version": 2
   },
   "file_extension": ".py",
   "mimetype": "text/x-python",
   "name": "python",
   "nbconvert_exporter": "python",
   "pygments_lexer": "ipython2",
   "version": "2.7.6"
  }
 },
 "nbformat": 4,
 "nbformat_minor": 5
}
